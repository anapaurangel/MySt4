{
 "cells": [
  {
   "cell_type": "markdown",
   "metadata": {},
   "source": [
    "<img src=\"http://oci02.img.iteso.mx/identidad_de_instancia_2018/ITESO/Logos%20ITESO/Logo-ITESO-Principal.jpg\">"
   ]
  },
  {
   "cell_type": "markdown",
   "metadata": {},
   "source": [
    "<center><font color= #004A94> <font size = 6> Ingeniería Financiera </font> <br>"
   ]
  },
  {
   "cell_type": "markdown",
   "metadata": {},
   "source": [
    "<center> <font color= #004A94> <font size = 5> Microestructura y Sistemas de Trading </font> <br> <br> <font color= #047CFB> <font size = 5> Gallardo José Raúl </font> <br> <br> <font color= #047CFB> <font size = 5> Quintero José Antonio </font>  <br> <br> <font color= #047CFB> <font size = 5> Rangel Ana Paula </font> <br> <br> <font color= #047CFB> <font size = 5> Rodríguez Paulina </font>   "
   ]
  },
  {
   "cell_type": "markdown",
   "metadata": {},
   "source": [
    "<center><font color= #42c29b> <font size = 6> Proyecto Final </font> <br> <br> <font color= #047CFB> <font size = 5>Repositorio: <a href='https://github.com/anapaurangel/MySt4'>Link</a></font>"
   ]
  },
  {
   "cell_type": "markdown",
   "metadata": {},
   "source": [
    "## Fecha: 8 de diciembre de 2019\n",
    "\n",
    "El propósito: Diseñar una estrategia de trading con base a la reacción del precio ante el comunicado de indicadores macroeconómicos (Análisis fundamental)."
   ]
  },
  {
   "cell_type": "markdown",
   "metadata": {},
   "source": [
    "### Introducción \n",
    "\n",
    ">En la actualidad existen diversos sectores económicos, por lo que no se puede hablar de reglas o criterios generales para un análisis. \n",
    "\n",
    "> El análisis fundamental o macroeconómico se centra en el estudio de eventos financieros que pueden afectar la oferta y la demanda de las divisas. Es utilizado por analistas e inversores para estudiar los mercados financieros y tratar de predecir los movimientos del precio de los diversos instrumentos financieros.\n",
    "\n",
    "> Abarca la revisión de los indicadores macroeconómicos, los mercados de valores y los acontecimientos políticos ya que estos últimos influyen en la confianza en los gobiernos y el clima de estabilidad de los países.\n",
    "Se centra en las causas de los movimientos del precio, como por ejemplo noticias y sucesos relacionados con la economía y la política, principalmente de las principales economías a nivel mundial.\n",
    "\n",
    "> Considera todos los datos disponibles para ayudarle a determinar el valor relativo de un mercado. Después buscan discrepancias entre el precio actual del mercado y sus propias valoraciones para localizar las oportunidades de trading.\n",
    "\n",
    ">El objetivo de realizar este tipo de análisis es descubrir el verdadero valor de un activo, compararlo con el precio actual y encontrar una oportunidad de negociación. \n"
   ]
  },
  {
   "cell_type": "markdown",
   "metadata": {},
   "source": [
    "1. Utiliza el archivo de precios historicos\n",
    "\n",
    "2. Utiliza el archivo de calendario economico\n",
    "\n",
    "3. Divide los datos de la siguiente manera:\n",
    "\n",
    "    o Periodo de prueba: 01/ene/2019\n",
    "\n",
    "    o Periodo de entrenamiento: 01/mayo/2009 - 01/dic/2018 \n",
    "    \n",
    "#### Reacción al precio\n",
    "\n",
    "    o A Actual >= Consensus >= Previous\n",
    "\n",
    "    o B Actual >= Consensus < Previous\n",
    "\n",
    "    o C Actual < Consensus >= Previous\n",
    "\n",
    "    o D Actual < Consensus < Previous \n",
    "    \n",
    " #### Métricas de cada  escenario\n",
    " \n",
    "    o (Dirección) Close (t_30) - Open(t_0)\n",
    "\n",
    "    o (Pips Alcistas) High(t_0 : t_30) – Open(t_0)\n",
    "\n",
    "    o (Pips Bajistas) Open(t_0) – Low(t_0 : t_30)\n",
    "\n",
    "    o (Volatilidad) High(t_-30 : t_30) , - mínimo low (t_-30:t_30) "
   ]
  },
  {
   "cell_type": "code",
   "execution_count": 1,
   "metadata": {},
   "outputs": [],
   "source": [
    "import pandas as pd\n",
    "import numpy as np\n",
    "import plotly.graph_objs as go\n",
    "from plotly.subplots import make_subplots\n",
    "from plotly.offline import download_plotlyjs, init_notebook_mode, plot, iplot\n",
    "import plotly.offline as py"
   ]
  },
  {
   "cell_type": "markdown",
   "metadata": {},
   "source": [
    "## Importando datos"
   ]
  },
  {
   "cell_type": "markdown",
   "metadata": {},
   "source": [
    "#### Calendario económico"
   ]
  },
  {
   "cell_type": "code",
   "execution_count": 2,
   "metadata": {
    "scrolled": true
   },
   "outputs": [
    {
     "data": {
      "text/html": [
       "<div>\n",
       "<style scoped>\n",
       "    .dataframe tbody tr th:only-of-type {\n",
       "        vertical-align: middle;\n",
       "    }\n",
       "\n",
       "    .dataframe tbody tr th {\n",
       "        vertical-align: top;\n",
       "    }\n",
       "\n",
       "    .dataframe thead th {\n",
       "        text-align: right;\n",
       "    }\n",
       "</style>\n",
       "<table border=\"1\" class=\"dataframe\">\n",
       "  <thead>\n",
       "    <tr style=\"text-align: right;\">\n",
       "      <th></th>\n",
       "      <th>timestamp</th>\n",
       "      <th>Currency</th>\n",
       "      <th>Name</th>\n",
       "      <th>Country</th>\n",
       "      <th>Volatility</th>\n",
       "      <th>actual</th>\n",
       "      <th>previous</th>\n",
       "      <th>consensus</th>\n",
       "    </tr>\n",
       "  </thead>\n",
       "  <tbody>\n",
       "    <tr>\n",
       "      <th>0</th>\n",
       "      <td>2009-01-05 09:30:00+00:00</td>\n",
       "      <td>EUR</td>\n",
       "      <td>Sentix Investor Confidence</td>\n",
       "      <td>European Monetary Union</td>\n",
       "      <td>1</td>\n",
       "      <td>-34.4</td>\n",
       "      <td>-42.3</td>\n",
       "      <td>NaN</td>\n",
       "    </tr>\n",
       "    <tr>\n",
       "      <th>1</th>\n",
       "      <td>2009-01-05 15:00:00+00:00</td>\n",
       "      <td>USD</td>\n",
       "      <td>Construction Spending (MoM)</td>\n",
       "      <td>United States</td>\n",
       "      <td>1</td>\n",
       "      <td>-1.2</td>\n",
       "      <td>-0.4</td>\n",
       "      <td>-1.3</td>\n",
       "    </tr>\n",
       "    <tr>\n",
       "      <th>2</th>\n",
       "      <td>2009-01-06 08:55:00+00:00</td>\n",
       "      <td>EUR</td>\n",
       "      <td>Markit Services PMI</td>\n",
       "      <td>Germany</td>\n",
       "      <td>1</td>\n",
       "      <td>46.6</td>\n",
       "      <td>46.4</td>\n",
       "      <td>46.4</td>\n",
       "    </tr>\n",
       "    <tr>\n",
       "      <th>3</th>\n",
       "      <td>2009-01-06 09:00:00+00:00</td>\n",
       "      <td>EUR</td>\n",
       "      <td>Markit Services PMI</td>\n",
       "      <td>European Monetary Union</td>\n",
       "      <td>0</td>\n",
       "      <td>42.1</td>\n",
       "      <td>42.0</td>\n",
       "      <td>42.0</td>\n",
       "    </tr>\n",
       "    <tr>\n",
       "      <th>4</th>\n",
       "      <td>2009-01-06 10:00:00+00:00</td>\n",
       "      <td>EUR</td>\n",
       "      <td>Consumer Price Index (YoY)</td>\n",
       "      <td>European Monetary Union</td>\n",
       "      <td>2</td>\n",
       "      <td>1.6</td>\n",
       "      <td>2.1</td>\n",
       "      <td>1.8</td>\n",
       "    </tr>\n",
       "  </tbody>\n",
       "</table>\n",
       "</div>"
      ],
      "text/plain": [
       "                  timestamp Currency                         Name  \\\n",
       "0 2009-01-05 09:30:00+00:00      EUR   Sentix Investor Confidence   \n",
       "1 2009-01-05 15:00:00+00:00      USD  Construction Spending (MoM)   \n",
       "2 2009-01-06 08:55:00+00:00      EUR          Markit Services PMI   \n",
       "3 2009-01-06 09:00:00+00:00      EUR          Markit Services PMI   \n",
       "4 2009-01-06 10:00:00+00:00      EUR   Consumer Price Index (YoY)   \n",
       "\n",
       "                   Country  Volatility  actual  previous  consensus  \n",
       "0  European Monetary Union           1   -34.4     -42.3        NaN  \n",
       "1            United States           1    -1.2      -0.4       -1.3  \n",
       "2                  Germany           1    46.6      46.4       46.4  \n",
       "3  European Monetary Union           0    42.1      42.0       42.0  \n",
       "4  European Monetary Union           2     1.6       2.1        1.8  "
      ]
     },
     "execution_count": 2,
     "metadata": {},
     "output_type": "execute_result"
    }
   ],
   "source": [
    "data = pd.read_csv('../MySt4/calendario_economico.csv',header=0, index_col=None, parse_dates=False)\n",
    "data['timestamp'] = [pd.to_datetime(data.iat[i,0]).tz_localize('GMT') for i in range(len(data))] # Timestamp a 'GMT'\n",
    "data.head()"
   ]
  },
  {
   "cell_type": "markdown",
   "metadata": {},
   "source": [
    "#### Precios eur/usd"
   ]
  },
  {
   "cell_type": "code",
   "execution_count": 3,
   "metadata": {},
   "outputs": [
    {
     "data": {
      "text/html": [
       "<div>\n",
       "<style scoped>\n",
       "    .dataframe tbody tr th:only-of-type {\n",
       "        vertical-align: middle;\n",
       "    }\n",
       "\n",
       "    .dataframe tbody tr th {\n",
       "        vertical-align: top;\n",
       "    }\n",
       "\n",
       "    .dataframe thead th {\n",
       "        text-align: right;\n",
       "    }\n",
       "</style>\n",
       "<table border=\"1\" class=\"dataframe\">\n",
       "  <thead>\n",
       "    <tr style=\"text-align: right;\">\n",
       "      <th></th>\n",
       "      <th>timestamp</th>\n",
       "      <th>open</th>\n",
       "      <th>high</th>\n",
       "      <th>low</th>\n",
       "      <th>close</th>\n",
       "    </tr>\n",
       "  </thead>\n",
       "  <tbody>\n",
       "    <tr>\n",
       "      <th>0</th>\n",
       "      <td>2009-01-06 05:00:00+00:00</td>\n",
       "      <td>1.35564</td>\n",
       "      <td>1.35565</td>\n",
       "      <td>1.35383</td>\n",
       "      <td>1.35439</td>\n",
       "    </tr>\n",
       "    <tr>\n",
       "      <th>1</th>\n",
       "      <td>2009-01-06 05:05:00+00:00</td>\n",
       "      <td>1.35443</td>\n",
       "      <td>1.35489</td>\n",
       "      <td>1.35424</td>\n",
       "      <td>1.35474</td>\n",
       "    </tr>\n",
       "    <tr>\n",
       "      <th>2</th>\n",
       "      <td>2009-01-06 05:10:00+00:00</td>\n",
       "      <td>1.35480</td>\n",
       "      <td>1.35552</td>\n",
       "      <td>1.35439</td>\n",
       "      <td>1.35539</td>\n",
       "    </tr>\n",
       "    <tr>\n",
       "      <th>3</th>\n",
       "      <td>2009-01-06 05:15:00+00:00</td>\n",
       "      <td>1.35545</td>\n",
       "      <td>1.35549</td>\n",
       "      <td>1.35101</td>\n",
       "      <td>1.35101</td>\n",
       "    </tr>\n",
       "    <tr>\n",
       "      <th>4</th>\n",
       "      <td>2009-01-06 05:20:00+00:00</td>\n",
       "      <td>1.35101</td>\n",
       "      <td>1.35130</td>\n",
       "      <td>1.35021</td>\n",
       "      <td>1.35086</td>\n",
       "    </tr>\n",
       "  </tbody>\n",
       "</table>\n",
       "</div>"
      ],
      "text/plain": [
       "                  timestamp     open     high      low    close\n",
       "0 2009-01-06 05:00:00+00:00  1.35564  1.35565  1.35383  1.35439\n",
       "1 2009-01-06 05:05:00+00:00  1.35443  1.35489  1.35424  1.35474\n",
       "2 2009-01-06 05:10:00+00:00  1.35480  1.35552  1.35439  1.35539\n",
       "3 2009-01-06 05:15:00+00:00  1.35545  1.35549  1.35101  1.35101\n",
       "4 2009-01-06 05:20:00+00:00  1.35101  1.35130  1.35021  1.35086"
      ]
     },
     "execution_count": 3,
     "metadata": {},
     "output_type": "execute_result"
    }
   ],
   "source": [
    "p = pd.read_csv('../MySt4/precios_historicos_eurusd.csv',header=0, index_col=None, parse_dates=False)\n",
    "p['timestamp'] = [pd.to_datetime(p.iat[i,0]).tz_localize('GMT') for i in range(len(p))] # Timestamp a 'GMT'\n",
    "p.head()"
   ]
  },
  {
   "cell_type": "markdown",
   "metadata": {},
   "source": [
    "## Selección de indicadores"
   ]
  },
  {
   "cell_type": "markdown",
   "metadata": {},
   "source": [
    "### DataFrame para indicador de USD 'Factory Orders (MoM)'"
   ]
  },
  {
   "cell_type": "markdown",
   "metadata": {},
   "source": [
    "##### Descripción del indicador \n",
    "> Emitidos por la Oficina de Censo de EE.UU\n",
    "Los pedidos de fabrica son una medida del total de pedidos de bienes duraderos y no duraderos, como envíos (ventas), inventarios y pedidos a nivel de fabricación que pueden ofrecer información sobre la inflación y el crecimiento en el sector manufacturero.\n",
    "\n",
    "##### Una lectura alta se ve como positiva (o alcista) para el USD, mientras que una lectura baja se ve como negativa (o bajista)."
   ]
  },
  {
   "cell_type": "code",
   "execution_count": 6,
   "metadata": {
    "scrolled": true
   },
   "outputs": [],
   "source": [
    "# Creando dataframe con indicadores deseados\n",
    "df_usa = data[(data['Country'] == \"United States\") & (data['Name'] == \"Factory Orders (MoM)\")].reset_index() # Filtrando DataFrame\n",
    "df_usa = df_usa.drop(['index'], 1) # Eliminando columna de index viejo"
   ]
  },
  {
   "cell_type": "code",
   "execution_count": 7,
   "metadata": {
    "scrolled": true
   },
   "outputs": [],
   "source": [
    "idx = df_usa[df_usa['consensus'].isna()].index # Encontrando row de los NaN en 'Consensus'\n",
    "df_usa.iloc[idx,7] = df_usa.iloc[idx,6] # Reemplazando 'Consensus' con 'Previous'"
   ]
  },
  {
   "cell_type": "code",
   "execution_count": 8,
   "metadata": {
    "scrolled": false
   },
   "outputs": [
    {
     "data": {
      "text/html": [
       "<div>\n",
       "<style scoped>\n",
       "    .dataframe tbody tr th:only-of-type {\n",
       "        vertical-align: middle;\n",
       "    }\n",
       "\n",
       "    .dataframe tbody tr th {\n",
       "        vertical-align: top;\n",
       "    }\n",
       "\n",
       "    .dataframe thead th {\n",
       "        text-align: right;\n",
       "    }\n",
       "</style>\n",
       "<table border=\"1\" class=\"dataframe\">\n",
       "  <thead>\n",
       "    <tr style=\"text-align: right;\">\n",
       "      <th></th>\n",
       "      <th>timestamp</th>\n",
       "      <th>Currency</th>\n",
       "      <th>Name</th>\n",
       "      <th>Country</th>\n",
       "      <th>Volatility</th>\n",
       "      <th>actual</th>\n",
       "      <th>previous</th>\n",
       "      <th>consensus</th>\n",
       "      <th>escenario</th>\n",
       "      <th>direccion</th>\n",
       "      <th>pips alcistas</th>\n",
       "      <th>pips bajistas</th>\n",
       "      <th>volatilidad</th>\n",
       "    </tr>\n",
       "  </thead>\n",
       "  <tbody>\n",
       "    <tr>\n",
       "      <th>0</th>\n",
       "      <td>2009-01-06 15:00:00+00:00</td>\n",
       "      <td>USD</td>\n",
       "      <td>Factory Orders (MoM)</td>\n",
       "      <td>United States</td>\n",
       "      <td>2</td>\n",
       "      <td>-6.5</td>\n",
       "      <td>-6.0</td>\n",
       "      <td>-2.3</td>\n",
       "      <td>C</td>\n",
       "      <td></td>\n",
       "      <td></td>\n",
       "      <td></td>\n",
       "      <td></td>\n",
       "    </tr>\n",
       "    <tr>\n",
       "      <th>1</th>\n",
       "      <td>2009-02-05 15:00:00+00:00</td>\n",
       "      <td>USD</td>\n",
       "      <td>Factory Orders (MoM)</td>\n",
       "      <td>United States</td>\n",
       "      <td>2</td>\n",
       "      <td>-4.9</td>\n",
       "      <td>-6.5</td>\n",
       "      <td>-3.0</td>\n",
       "      <td>C</td>\n",
       "      <td></td>\n",
       "      <td></td>\n",
       "      <td></td>\n",
       "      <td></td>\n",
       "    </tr>\n",
       "    <tr>\n",
       "      <th>2</th>\n",
       "      <td>2009-03-05 15:00:00+00:00</td>\n",
       "      <td>USD</td>\n",
       "      <td>Factory Orders (MoM)</td>\n",
       "      <td>United States</td>\n",
       "      <td>2</td>\n",
       "      <td>-3.5</td>\n",
       "      <td>-4.9</td>\n",
       "      <td>-2.0</td>\n",
       "      <td>C</td>\n",
       "      <td></td>\n",
       "      <td></td>\n",
       "      <td></td>\n",
       "      <td></td>\n",
       "    </tr>\n",
       "    <tr>\n",
       "      <th>3</th>\n",
       "      <td>2009-04-02 14:00:00+00:00</td>\n",
       "      <td>USD</td>\n",
       "      <td>Factory Orders (MoM)</td>\n",
       "      <td>United States</td>\n",
       "      <td>2</td>\n",
       "      <td>0.7</td>\n",
       "      <td>-3.5</td>\n",
       "      <td>-1.3</td>\n",
       "      <td>A</td>\n",
       "      <td></td>\n",
       "      <td></td>\n",
       "      <td></td>\n",
       "      <td></td>\n",
       "    </tr>\n",
       "    <tr>\n",
       "      <th>4</th>\n",
       "      <td>2009-05-01 14:00:00+00:00</td>\n",
       "      <td>USD</td>\n",
       "      <td>Factory Orders (MoM)</td>\n",
       "      <td>United States</td>\n",
       "      <td>2</td>\n",
       "      <td>-0.9</td>\n",
       "      <td>0.7</td>\n",
       "      <td>-0.7</td>\n",
       "      <td>D</td>\n",
       "      <td></td>\n",
       "      <td></td>\n",
       "      <td></td>\n",
       "      <td></td>\n",
       "    </tr>\n",
       "  </tbody>\n",
       "</table>\n",
       "</div>"
      ],
      "text/plain": [
       "                  timestamp Currency                  Name        Country  \\\n",
       "0 2009-01-06 15:00:00+00:00      USD  Factory Orders (MoM)  United States   \n",
       "1 2009-02-05 15:00:00+00:00      USD  Factory Orders (MoM)  United States   \n",
       "2 2009-03-05 15:00:00+00:00      USD  Factory Orders (MoM)  United States   \n",
       "3 2009-04-02 14:00:00+00:00      USD  Factory Orders (MoM)  United States   \n",
       "4 2009-05-01 14:00:00+00:00      USD  Factory Orders (MoM)  United States   \n",
       "\n",
       "   Volatility  actual  previous  consensus escenario direccion pips alcistas  \\\n",
       "0           2    -6.5      -6.0       -2.3         C                           \n",
       "1           2    -4.9      -6.5       -3.0         C                           \n",
       "2           2    -3.5      -4.9       -2.0         C                           \n",
       "3           2     0.7      -3.5       -1.3         A                           \n",
       "4           2    -0.9       0.7       -0.7         D                           \n",
       "\n",
       "  pips bajistas volatilidad  \n",
       "0                            \n",
       "1                            \n",
       "2                            \n",
       "3                            \n",
       "4                            "
      ]
     },
     "execution_count": 8,
     "metadata": {},
     "output_type": "execute_result"
    }
   ],
   "source": [
    "df_usa['escenario'] = ['A' if (df_usa['actual'][i] >= df_usa['consensus'][i]) & (df_usa['consensus'][i] >= df_usa['previous'][i]) \n",
    "                       else 'B' if (df_usa['actual'][i] >= df_usa['consensus'][i]) & (df_usa['consensus'][i] < df_usa['previous'][i]) \n",
    "                       else 'C' if (df_usa['actual'][i] < df_usa['consensus'][i]) & (df_usa['consensus'][i] >= df_usa['previous'][i])\n",
    "                       else 'D' if (df_usa['actual'][i] < df_usa['consensus'][i]) & (df_usa['consensus'][i] < df_usa['previous'][i])\n",
    "                       else 'None' for i in range(len(df_usa))] # Escenarios del calendario economico\n",
    "df_usa['direccion'], df_usa['pips alcistas'], df_usa['pips bajistas'], df_usa['volatilidad'] = [\"\",\"\",\"\",\"\"] # Creando columnas de metricos\n",
    "df_usa.head()"
   ]
  },
  {
   "cell_type": "code",
   "execution_count": 9,
   "metadata": {},
   "outputs": [],
   "source": [
    "df = pd.DataFrame(columns=['timestamp','actual','previous','consensus'])\n",
    "df['timestamp'] = df_usa['timestamp']\n",
    "df['actual'] = df_usa['actual']\n",
    "df['previous'] = df_usa['previous']\n",
    "df['consensus'] = df_usa['consensus']\n",
    "df_train = df[df['timestamp']<'2019-01-01 00:00:00+0000']\n",
    "df_train = df_train.set_index('timestamp')\n",
    "df_test = df[df['timestamp']>'2019-01-01 00:00:00+0000']\n",
    "df_test = df_test.set_index('timestamp')"
   ]
  },
  {
   "cell_type": "code",
   "execution_count": 10,
   "metadata": {},
   "outputs": [],
   "source": [
    "def g_boxplot_varios(p0_data):\n",
    "    \"\"\"\n",
    "    :param p0_data: DataFrame : Data frame con 3 columnas con datos numericos, 1 columna por boxplot\n",
    "    :return:\n",
    "    debugging\n",
    "    p0_data = pd.DataFrame({'var1': list(np.random.normal(0,1,12)),\n",
    "                            'var2': list(np.random.normal(0,1,12)),\n",
    "                            'var3': list(np.random.normal(0,1,12))})\n",
    "    \"\"\"\n",
    "\n",
    "    x_data = list(p0_data.columns)\n",
    "    y_data = [p0_data.iloc[:, i]/max(p0_data.iloc[:, i]) for i in range(0, len(list(p0_data.columns)))]\n",
    "\n",
    "    fig = go.Figure()\n",
    "\n",
    "    for xd, yd in zip(x_data, y_data):\n",
    "        q1 = yd.quantile(0.25)\n",
    "        q3 = yd.quantile(0.75)\n",
    "        iqr = q3 - q1\n",
    "        out_yd = list(yd[(yd < (q1 - 1.5 * iqr)) | (yd > (q3 + 1.5 * iqr))].index)\n",
    "\n",
    "        fig.add_trace(go.Box(y=yd, name=xd, boxpoints='all', jitter=0.5, whiskerwidth=0.5, marker_size=7,\n",
    "                             line_width=1, boxmean=True, selectedpoints=out_yd))\n",
    "\n",
    "    fig.update_layout(title='Visualizacion los precios',\n",
    "                      yaxis=dict(autorange=True, showgrid=True, dtick=5,\n",
    "                                 gridcolor='rgb(255, 255, 255)', gridwidth=1),\n",
    "                      margin=dict(l=40, r=30, b=80, t=100),\n",
    "                      showlegend=False)\n",
    "\n",
    "    fig.update_yaxes(hoverformat='.2f')\n",
    "\n",
    "    # Mostrar figura\n",
    "    # fig.show()\n",
    "\n",
    "    return fig"
   ]
  },
  {
   "cell_type": "markdown",
   "metadata": {},
   "source": [
    "# Datos Entrenamiento"
   ]
  },
  {
   "cell_type": "code",
   "execution_count": 11,
   "metadata": {},
   "outputs": [
    {
     "data": {
      "text/html": [
       "<div>\n",
       "<style scoped>\n",
       "    .dataframe tbody tr th:only-of-type {\n",
       "        vertical-align: middle;\n",
       "    }\n",
       "\n",
       "    .dataframe tbody tr th {\n",
       "        vertical-align: top;\n",
       "    }\n",
       "\n",
       "    .dataframe thead th {\n",
       "        text-align: right;\n",
       "    }\n",
       "</style>\n",
       "<table border=\"1\" class=\"dataframe\">\n",
       "  <thead>\n",
       "    <tr style=\"text-align: right;\">\n",
       "      <th></th>\n",
       "      <th>timestamp</th>\n",
       "      <th>escenario</th>\n",
       "      <th>direccion</th>\n",
       "      <th>pips alcistas</th>\n",
       "      <th>pips bajistas</th>\n",
       "      <th>volatilidad</th>\n",
       "    </tr>\n",
       "  </thead>\n",
       "  <tbody>\n",
       "    <tr>\n",
       "      <th>0</th>\n",
       "      <td>2009-01-06 15:00:00+00:00</td>\n",
       "      <td>C</td>\n",
       "      <td></td>\n",
       "      <td></td>\n",
       "      <td></td>\n",
       "      <td></td>\n",
       "    </tr>\n",
       "    <tr>\n",
       "      <th>1</th>\n",
       "      <td>2009-02-05 15:00:00+00:00</td>\n",
       "      <td>C</td>\n",
       "      <td></td>\n",
       "      <td></td>\n",
       "      <td></td>\n",
       "      <td></td>\n",
       "    </tr>\n",
       "    <tr>\n",
       "      <th>2</th>\n",
       "      <td>2009-03-05 15:00:00+00:00</td>\n",
       "      <td>C</td>\n",
       "      <td></td>\n",
       "      <td></td>\n",
       "      <td></td>\n",
       "      <td></td>\n",
       "    </tr>\n",
       "    <tr>\n",
       "      <th>3</th>\n",
       "      <td>2009-04-02 14:00:00+00:00</td>\n",
       "      <td>A</td>\n",
       "      <td></td>\n",
       "      <td></td>\n",
       "      <td></td>\n",
       "      <td></td>\n",
       "    </tr>\n",
       "    <tr>\n",
       "      <th>4</th>\n",
       "      <td>2009-05-01 14:00:00+00:00</td>\n",
       "      <td>D</td>\n",
       "      <td></td>\n",
       "      <td></td>\n",
       "      <td></td>\n",
       "      <td></td>\n",
       "    </tr>\n",
       "  </tbody>\n",
       "</table>\n",
       "</div>"
      ],
      "text/plain": [
       "                  timestamp escenario direccion pips alcistas pips bajistas  \\\n",
       "0 2009-01-06 15:00:00+00:00         C                                         \n",
       "1 2009-02-05 15:00:00+00:00         C                                         \n",
       "2 2009-03-05 15:00:00+00:00         C                                         \n",
       "3 2009-04-02 14:00:00+00:00         A                                         \n",
       "4 2009-05-01 14:00:00+00:00         D                                         \n",
       "\n",
       "  volatilidad  \n",
       "0              \n",
       "1              \n",
       "2              \n",
       "3              \n",
       "4              "
      ]
     },
     "execution_count": 11,
     "metadata": {},
     "output_type": "execute_result"
    }
   ],
   "source": [
    "df_escenarios = df_usa[df_usa['timestamp']<'2019-01-01 00:00:00+0000'] # DataFrame con datos anteriores al primer dia del 2019\n",
    "df_escenarios = df_escenarios.reset_index().drop(list(df_escenarios.columns[1:8]), 1)\n",
    "df_escenarios = df_escenarios.drop(['index'], 1)\n",
    "df_escenarios.head()"
   ]
  },
  {
   "cell_type": "markdown",
   "metadata": {},
   "source": [
    "### DataFrames de precios"
   ]
  },
  {
   "cell_type": "code",
   "execution_count": 12,
   "metadata": {},
   "outputs": [],
   "source": [
    "dates = list(p.loc[p['timestamp'].isin(df_escenarios['timestamp'])]['timestamp']) # Timestamps presentes en indicador y precios"
   ]
  },
  {
   "cell_type": "code",
   "execution_count": 13,
   "metadata": {},
   "outputs": [],
   "source": [
    "prices_df = {} # Diccionario para df de precios indicador usa\n",
    "for i in range(len(dates)):\n",
    "    ref = p.loc[p['timestamp'] == dates[i]].index.values[0] # Fila de donde se encuentra el timestamp del calendario en precios\n",
    "    start = ref - 6 # Sacando 30 min antes (fila)\n",
    "    end = ref + 6 # Sacando 30 min despues (fila)\n",
    "    df = p.iloc[start:end+1, :].reset_index().drop('index',1) # Filtrando dataframe, reinicio de index y drop del viejo index\n",
    "    prices_df[dates[i]] = df # Almacenar en diccionario con siendo el timestamp usado como 'key'"
   ]
  },
  {
   "cell_type": "markdown",
   "metadata": {},
   "source": [
    "### Métricas"
   ]
  },
  {
   "cell_type": "code",
   "execution_count": 14,
   "metadata": {},
   "outputs": [],
   "source": [
    "def metricas(df_calendario, diccionario):\n",
    "    for i in range(len(df_calendario)):\n",
    "        df_calendario.loc[i,'direccion'] = [1 if diccionario[df_calendario['timestamp'][i]].loc[12,'close'] > diccionario[df_calendario['timestamp'][i]].loc[6,'open'] else -1]\n",
    "        df_calendario.loc[i,'pips alcistas'] = (diccionario[df_calendario['timestamp'][i]].loc[6:,'high'].max() - diccionario[df_calendario['timestamp'][i]].loc[6,'open'])*10000\n",
    "        df_calendario.loc[i,'pips bajistas'] = (diccionario[df_calendario['timestamp'][i]].loc[6,'open'] - diccionario[df_calendario['timestamp'][i]].loc[6:,'low'].min())*10000\n",
    "        df_calendario.loc[i,'volatilidad'] = diccionario[df_calendario['timestamp'][i]]['high'].max() - diccionario[df_calendario['timestamp'][i]]['low'].min()\n",
    "    return df_calendario"
   ]
  },
  {
   "cell_type": "code",
   "execution_count": 15,
   "metadata": {
    "scrolled": false
   },
   "outputs": [
    {
     "data": {
      "text/html": [
       "<div>\n",
       "<style scoped>\n",
       "    .dataframe tbody tr th:only-of-type {\n",
       "        vertical-align: middle;\n",
       "    }\n",
       "\n",
       "    .dataframe tbody tr th {\n",
       "        vertical-align: top;\n",
       "    }\n",
       "\n",
       "    .dataframe thead th {\n",
       "        text-align: right;\n",
       "    }\n",
       "</style>\n",
       "<table border=\"1\" class=\"dataframe\">\n",
       "  <thead>\n",
       "    <tr style=\"text-align: right;\">\n",
       "      <th></th>\n",
       "      <th>timestamp</th>\n",
       "      <th>escenario</th>\n",
       "      <th>direccion</th>\n",
       "      <th>pips alcistas</th>\n",
       "      <th>pips bajistas</th>\n",
       "      <th>volatilidad</th>\n",
       "    </tr>\n",
       "  </thead>\n",
       "  <tbody>\n",
       "    <tr>\n",
       "      <th>0</th>\n",
       "      <td>2009-01-06 15:00:00+00:00</td>\n",
       "      <td>C</td>\n",
       "      <td>-1</td>\n",
       "      <td>28.4</td>\n",
       "      <td>60.6</td>\n",
       "      <td>0.0089</td>\n",
       "    </tr>\n",
       "    <tr>\n",
       "      <th>1</th>\n",
       "      <td>2009-02-05 15:00:00+00:00</td>\n",
       "      <td>C</td>\n",
       "      <td>1</td>\n",
       "      <td>20.9</td>\n",
       "      <td>10.9</td>\n",
       "      <td>0.00454</td>\n",
       "    </tr>\n",
       "    <tr>\n",
       "      <th>2</th>\n",
       "      <td>2009-03-05 15:00:00+00:00</td>\n",
       "      <td>C</td>\n",
       "      <td>1</td>\n",
       "      <td>41.1</td>\n",
       "      <td>7.2</td>\n",
       "      <td>0.00706</td>\n",
       "    </tr>\n",
       "    <tr>\n",
       "      <th>3</th>\n",
       "      <td>2009-04-02 14:00:00+00:00</td>\n",
       "      <td>A</td>\n",
       "      <td>-1</td>\n",
       "      <td>5.5</td>\n",
       "      <td>42.3</td>\n",
       "      <td>0.00538</td>\n",
       "    </tr>\n",
       "    <tr>\n",
       "      <th>4</th>\n",
       "      <td>2009-05-01 14:00:00+00:00</td>\n",
       "      <td>D</td>\n",
       "      <td>-1</td>\n",
       "      <td>10.2</td>\n",
       "      <td>26</td>\n",
       "      <td>0.00383</td>\n",
       "    </tr>\n",
       "  </tbody>\n",
       "</table>\n",
       "</div>"
      ],
      "text/plain": [
       "                  timestamp escenario  direccion pips alcistas pips bajistas  \\\n",
       "0 2009-01-06 15:00:00+00:00         C         -1          28.4          60.6   \n",
       "1 2009-02-05 15:00:00+00:00         C          1          20.9          10.9   \n",
       "2 2009-03-05 15:00:00+00:00         C          1          41.1           7.2   \n",
       "3 2009-04-02 14:00:00+00:00         A         -1           5.5          42.3   \n",
       "4 2009-05-01 14:00:00+00:00         D         -1          10.2            26   \n",
       "\n",
       "  volatilidad  \n",
       "0      0.0089  \n",
       "1     0.00454  \n",
       "2     0.00706  \n",
       "3     0.00538  \n",
       "4     0.00383  "
      ]
     },
     "execution_count": 15,
     "metadata": {},
     "output_type": "execute_result"
    }
   ],
   "source": [
    "df_escenarios = metricas(df_escenarios, prices_df) # Metricas del indicador de USA\n",
    "df_escenarios.head()"
   ]
  },
  {
   "cell_type": "markdown",
   "metadata": {},
   "source": [
    "### Conteo de escenarios"
   ]
  },
  {
   "cell_type": "code",
   "execution_count": 17,
   "metadata": {},
   "outputs": [
    {
     "data": {
      "application/vnd.plotly.v1+json": {
       "config": {
        "plotlyServerURL": "https://plot.ly"
       },
       "data": [
        {
         "hovertemplate": "<i>Casos</i>: %{y}<br><b>Identificador</b>: %{x}<br>",
         "name": "Conteo",
         "type": "bar",
         "x": [
          "A",
          "B",
          "C",
          "D"
         ],
         "xaxis": "x",
         "y": [
          37,
          30,
          23,
          30
         ],
         "yaxis": "y"
        }
       ],
       "layout": {
        "template": {
         "data": {
          "bar": [
           {
            "error_x": {
             "color": "#2a3f5f"
            },
            "error_y": {
             "color": "#2a3f5f"
            },
            "marker": {
             "line": {
              "color": "#E5ECF6",
              "width": 0.5
             }
            },
            "type": "bar"
           }
          ],
          "barpolar": [
           {
            "marker": {
             "line": {
              "color": "#E5ECF6",
              "width": 0.5
             }
            },
            "type": "barpolar"
           }
          ],
          "carpet": [
           {
            "aaxis": {
             "endlinecolor": "#2a3f5f",
             "gridcolor": "white",
             "linecolor": "white",
             "minorgridcolor": "white",
             "startlinecolor": "#2a3f5f"
            },
            "baxis": {
             "endlinecolor": "#2a3f5f",
             "gridcolor": "white",
             "linecolor": "white",
             "minorgridcolor": "white",
             "startlinecolor": "#2a3f5f"
            },
            "type": "carpet"
           }
          ],
          "choropleth": [
           {
            "colorbar": {
             "outlinewidth": 0,
             "ticks": ""
            },
            "type": "choropleth"
           }
          ],
          "contour": [
           {
            "colorbar": {
             "outlinewidth": 0,
             "ticks": ""
            },
            "colorscale": [
             [
              0,
              "#0d0887"
             ],
             [
              0.1111111111111111,
              "#46039f"
             ],
             [
              0.2222222222222222,
              "#7201a8"
             ],
             [
              0.3333333333333333,
              "#9c179e"
             ],
             [
              0.4444444444444444,
              "#bd3786"
             ],
             [
              0.5555555555555556,
              "#d8576b"
             ],
             [
              0.6666666666666666,
              "#ed7953"
             ],
             [
              0.7777777777777778,
              "#fb9f3a"
             ],
             [
              0.8888888888888888,
              "#fdca26"
             ],
             [
              1,
              "#f0f921"
             ]
            ],
            "type": "contour"
           }
          ],
          "contourcarpet": [
           {
            "colorbar": {
             "outlinewidth": 0,
             "ticks": ""
            },
            "type": "contourcarpet"
           }
          ],
          "heatmap": [
           {
            "colorbar": {
             "outlinewidth": 0,
             "ticks": ""
            },
            "colorscale": [
             [
              0,
              "#0d0887"
             ],
             [
              0.1111111111111111,
              "#46039f"
             ],
             [
              0.2222222222222222,
              "#7201a8"
             ],
             [
              0.3333333333333333,
              "#9c179e"
             ],
             [
              0.4444444444444444,
              "#bd3786"
             ],
             [
              0.5555555555555556,
              "#d8576b"
             ],
             [
              0.6666666666666666,
              "#ed7953"
             ],
             [
              0.7777777777777778,
              "#fb9f3a"
             ],
             [
              0.8888888888888888,
              "#fdca26"
             ],
             [
              1,
              "#f0f921"
             ]
            ],
            "type": "heatmap"
           }
          ],
          "heatmapgl": [
           {
            "colorbar": {
             "outlinewidth": 0,
             "ticks": ""
            },
            "colorscale": [
             [
              0,
              "#0d0887"
             ],
             [
              0.1111111111111111,
              "#46039f"
             ],
             [
              0.2222222222222222,
              "#7201a8"
             ],
             [
              0.3333333333333333,
              "#9c179e"
             ],
             [
              0.4444444444444444,
              "#bd3786"
             ],
             [
              0.5555555555555556,
              "#d8576b"
             ],
             [
              0.6666666666666666,
              "#ed7953"
             ],
             [
              0.7777777777777778,
              "#fb9f3a"
             ],
             [
              0.8888888888888888,
              "#fdca26"
             ],
             [
              1,
              "#f0f921"
             ]
            ],
            "type": "heatmapgl"
           }
          ],
          "histogram": [
           {
            "marker": {
             "colorbar": {
              "outlinewidth": 0,
              "ticks": ""
             }
            },
            "type": "histogram"
           }
          ],
          "histogram2d": [
           {
            "colorbar": {
             "outlinewidth": 0,
             "ticks": ""
            },
            "colorscale": [
             [
              0,
              "#0d0887"
             ],
             [
              0.1111111111111111,
              "#46039f"
             ],
             [
              0.2222222222222222,
              "#7201a8"
             ],
             [
              0.3333333333333333,
              "#9c179e"
             ],
             [
              0.4444444444444444,
              "#bd3786"
             ],
             [
              0.5555555555555556,
              "#d8576b"
             ],
             [
              0.6666666666666666,
              "#ed7953"
             ],
             [
              0.7777777777777778,
              "#fb9f3a"
             ],
             [
              0.8888888888888888,
              "#fdca26"
             ],
             [
              1,
              "#f0f921"
             ]
            ],
            "type": "histogram2d"
           }
          ],
          "histogram2dcontour": [
           {
            "colorbar": {
             "outlinewidth": 0,
             "ticks": ""
            },
            "colorscale": [
             [
              0,
              "#0d0887"
             ],
             [
              0.1111111111111111,
              "#46039f"
             ],
             [
              0.2222222222222222,
              "#7201a8"
             ],
             [
              0.3333333333333333,
              "#9c179e"
             ],
             [
              0.4444444444444444,
              "#bd3786"
             ],
             [
              0.5555555555555556,
              "#d8576b"
             ],
             [
              0.6666666666666666,
              "#ed7953"
             ],
             [
              0.7777777777777778,
              "#fb9f3a"
             ],
             [
              0.8888888888888888,
              "#fdca26"
             ],
             [
              1,
              "#f0f921"
             ]
            ],
            "type": "histogram2dcontour"
           }
          ],
          "mesh3d": [
           {
            "colorbar": {
             "outlinewidth": 0,
             "ticks": ""
            },
            "type": "mesh3d"
           }
          ],
          "parcoords": [
           {
            "line": {
             "colorbar": {
              "outlinewidth": 0,
              "ticks": ""
             }
            },
            "type": "parcoords"
           }
          ],
          "scatter": [
           {
            "marker": {
             "colorbar": {
              "outlinewidth": 0,
              "ticks": ""
             }
            },
            "type": "scatter"
           }
          ],
          "scatter3d": [
           {
            "line": {
             "colorbar": {
              "outlinewidth": 0,
              "ticks": ""
             }
            },
            "marker": {
             "colorbar": {
              "outlinewidth": 0,
              "ticks": ""
             }
            },
            "type": "scatter3d"
           }
          ],
          "scattercarpet": [
           {
            "marker": {
             "colorbar": {
              "outlinewidth": 0,
              "ticks": ""
             }
            },
            "type": "scattercarpet"
           }
          ],
          "scattergeo": [
           {
            "marker": {
             "colorbar": {
              "outlinewidth": 0,
              "ticks": ""
             }
            },
            "type": "scattergeo"
           }
          ],
          "scattergl": [
           {
            "marker": {
             "colorbar": {
              "outlinewidth": 0,
              "ticks": ""
             }
            },
            "type": "scattergl"
           }
          ],
          "scattermapbox": [
           {
            "marker": {
             "colorbar": {
              "outlinewidth": 0,
              "ticks": ""
             }
            },
            "type": "scattermapbox"
           }
          ],
          "scatterpolar": [
           {
            "marker": {
             "colorbar": {
              "outlinewidth": 0,
              "ticks": ""
             }
            },
            "type": "scatterpolar"
           }
          ],
          "scatterpolargl": [
           {
            "marker": {
             "colorbar": {
              "outlinewidth": 0,
              "ticks": ""
             }
            },
            "type": "scatterpolargl"
           }
          ],
          "scatterternary": [
           {
            "marker": {
             "colorbar": {
              "outlinewidth": 0,
              "ticks": ""
             }
            },
            "type": "scatterternary"
           }
          ],
          "surface": [
           {
            "colorbar": {
             "outlinewidth": 0,
             "ticks": ""
            },
            "colorscale": [
             [
              0,
              "#0d0887"
             ],
             [
              0.1111111111111111,
              "#46039f"
             ],
             [
              0.2222222222222222,
              "#7201a8"
             ],
             [
              0.3333333333333333,
              "#9c179e"
             ],
             [
              0.4444444444444444,
              "#bd3786"
             ],
             [
              0.5555555555555556,
              "#d8576b"
             ],
             [
              0.6666666666666666,
              "#ed7953"
             ],
             [
              0.7777777777777778,
              "#fb9f3a"
             ],
             [
              0.8888888888888888,
              "#fdca26"
             ],
             [
              1,
              "#f0f921"
             ]
            ],
            "type": "surface"
           }
          ],
          "table": [
           {
            "cells": {
             "fill": {
              "color": "#EBF0F8"
             },
             "line": {
              "color": "white"
             }
            },
            "header": {
             "fill": {
              "color": "#C8D4E3"
             },
             "line": {
              "color": "white"
             }
            },
            "type": "table"
           }
          ]
         },
         "layout": {
          "annotationdefaults": {
           "arrowcolor": "#2a3f5f",
           "arrowhead": 0,
           "arrowwidth": 1
          },
          "colorscale": {
           "diverging": [
            [
             0,
             "#8e0152"
            ],
            [
             0.1,
             "#c51b7d"
            ],
            [
             0.2,
             "#de77ae"
            ],
            [
             0.3,
             "#f1b6da"
            ],
            [
             0.4,
             "#fde0ef"
            ],
            [
             0.5,
             "#f7f7f7"
            ],
            [
             0.6,
             "#e6f5d0"
            ],
            [
             0.7,
             "#b8e186"
            ],
            [
             0.8,
             "#7fbc41"
            ],
            [
             0.9,
             "#4d9221"
            ],
            [
             1,
             "#276419"
            ]
           ],
           "sequential": [
            [
             0,
             "#0d0887"
            ],
            [
             0.1111111111111111,
             "#46039f"
            ],
            [
             0.2222222222222222,
             "#7201a8"
            ],
            [
             0.3333333333333333,
             "#9c179e"
            ],
            [
             0.4444444444444444,
             "#bd3786"
            ],
            [
             0.5555555555555556,
             "#d8576b"
            ],
            [
             0.6666666666666666,
             "#ed7953"
            ],
            [
             0.7777777777777778,
             "#fb9f3a"
            ],
            [
             0.8888888888888888,
             "#fdca26"
            ],
            [
             1,
             "#f0f921"
            ]
           ],
           "sequentialminus": [
            [
             0,
             "#0d0887"
            ],
            [
             0.1111111111111111,
             "#46039f"
            ],
            [
             0.2222222222222222,
             "#7201a8"
            ],
            [
             0.3333333333333333,
             "#9c179e"
            ],
            [
             0.4444444444444444,
             "#bd3786"
            ],
            [
             0.5555555555555556,
             "#d8576b"
            ],
            [
             0.6666666666666666,
             "#ed7953"
            ],
            [
             0.7777777777777778,
             "#fb9f3a"
            ],
            [
             0.8888888888888888,
             "#fdca26"
            ],
            [
             1,
             "#f0f921"
            ]
           ]
          },
          "colorway": [
           "#636efa",
           "#EF553B",
           "#00cc96",
           "#ab63fa",
           "#FFA15A",
           "#19d3f3",
           "#FF6692",
           "#B6E880",
           "#FF97FF",
           "#FECB52"
          ],
          "font": {
           "color": "#2a3f5f"
          },
          "geo": {
           "bgcolor": "white",
           "lakecolor": "white",
           "landcolor": "#E5ECF6",
           "showlakes": true,
           "showland": true,
           "subunitcolor": "white"
          },
          "hoverlabel": {
           "align": "left"
          },
          "hovermode": "closest",
          "mapbox": {
           "style": "light"
          },
          "paper_bgcolor": "white",
          "plot_bgcolor": "#E5ECF6",
          "polar": {
           "angularaxis": {
            "gridcolor": "white",
            "linecolor": "white",
            "ticks": ""
           },
           "bgcolor": "#E5ECF6",
           "radialaxis": {
            "gridcolor": "white",
            "linecolor": "white",
            "ticks": ""
           }
          },
          "scene": {
           "xaxis": {
            "backgroundcolor": "#E5ECF6",
            "gridcolor": "white",
            "gridwidth": 2,
            "linecolor": "white",
            "showbackground": true,
            "ticks": "",
            "zerolinecolor": "white"
           },
           "yaxis": {
            "backgroundcolor": "#E5ECF6",
            "gridcolor": "white",
            "gridwidth": 2,
            "linecolor": "white",
            "showbackground": true,
            "ticks": "",
            "zerolinecolor": "white"
           },
           "zaxis": {
            "backgroundcolor": "#E5ECF6",
            "gridcolor": "white",
            "gridwidth": 2,
            "linecolor": "white",
            "showbackground": true,
            "ticks": "",
            "zerolinecolor": "white"
           }
          },
          "shapedefaults": {
           "line": {
            "color": "#2a3f5f"
           }
          },
          "ternary": {
           "aaxis": {
            "gridcolor": "white",
            "linecolor": "white",
            "ticks": ""
           },
           "baxis": {
            "gridcolor": "white",
            "linecolor": "white",
            "ticks": ""
           },
           "bgcolor": "#E5ECF6",
           "caxis": {
            "gridcolor": "white",
            "linecolor": "white",
            "ticks": ""
           }
          },
          "title": {
           "x": 0.05
          },
          "xaxis": {
           "automargin": true,
           "gridcolor": "white",
           "linecolor": "white",
           "ticks": "",
           "zerolinecolor": "white",
           "zerolinewidth": 2
          },
          "yaxis": {
           "automargin": true,
           "gridcolor": "white",
           "linecolor": "white",
           "ticks": "",
           "zerolinecolor": "white",
           "zerolinewidth": 2
          }
         }
        },
        "title": {
         "text": "Escenarios USD Factory Orders (MoM)"
        },
        "xaxis": {
         "anchor": "y",
         "domain": [
          0,
          1
         ],
         "title": {
          "text": "Escenarios"
         }
        },
        "yaxis": {
         "anchor": "x",
         "domain": [
          0,
          1
         ],
         "title": {
          "text": "<b>Conteo</b> de escenarios"
         }
        }
       }
      },
      "text/html": [
       "<div>\n",
       "        \n",
       "        \n",
       "            <div id=\"e92dc91f-5c9f-4d2e-86f5-035bf2e6575d\" class=\"plotly-graph-div\" style=\"height:525px; width:100%;\"></div>\n",
       "            <script type=\"text/javascript\">\n",
       "                require([\"plotly\"], function(Plotly) {\n",
       "                    window.PLOTLYENV=window.PLOTLYENV || {};\n",
       "                    \n",
       "                if (document.getElementById(\"e92dc91f-5c9f-4d2e-86f5-035bf2e6575d\")) {\n",
       "                    Plotly.newPlot(\n",
       "                        'e92dc91f-5c9f-4d2e-86f5-035bf2e6575d',\n",
       "                        [{\"hovertemplate\": \"<i>Casos</i>: %{y}<br><b>Identificador</b>: %{x}<br>\", \"name\": \"Conteo\", \"type\": \"bar\", \"x\": [\"A\", \"B\", \"C\", \"D\"], \"xaxis\": \"x\", \"y\": [37, 30, 23, 30], \"yaxis\": \"y\"}],\n",
       "                        {\"template\": {\"data\": {\"bar\": [{\"error_x\": {\"color\": \"#2a3f5f\"}, \"error_y\": {\"color\": \"#2a3f5f\"}, \"marker\": {\"line\": {\"color\": \"#E5ECF6\", \"width\": 0.5}}, \"type\": \"bar\"}], \"barpolar\": [{\"marker\": {\"line\": {\"color\": \"#E5ECF6\", \"width\": 0.5}}, \"type\": \"barpolar\"}], \"carpet\": [{\"aaxis\": {\"endlinecolor\": \"#2a3f5f\", \"gridcolor\": \"white\", \"linecolor\": \"white\", \"minorgridcolor\": \"white\", \"startlinecolor\": \"#2a3f5f\"}, \"baxis\": {\"endlinecolor\": \"#2a3f5f\", \"gridcolor\": \"white\", \"linecolor\": \"white\", \"minorgridcolor\": \"white\", \"startlinecolor\": \"#2a3f5f\"}, \"type\": \"carpet\"}], \"choropleth\": [{\"colorbar\": {\"outlinewidth\": 0, \"ticks\": \"\"}, \"type\": \"choropleth\"}], \"contour\": [{\"colorbar\": {\"outlinewidth\": 0, \"ticks\": \"\"}, \"colorscale\": [[0.0, \"#0d0887\"], [0.1111111111111111, \"#46039f\"], [0.2222222222222222, \"#7201a8\"], [0.3333333333333333, \"#9c179e\"], [0.4444444444444444, \"#bd3786\"], [0.5555555555555556, \"#d8576b\"], [0.6666666666666666, \"#ed7953\"], [0.7777777777777778, \"#fb9f3a\"], [0.8888888888888888, \"#fdca26\"], [1.0, \"#f0f921\"]], \"type\": \"contour\"}], \"contourcarpet\": [{\"colorbar\": {\"outlinewidth\": 0, \"ticks\": \"\"}, \"type\": \"contourcarpet\"}], \"heatmap\": [{\"colorbar\": {\"outlinewidth\": 0, \"ticks\": \"\"}, \"colorscale\": [[0.0, \"#0d0887\"], [0.1111111111111111, \"#46039f\"], [0.2222222222222222, \"#7201a8\"], [0.3333333333333333, \"#9c179e\"], [0.4444444444444444, \"#bd3786\"], [0.5555555555555556, \"#d8576b\"], [0.6666666666666666, \"#ed7953\"], [0.7777777777777778, \"#fb9f3a\"], [0.8888888888888888, \"#fdca26\"], [1.0, \"#f0f921\"]], \"type\": \"heatmap\"}], \"heatmapgl\": [{\"colorbar\": {\"outlinewidth\": 0, \"ticks\": \"\"}, \"colorscale\": [[0.0, \"#0d0887\"], [0.1111111111111111, \"#46039f\"], [0.2222222222222222, \"#7201a8\"], [0.3333333333333333, \"#9c179e\"], [0.4444444444444444, \"#bd3786\"], [0.5555555555555556, \"#d8576b\"], [0.6666666666666666, \"#ed7953\"], [0.7777777777777778, \"#fb9f3a\"], [0.8888888888888888, \"#fdca26\"], [1.0, \"#f0f921\"]], \"type\": \"heatmapgl\"}], \"histogram\": [{\"marker\": {\"colorbar\": {\"outlinewidth\": 0, \"ticks\": \"\"}}, \"type\": \"histogram\"}], \"histogram2d\": [{\"colorbar\": {\"outlinewidth\": 0, \"ticks\": \"\"}, \"colorscale\": [[0.0, \"#0d0887\"], [0.1111111111111111, \"#46039f\"], [0.2222222222222222, \"#7201a8\"], [0.3333333333333333, \"#9c179e\"], [0.4444444444444444, \"#bd3786\"], [0.5555555555555556, \"#d8576b\"], [0.6666666666666666, \"#ed7953\"], [0.7777777777777778, \"#fb9f3a\"], [0.8888888888888888, \"#fdca26\"], [1.0, \"#f0f921\"]], \"type\": \"histogram2d\"}], \"histogram2dcontour\": [{\"colorbar\": {\"outlinewidth\": 0, \"ticks\": \"\"}, \"colorscale\": [[0.0, \"#0d0887\"], [0.1111111111111111, \"#46039f\"], [0.2222222222222222, \"#7201a8\"], [0.3333333333333333, \"#9c179e\"], [0.4444444444444444, \"#bd3786\"], [0.5555555555555556, \"#d8576b\"], [0.6666666666666666, \"#ed7953\"], [0.7777777777777778, \"#fb9f3a\"], [0.8888888888888888, \"#fdca26\"], [1.0, \"#f0f921\"]], \"type\": \"histogram2dcontour\"}], \"mesh3d\": [{\"colorbar\": {\"outlinewidth\": 0, \"ticks\": \"\"}, \"type\": \"mesh3d\"}], \"parcoords\": [{\"line\": {\"colorbar\": {\"outlinewidth\": 0, \"ticks\": \"\"}}, \"type\": \"parcoords\"}], \"scatter\": [{\"marker\": {\"colorbar\": {\"outlinewidth\": 0, \"ticks\": \"\"}}, \"type\": \"scatter\"}], \"scatter3d\": [{\"line\": {\"colorbar\": {\"outlinewidth\": 0, \"ticks\": \"\"}}, \"marker\": {\"colorbar\": {\"outlinewidth\": 0, \"ticks\": \"\"}}, \"type\": \"scatter3d\"}], \"scattercarpet\": [{\"marker\": {\"colorbar\": {\"outlinewidth\": 0, \"ticks\": \"\"}}, \"type\": \"scattercarpet\"}], \"scattergeo\": [{\"marker\": {\"colorbar\": {\"outlinewidth\": 0, \"ticks\": \"\"}}, \"type\": \"scattergeo\"}], \"scattergl\": [{\"marker\": {\"colorbar\": {\"outlinewidth\": 0, \"ticks\": \"\"}}, \"type\": \"scattergl\"}], \"scattermapbox\": [{\"marker\": {\"colorbar\": {\"outlinewidth\": 0, \"ticks\": \"\"}}, \"type\": \"scattermapbox\"}], \"scatterpolar\": [{\"marker\": {\"colorbar\": {\"outlinewidth\": 0, \"ticks\": \"\"}}, \"type\": \"scatterpolar\"}], \"scatterpolargl\": [{\"marker\": {\"colorbar\": {\"outlinewidth\": 0, \"ticks\": \"\"}}, \"type\": \"scatterpolargl\"}], \"scatterternary\": [{\"marker\": {\"colorbar\": {\"outlinewidth\": 0, \"ticks\": \"\"}}, \"type\": \"scatterternary\"}], \"surface\": [{\"colorbar\": {\"outlinewidth\": 0, \"ticks\": \"\"}, \"colorscale\": [[0.0, \"#0d0887\"], [0.1111111111111111, \"#46039f\"], [0.2222222222222222, \"#7201a8\"], [0.3333333333333333, \"#9c179e\"], [0.4444444444444444, \"#bd3786\"], [0.5555555555555556, \"#d8576b\"], [0.6666666666666666, \"#ed7953\"], [0.7777777777777778, \"#fb9f3a\"], [0.8888888888888888, \"#fdca26\"], [1.0, \"#f0f921\"]], \"type\": \"surface\"}], \"table\": [{\"cells\": {\"fill\": {\"color\": \"#EBF0F8\"}, \"line\": {\"color\": \"white\"}}, \"header\": {\"fill\": {\"color\": \"#C8D4E3\"}, \"line\": {\"color\": \"white\"}}, \"type\": \"table\"}]}, \"layout\": {\"annotationdefaults\": {\"arrowcolor\": \"#2a3f5f\", \"arrowhead\": 0, \"arrowwidth\": 1}, \"colorscale\": {\"diverging\": [[0, \"#8e0152\"], [0.1, \"#c51b7d\"], [0.2, \"#de77ae\"], [0.3, \"#f1b6da\"], [0.4, \"#fde0ef\"], [0.5, \"#f7f7f7\"], [0.6, \"#e6f5d0\"], [0.7, \"#b8e186\"], [0.8, \"#7fbc41\"], [0.9, \"#4d9221\"], [1, \"#276419\"]], \"sequential\": [[0.0, \"#0d0887\"], [0.1111111111111111, \"#46039f\"], [0.2222222222222222, \"#7201a8\"], [0.3333333333333333, \"#9c179e\"], [0.4444444444444444, \"#bd3786\"], [0.5555555555555556, \"#d8576b\"], [0.6666666666666666, \"#ed7953\"], [0.7777777777777778, \"#fb9f3a\"], [0.8888888888888888, \"#fdca26\"], [1.0, \"#f0f921\"]], \"sequentialminus\": [[0.0, \"#0d0887\"], [0.1111111111111111, \"#46039f\"], [0.2222222222222222, \"#7201a8\"], [0.3333333333333333, \"#9c179e\"], [0.4444444444444444, \"#bd3786\"], [0.5555555555555556, \"#d8576b\"], [0.6666666666666666, \"#ed7953\"], [0.7777777777777778, \"#fb9f3a\"], [0.8888888888888888, \"#fdca26\"], [1.0, \"#f0f921\"]]}, \"colorway\": [\"#636efa\", \"#EF553B\", \"#00cc96\", \"#ab63fa\", \"#FFA15A\", \"#19d3f3\", \"#FF6692\", \"#B6E880\", \"#FF97FF\", \"#FECB52\"], \"font\": {\"color\": \"#2a3f5f\"}, \"geo\": {\"bgcolor\": \"white\", \"lakecolor\": \"white\", \"landcolor\": \"#E5ECF6\", \"showlakes\": true, \"showland\": true, \"subunitcolor\": \"white\"}, \"hoverlabel\": {\"align\": \"left\"}, \"hovermode\": \"closest\", \"mapbox\": {\"style\": \"light\"}, \"paper_bgcolor\": \"white\", \"plot_bgcolor\": \"#E5ECF6\", \"polar\": {\"angularaxis\": {\"gridcolor\": \"white\", \"linecolor\": \"white\", \"ticks\": \"\"}, \"bgcolor\": \"#E5ECF6\", \"radialaxis\": {\"gridcolor\": \"white\", \"linecolor\": \"white\", \"ticks\": \"\"}}, \"scene\": {\"xaxis\": {\"backgroundcolor\": \"#E5ECF6\", \"gridcolor\": \"white\", \"gridwidth\": 2, \"linecolor\": \"white\", \"showbackground\": true, \"ticks\": \"\", \"zerolinecolor\": \"white\"}, \"yaxis\": {\"backgroundcolor\": \"#E5ECF6\", \"gridcolor\": \"white\", \"gridwidth\": 2, \"linecolor\": \"white\", \"showbackground\": true, \"ticks\": \"\", \"zerolinecolor\": \"white\"}, \"zaxis\": {\"backgroundcolor\": \"#E5ECF6\", \"gridcolor\": \"white\", \"gridwidth\": 2, \"linecolor\": \"white\", \"showbackground\": true, \"ticks\": \"\", \"zerolinecolor\": \"white\"}}, \"shapedefaults\": {\"line\": {\"color\": \"#2a3f5f\"}}, \"ternary\": {\"aaxis\": {\"gridcolor\": \"white\", \"linecolor\": \"white\", \"ticks\": \"\"}, \"baxis\": {\"gridcolor\": \"white\", \"linecolor\": \"white\", \"ticks\": \"\"}, \"bgcolor\": \"#E5ECF6\", \"caxis\": {\"gridcolor\": \"white\", \"linecolor\": \"white\", \"ticks\": \"\"}}, \"title\": {\"x\": 0.05}, \"xaxis\": {\"automargin\": true, \"gridcolor\": \"white\", \"linecolor\": \"white\", \"ticks\": \"\", \"zerolinecolor\": \"white\", \"zerolinewidth\": 2}, \"yaxis\": {\"automargin\": true, \"gridcolor\": \"white\", \"linecolor\": \"white\", \"ticks\": \"\", \"zerolinecolor\": \"white\", \"zerolinewidth\": 2}}}, \"title\": {\"text\": \"Escenarios USD Factory Orders (MoM)\"}, \"xaxis\": {\"anchor\": \"y\", \"domain\": [0.0, 1.0], \"title\": {\"text\": \"Escenarios\"}}, \"yaxis\": {\"anchor\": \"x\", \"domain\": [0.0, 1.0], \"title\": {\"text\": \"<b>Conteo</b> de escenarios\"}}},\n",
       "                        {\"responsive\": true}\n",
       "                    ).then(function(){\n",
       "                            \n",
       "var gd = document.getElementById('e92dc91f-5c9f-4d2e-86f5-035bf2e6575d');\n",
       "var x = new MutationObserver(function (mutations, observer) {{\n",
       "        var display = window.getComputedStyle(gd).display;\n",
       "        if (!display || display === 'none') {{\n",
       "            console.log([gd, 'removed!']);\n",
       "            Plotly.purge(gd);\n",
       "            observer.disconnect();\n",
       "        }}\n",
       "}});\n",
       "\n",
       "// Listen for the removal of the full notebook cells\n",
       "var notebookContainer = gd.closest('#notebook-container');\n",
       "if (notebookContainer) {{\n",
       "    x.observe(notebookContainer, {childList: true});\n",
       "}}\n",
       "\n",
       "// Listen for the clearing of the current output cell\n",
       "var outputEl = gd.closest('.output');\n",
       "if (outputEl) {{\n",
       "    x.observe(outputEl, {childList: true});\n",
       "}}\n",
       "\n",
       "                        })\n",
       "                };\n",
       "                });\n",
       "            </script>\n",
       "        </div>"
      ]
     },
     "metadata": {},
     "output_type": "display_data"
    }
   ],
   "source": [
    "fig = go.Figure()\n",
    "fig = make_subplots()\n",
    "fig.add_trace(go.Bar(x=list(df_escenarios['escenario'].value_counts().sort_index().index), \n",
    "                     y=df_escenarios['escenario'].value_counts().sort_index(),name='Conteo',\n",
    "                         hovertemplate = '<i>Casos</i>: %{y}'\n",
    "                        '<br><b>Identificador</b>: %{x}<br>'),secondary_y=False)\n",
    "# Título del grafico\n",
    "fig.update_layout(title_text='Escenarios USD Factory Orders (MoM)')\n",
    "    \n",
    "# Titulo eje x\n",
    "fig.update_xaxes(title_text='Escenarios')\n",
    "    \n",
    "# Titulo eje y\n",
    "fig.update_yaxes(title_text='<b>Conteo</b> de escenarios', secondary_y=False)\n",
    "    \n",
    "fig.show()"
   ]
  },
  {
   "cell_type": "markdown",
   "metadata": {},
   "source": [
    "### DataFrame de Decisiones"
   ]
  },
  {
   "cell_type": "markdown",
   "metadata": {},
   "source": [
    "> **1 unidad EUR/USD = 1.11 USD**\n",
    "\n",
    "> **En un trade de 10,000 unidades -> 1 Pip = 1.00 USD**"
   ]
  },
  {
   "cell_type": "code",
   "execution_count": 18,
   "metadata": {
    "scrolled": true
   },
   "outputs": [
    {
     "data": {
      "text/html": [
       "<div>\n",
       "<style scoped>\n",
       "    .dataframe tbody tr th:only-of-type {\n",
       "        vertical-align: middle;\n",
       "    }\n",
       "\n",
       "    .dataframe tbody tr th {\n",
       "        vertical-align: top;\n",
       "    }\n",
       "\n",
       "    .dataframe thead th {\n",
       "        text-align: right;\n",
       "    }\n",
       "</style>\n",
       "<table border=\"1\" class=\"dataframe\">\n",
       "  <thead>\n",
       "    <tr style=\"text-align: right;\">\n",
       "      <th></th>\n",
       "      <th>A</th>\n",
       "      <th>B</th>\n",
       "      <th>C</th>\n",
       "      <th>D</th>\n",
       "    </tr>\n",
       "  </thead>\n",
       "  <tbody>\n",
       "    <tr>\n",
       "      <th>-1</th>\n",
       "      <td>17</td>\n",
       "      <td>17</td>\n",
       "      <td>9</td>\n",
       "      <td>14</td>\n",
       "    </tr>\n",
       "    <tr>\n",
       "      <th>1</th>\n",
       "      <td>20</td>\n",
       "      <td>13</td>\n",
       "      <td>14</td>\n",
       "      <td>16</td>\n",
       "    </tr>\n",
       "  </tbody>\n",
       "</table>\n",
       "</div>"
      ],
      "text/plain": [
       "     A   B   C   D\n",
       "-1  17  17   9  14\n",
       " 1  20  13  14  16"
      ]
     },
     "execution_count": 18,
     "metadata": {},
     "output_type": "execute_result"
    }
   ],
   "source": [
    "df_dir = pd.DataFrame(columns = sorted(list(df_escenarios['escenario'].unique())),index = df_escenarios['direccion'].unique())\n",
    "df_dir.iloc[:,0] = df_escenarios[df_escenarios['escenario'] == 'A']['direccion'].value_counts()\n",
    "df_dir.iloc[:,1] = df_escenarios[df_escenarios['escenario'] == 'B']['direccion'].value_counts()\n",
    "df_dir.iloc[:,2] = df_escenarios[df_escenarios['escenario'] == 'C']['direccion'].value_counts()\n",
    "df_dir.iloc[:,3] = df_escenarios[df_escenarios['escenario'] == 'D']['direccion'].value_counts()\n",
    "df_dir"
   ]
  },
  {
   "cell_type": "code",
   "execution_count": 19,
   "metadata": {
    "scrolled": true
   },
   "outputs": [
    {
     "data": {
      "text/html": [
       "<div>\n",
       "<style scoped>\n",
       "    .dataframe tbody tr th:only-of-type {\n",
       "        vertical-align: middle;\n",
       "    }\n",
       "\n",
       "    .dataframe tbody tr th {\n",
       "        vertical-align: top;\n",
       "    }\n",
       "\n",
       "    .dataframe thead th {\n",
       "        text-align: right;\n",
       "    }\n",
       "</style>\n",
       "<table border=\"1\" class=\"dataframe\">\n",
       "  <thead>\n",
       "    <tr style=\"text-align: right;\">\n",
       "      <th></th>\n",
       "      <th>escenario</th>\n",
       "      <th>operacion</th>\n",
       "      <th>sl</th>\n",
       "      <th>tp</th>\n",
       "      <th>unidades</th>\n",
       "    </tr>\n",
       "  </thead>\n",
       "  <tbody>\n",
       "    <tr>\n",
       "      <th>0</th>\n",
       "      <td>A</td>\n",
       "      <td>Compra</td>\n",
       "      <td>12.40</td>\n",
       "      <td>57.2</td>\n",
       "      <td>10000.0</td>\n",
       "    </tr>\n",
       "    <tr>\n",
       "      <th>1</th>\n",
       "      <td>B</td>\n",
       "      <td>Venta</td>\n",
       "      <td>12.05</td>\n",
       "      <td>65.4</td>\n",
       "      <td>10000.0</td>\n",
       "    </tr>\n",
       "    <tr>\n",
       "      <th>2</th>\n",
       "      <td>C</td>\n",
       "      <td>Compra</td>\n",
       "      <td>10.40</td>\n",
       "      <td>41.1</td>\n",
       "      <td>10000.0</td>\n",
       "    </tr>\n",
       "    <tr>\n",
       "      <th>3</th>\n",
       "      <td>D</td>\n",
       "      <td>Compra</td>\n",
       "      <td>11.05</td>\n",
       "      <td>63.9</td>\n",
       "      <td>10000.0</td>\n",
       "    </tr>\n",
       "  </tbody>\n",
       "</table>\n",
       "</div>"
      ],
      "text/plain": [
       "  escenario operacion     sl    tp  unidades\n",
       "0         A    Compra  12.40  57.2   10000.0\n",
       "1         B     Venta  12.05  65.4   10000.0\n",
       "2         C    Compra  10.40  41.1   10000.0\n",
       "3         D    Compra  11.05  63.9   10000.0"
      ]
     },
     "execution_count": 19,
     "metadata": {},
     "output_type": "execute_result"
    }
   ],
   "source": [
    "data = np.zeros([4,5])\n",
    "df_decisiones = pd.DataFrame(data,columns=['escenario', 'operacion', 'sl', 'tp', 'unidades'])\n",
    "df_decisiones.iloc[0,:] = ['A','Compra',df_escenarios[df_escenarios['escenario'] == 'A']['pips bajistas'].quantile(0.5),\n",
    "                           df_escenarios[df_escenarios['escenario'] == 'A']['pips alcistas'].max(),10000]\n",
    "df_decisiones.iloc[1,:] = ['B','Venta',df_escenarios[df_escenarios['escenario'] == 'B']['pips bajistas'].quantile(0.5),\n",
    "                           df_escenarios[df_escenarios['escenario'] == 'B']['pips alcistas'].max(),10000]\n",
    "df_decisiones.iloc[2,:] = ['C','Compra',df_escenarios[df_escenarios['escenario'] == 'C']['pips bajistas'].quantile(0.5),\n",
    "                           df_escenarios[df_escenarios['escenario'] == 'C']['pips alcistas'].max(),10000]\n",
    "df_decisiones.iloc[3,:] = ['D','Compra',df_escenarios[df_escenarios['escenario'] == 'D']['pips bajistas'].quantile(0.5),\n",
    "                           df_escenarios[df_escenarios['escenario'] == 'D']['pips alcistas'].max(),10000]\n",
    "df_decisiones"
   ]
  },
  {
   "cell_type": "markdown",
   "metadata": {},
   "source": [
    "### DataFrame Backtest"
   ]
  },
  {
   "cell_type": "code",
   "execution_count": 20,
   "metadata": {},
   "outputs": [],
   "source": [
    "def df_pips(df,escenario,timestamp):\n",
    "    pips_to = []\n",
    "    for i in range(len(df)):\n",
    "        sl_idx = prices_df[timestamp[i]].loc[6:,'low'].idxmin()\n",
    "        tp_idx = prices_df[timestamp[i]].loc[6:,'high'].idxmax()\n",
    "        sl_limit = (prices_df[timestamp[i]].loc[6,'open'] - prices_df[timestamp[i]].loc[sl_idx,'low'])*10000\n",
    "        tp_limit = (prices_df[timestamp[i]].loc[tp_idx,'high'] - prices_df[timestamp[i]].loc[6,'open'])*10000\n",
    "        if (escenario[i] == 'A' and sl_limit <= df_decisiones.iat[0,2] and sl_idx > tp_idx):\n",
    "            pips_totales = df_decisiones.iat[0,2]\n",
    "        elif (escenario[i] == 'A' and tp_limit >= df_decisiones.iat[0,3] and sl_idx > tp_idx):\n",
    "            pips_totales = df_decisiones.iat[0,3]\n",
    "        elif escenario[i] == 'A':\n",
    "            pips_totales = (prices_df[timestamp[i]].loc[6,'open'] - prices_df[timestamp[i]].loc[12,'close'])*10000\n",
    "        elif (escenario[i] == 'B' and sl_limit <= df_decisiones.iat[1,2] and sl_idx < tp_idx):\n",
    "            pips_totales = df_decisiones.iat[1,2]\n",
    "        elif (escenario[i] == 'B' and tp_limit >= df_decisiones.iat[1,3] and sl_idx > tp_idx):\n",
    "            pips_totales = df_decisiones.iat[1,3]\n",
    "        elif escenario[i] == 'B':\n",
    "            pips_totales = (prices_df[timestamp[i]].loc[6,'open'] - prices_df[timestamp[i]].loc[12,'close'])*10000\n",
    "        elif (escenario[i] == 'C' and sl_limit <= df_decisiones.iat[2,2] and sl_idx < tp_idx):\n",
    "            pips_totales = df_decisiones.iat[2,2]\n",
    "        elif (escenario[i] == 'C' and tp_limit >= df_decisiones.iat[2,3] and sl_idx > tp_idx):\n",
    "            pips_totales = df_decisiones.iat[2,3]\n",
    "        elif escenario[i] == 'C':\n",
    "            pips_totales = (prices_df[timestamp[i]].loc[6,'open'] - prices_df[timestamp[i]].loc[12,'close'])*10000\n",
    "        elif (escenario[i] == 'D' and sl_limit <= df_decisiones.iat[3,2] and sl_idx < tp_idx):\n",
    "            pips_totales = df_decisiones.iat[3,2]\n",
    "        elif (escenario[i] == 'D' and tp_limit >= df_decisiones.iat[3,3] and sl_idx > tp_idx):\n",
    "            pips_totales = df_decisiones.iat[3,3]\n",
    "        elif escenario[i] == 'D':\n",
    "            pips_totales = (prices_df[timestamp[i]].loc[6,'open'] - prices_df[timestamp[i]].loc[12,'close'])*10000\n",
    "        else:\n",
    "            pips_totales = 0\n",
    "        pips_to.append(pips_totales)\n",
    "    return pips_to"
   ]
  },
  {
   "cell_type": "code",
   "execution_count": 21,
   "metadata": {
    "scrolled": true
   },
   "outputs": [
    {
     "data": {
      "text/html": [
       "<div>\n",
       "<style scoped>\n",
       "    .dataframe tbody tr th:only-of-type {\n",
       "        vertical-align: middle;\n",
       "    }\n",
       "\n",
       "    .dataframe tbody tr th {\n",
       "        vertical-align: top;\n",
       "    }\n",
       "\n",
       "    .dataframe thead th {\n",
       "        text-align: right;\n",
       "    }\n",
       "</style>\n",
       "<table border=\"1\" class=\"dataframe\">\n",
       "  <thead>\n",
       "    <tr style=\"text-align: right;\">\n",
       "      <th></th>\n",
       "      <th>timestamp</th>\n",
       "      <th>escenario</th>\n",
       "      <th>operacion</th>\n",
       "      <th>volumen</th>\n",
       "      <th>resultado</th>\n",
       "      <th>pips</th>\n",
       "      <th>capital</th>\n",
       "    </tr>\n",
       "  </thead>\n",
       "  <tbody>\n",
       "    <tr>\n",
       "      <th>115</th>\n",
       "      <td>2018-08-02 14:00:00+00:00</td>\n",
       "      <td>A</td>\n",
       "      <td>Compra</td>\n",
       "      <td>10000</td>\n",
       "      <td>ganadora</td>\n",
       "      <td>12.40</td>\n",
       "      <td>805.35</td>\n",
       "    </tr>\n",
       "    <tr>\n",
       "      <th>116</th>\n",
       "      <td>2018-09-06 14:00:00+00:00</td>\n",
       "      <td>D</td>\n",
       "      <td>Compra</td>\n",
       "      <td>10000</td>\n",
       "      <td>ganadora</td>\n",
       "      <td>1.60</td>\n",
       "      <td>806.95</td>\n",
       "    </tr>\n",
       "    <tr>\n",
       "      <th>117</th>\n",
       "      <td>2018-10-04 14:00:00+00:00</td>\n",
       "      <td>A</td>\n",
       "      <td>Compra</td>\n",
       "      <td>10000</td>\n",
       "      <td>perdedora</td>\n",
       "      <td>-12.00</td>\n",
       "      <td>794.95</td>\n",
       "    </tr>\n",
       "    <tr>\n",
       "      <th>118</th>\n",
       "      <td>2018-11-02 14:00:00+00:00</td>\n",
       "      <td>B</td>\n",
       "      <td>Venta</td>\n",
       "      <td>10000</td>\n",
       "      <td>ganadora</td>\n",
       "      <td>12.05</td>\n",
       "      <td>807.00</td>\n",
       "    </tr>\n",
       "    <tr>\n",
       "      <th>119</th>\n",
       "      <td>2018-12-06 15:00:00+00:00</td>\n",
       "      <td>D</td>\n",
       "      <td>Compra</td>\n",
       "      <td>10000</td>\n",
       "      <td>ganadora</td>\n",
       "      <td>11.05</td>\n",
       "      <td>818.05</td>\n",
       "    </tr>\n",
       "  </tbody>\n",
       "</table>\n",
       "</div>"
      ],
      "text/plain": [
       "                    timestamp escenario operacion  volumen  resultado   pips  \\\n",
       "115 2018-08-02 14:00:00+00:00         A    Compra    10000   ganadora  12.40   \n",
       "116 2018-09-06 14:00:00+00:00         D    Compra    10000   ganadora   1.60   \n",
       "117 2018-10-04 14:00:00+00:00         A    Compra    10000  perdedora -12.00   \n",
       "118 2018-11-02 14:00:00+00:00         B     Venta    10000   ganadora  12.05   \n",
       "119 2018-12-06 15:00:00+00:00         D    Compra    10000   ganadora  11.05   \n",
       "\n",
       "     capital  \n",
       "115   805.35  \n",
       "116   806.95  \n",
       "117   794.95  \n",
       "118   807.00  \n",
       "119   818.05  "
      ]
     },
     "execution_count": 21,
     "metadata": {},
     "output_type": "execute_result"
    }
   ],
   "source": [
    "df_backtest = pd.DataFrame(columns=['timestamp','escenario', 'operacion', 'volumen', 'resultado', 'pips','capital'])\n",
    "df_backtest['timestamp'] = df_escenarios['timestamp']\n",
    "df_backtest['escenario'] = df_escenarios['escenario']\n",
    "df_backtest['operacion'] = ['Venta' if df_backtest['escenario'][i] == 'B' else 'Compra' for i in range(len(df_backtest))]\n",
    "df_backtest['volumen'] = 10000\n",
    "df_backtest['pips'] = df_pips(df_backtest,df_backtest['escenario'],df_backtest['timestamp'])\n",
    "df_backtest['resultado'] = ['ganadora' if df_backtest['pips'][i] > 0 else \"perdedora\" for i in range(len(df_backtest))]\n",
    "df_backtest['capital'] = np.cumsum(df_backtest['pips'])\n",
    "df_backtest.tail()"
   ]
  },
  {
   "cell_type": "markdown",
   "metadata": {},
   "source": [
    "### Evolución del capital"
   ]
  },
  {
   "cell_type": "code",
   "execution_count": 23,
   "metadata": {
    "scrolled": false
   },
   "outputs": [
    {
     "data": {
      "application/vnd.plotly.v1+json": {
       "config": {
        "plotlyServerURL": "https://plot.ly"
       },
       "data": [
        {
         "name": "Capital",
         "type": "scatter",
         "x": [
          "2009-01-06T15:00:00+00:00",
          "2009-02-05T15:00:00+00:00",
          "2009-03-05T15:00:00+00:00",
          "2009-04-02T14:00:00+00:00",
          "2009-05-01T14:00:00+00:00",
          "2009-06-03T14:00:00+00:00",
          "2009-07-02T14:00:00+00:00",
          "2009-08-05T14:00:00+00:00",
          "2009-09-02T14:00:00+00:00",
          "2009-10-02T14:00:00+00:00",
          "2009-11-03T15:00:00+00:00",
          "2009-12-04T15:00:00+00:00",
          "2010-01-05T15:00:00+00:00",
          "2010-02-04T15:00:00+00:00",
          "2010-03-04T15:00:00+00:00",
          "2010-03-31T14:00:00+00:00",
          "2010-05-04T14:00:00+00:00",
          "2010-06-03T14:00:00+00:00",
          "2010-07-02T14:00:00+00:00",
          "2010-08-03T14:00:00+00:00",
          "2010-09-02T14:00:00+00:00",
          "2010-10-04T14:00:00+00:00",
          "2010-11-03T14:00:00+00:00",
          "2010-12-03T15:00:00+00:00",
          "2011-01-04T15:00:00+00:00",
          "2011-02-03T15:00:00+00:00",
          "2011-03-04T15:00:00+00:00",
          "2011-03-31T14:00:00+00:00",
          "2011-05-03T14:00:00+00:00",
          "2011-06-02T14:00:00+00:00",
          "2011-07-05T14:00:00+00:00",
          "2011-08-03T14:00:00+00:00",
          "2011-08-31T14:00:00+00:00",
          "2011-10-04T14:00:00+00:00",
          "2011-11-03T14:00:00+00:00",
          "2011-12-05T15:00:00+00:00",
          "2012-01-04T15:00:00+00:00",
          "2012-02-03T15:00:00+00:00",
          "2012-03-05T15:00:00+00:00",
          "2012-04-03T14:00:00+00:00",
          "2012-05-02T14:00:00+00:00",
          "2012-06-04T14:00:00+00:00",
          "2012-07-03T14:00:00+00:00",
          "2012-08-02T14:00:00+00:00",
          "2012-08-31T14:00:00+00:00",
          "2012-10-04T14:00:00+00:00",
          "2012-11-02T14:00:00+00:00",
          "2012-12-05T15:00:00+00:00",
          "2013-01-04T15:00:00+00:00",
          "2013-02-04T15:00:00+00:00",
          "2013-03-06T15:00:00+00:00",
          "2013-04-02T14:00:00+00:00",
          "2013-05-03T14:00:00+00:00",
          "2013-06-05T14:00:00+00:00",
          "2013-07-02T14:00:00+00:00",
          "2013-08-02T14:00:00+00:00",
          "2013-09-05T14:00:00+00:00",
          "2013-11-04T15:00:00+00:00",
          "2013-11-04T15:00:00+00:00",
          "2013-12-05T15:00:00+00:00",
          "2014-01-06T15:00:00+00:00",
          "2014-02-04T15:00:00+00:00",
          "2014-03-06T15:00:00+00:00",
          "2014-04-02T14:00:00+00:00",
          "2014-05-02T14:00:00+00:00",
          "2014-06-03T14:00:00+00:00",
          "2014-07-02T14:00:00+00:00",
          "2014-08-05T14:00:00+00:00",
          "2014-09-03T14:00:00+00:00",
          "2014-10-02T14:00:00+00:00",
          "2014-11-04T15:00:00+00:00",
          "2014-12-05T15:00:00+00:00",
          "2015-01-06T15:00:00+00:00",
          "2015-02-03T15:00:00+00:00",
          "2015-03-05T15:00:00+00:00",
          "2015-04-02T14:00:00+00:00",
          "2015-05-04T14:00:00+00:00",
          "2015-06-02T14:00:00+00:00",
          "2015-07-02T14:00:00+00:00",
          "2015-08-04T14:00:00+00:00",
          "2015-09-02T14:00:00+00:00",
          "2015-10-02T14:00:00+00:00",
          "2015-11-03T15:00:00+00:00",
          "2015-12-03T15:00:00+00:00",
          "2016-01-06T15:00:00+00:00",
          "2016-02-04T15:00:00+00:00",
          "2016-03-03T15:00:00+00:00",
          "2016-04-04T14:00:00+00:00",
          "2016-05-04T14:00:00+00:00",
          "2016-06-03T14:00:00+00:00",
          "2016-07-05T14:00:00+00:00",
          "2016-08-04T14:00:00+00:00",
          "2016-09-02T14:00:00+00:00",
          "2016-10-05T14:00:00+00:00",
          "2016-11-03T14:00:00+00:00",
          "2016-12-06T15:00:00+00:00",
          "2017-01-06T15:00:00+00:00",
          "2017-02-03T15:00:00+00:00",
          "2017-03-06T15:00:00+00:00",
          "2017-04-04T14:00:00+00:00",
          "2017-05-04T14:00:00+00:00",
          "2017-06-05T14:00:00+00:00",
          "2017-07-05T14:00:00+00:00",
          "2017-08-03T14:00:00+00:00",
          "2017-09-05T14:00:00+00:00",
          "2017-10-05T14:00:00+00:00",
          "2017-11-03T14:00:00+00:00",
          "2017-12-04T15:00:00+00:00",
          "2018-01-05T15:00:00+00:00",
          "2018-02-02T15:00:00+00:00",
          "2018-03-06T15:00:00+00:00",
          "2018-04-04T14:00:00+00:00",
          "2018-05-03T14:00:00+00:00",
          "2018-06-04T14:00:00+00:00",
          "2018-07-03T14:00:00+00:00",
          "2018-08-02T14:00:00+00:00",
          "2018-09-06T14:00:00+00:00",
          "2018-10-04T14:00:00+00:00",
          "2018-11-02T14:00:00+00:00",
          "2018-12-06T15:00:00+00:00"
         ],
         "xaxis": "x",
         "y": [
          40.89999999999927,
          23.200000000000994,
          33.60000000000029,
          63.99999999999961,
          70.9000000000004,
          60.900000000001505,
          76.8000000000013,
          94.80000000000155,
          112.00000000000321,
          83.50000000000301,
          82.40000000000246,
          122.50000000000315,
          134.55000000000328,
          157.3500000000039,
          205.0500000000033,
          217.10000000000343,
          229.15000000000356,
          278.3500000000039,
          289.4000000000041,
          288.400000000002,
          284.6000000000038,
          290.00000000000364,
          289.4000000000041,
          292.8000000000042,
          332.60000000000514,
          350.60000000000315,
          359.8000000000035,
          370.8500000000037,
          369.65000000000254,
          364.9500000000006,
          366.7500000000013,
          405.05000000000354,
          448.9500000000025,
          397.850000000003,
          336.65000000000174,
          328.25,
          370.54999999999956,
          362.2500000000007,
          371.0500000000028,
          370.35000000000264,
          367.95000000000243,
          378.3500000000017,
          390.750000000003,
          417.95000000000357,
          406.65000000000504,
          418.70000000000516,
          417.5000000000062,
          417.90000000000657,
          437.8000000000059,
          463.60000000000616,
          478.10000000000565,
          479.5000000000037,
          490.55000000000393,
          486.75000000000347,
          463.75000000000153,
          474.8000000000018,
          505.6000000000015,
          504.6000000000016,
          503.6000000000017,
          495.2,
          486.4000000000001,
          487.9999999999995,
          494.09999999999945,
          504.50000000000097,
          516.5500000000011,
          527.1500000000017,
          528.1500000000016,
          541.8500000000025,
          542.0500000000038,
          564.8500000000022,
          524.0500000000013,
          534.4500000000006,
          544.8499999999999,
          548.3500000000006,
          558.7499999999999,
          567.6500000000027,
          588.6500000000026,
          578.2500000000033,
          589.3000000000035,
          601.7000000000048,
          602.4000000000027,
          596.7000000000031,
          607.1000000000024,
          571.0000000000013,
          568.400000000002,
          604.8000000000006,
          615.1999999999999,
          630.3999999999996,
          637.1999999999975,
          649.5999999999989,
          664.6999999999979,
          676.749999999998,
          718.0499999999954,
          739.8499999999962,
          752.2499999999975,
          743.0499999999972,
          732.4499999999966,
          709.7499999999989,
          710.0499999999986,
          722.0999999999987,
          714.2000000000002,
          717.000000000003,
          728.0500000000031,
          710.3500000000026,
          722.4000000000027,
          716.2000000000021,
          740.6000000000021,
          746.0000000000019,
          741.4000000000007,
          751.2000000000005,
          762.2500000000007,
          772.65,
          785.2500000000003,
          797.3500000000018,
          792.9499999999997,
          805.350000000001,
          806.9500000000027,
          794.9500000000018,
          807.0000000000018,
          818.050000000002
         ],
         "yaxis": "y"
        }
       ],
       "layout": {
        "template": {
         "data": {
          "bar": [
           {
            "error_x": {
             "color": "#2a3f5f"
            },
            "error_y": {
             "color": "#2a3f5f"
            },
            "marker": {
             "line": {
              "color": "#E5ECF6",
              "width": 0.5
             }
            },
            "type": "bar"
           }
          ],
          "barpolar": [
           {
            "marker": {
             "line": {
              "color": "#E5ECF6",
              "width": 0.5
             }
            },
            "type": "barpolar"
           }
          ],
          "carpet": [
           {
            "aaxis": {
             "endlinecolor": "#2a3f5f",
             "gridcolor": "white",
             "linecolor": "white",
             "minorgridcolor": "white",
             "startlinecolor": "#2a3f5f"
            },
            "baxis": {
             "endlinecolor": "#2a3f5f",
             "gridcolor": "white",
             "linecolor": "white",
             "minorgridcolor": "white",
             "startlinecolor": "#2a3f5f"
            },
            "type": "carpet"
           }
          ],
          "choropleth": [
           {
            "colorbar": {
             "outlinewidth": 0,
             "ticks": ""
            },
            "type": "choropleth"
           }
          ],
          "contour": [
           {
            "colorbar": {
             "outlinewidth": 0,
             "ticks": ""
            },
            "colorscale": [
             [
              0,
              "#0d0887"
             ],
             [
              0.1111111111111111,
              "#46039f"
             ],
             [
              0.2222222222222222,
              "#7201a8"
             ],
             [
              0.3333333333333333,
              "#9c179e"
             ],
             [
              0.4444444444444444,
              "#bd3786"
             ],
             [
              0.5555555555555556,
              "#d8576b"
             ],
             [
              0.6666666666666666,
              "#ed7953"
             ],
             [
              0.7777777777777778,
              "#fb9f3a"
             ],
             [
              0.8888888888888888,
              "#fdca26"
             ],
             [
              1,
              "#f0f921"
             ]
            ],
            "type": "contour"
           }
          ],
          "contourcarpet": [
           {
            "colorbar": {
             "outlinewidth": 0,
             "ticks": ""
            },
            "type": "contourcarpet"
           }
          ],
          "heatmap": [
           {
            "colorbar": {
             "outlinewidth": 0,
             "ticks": ""
            },
            "colorscale": [
             [
              0,
              "#0d0887"
             ],
             [
              0.1111111111111111,
              "#46039f"
             ],
             [
              0.2222222222222222,
              "#7201a8"
             ],
             [
              0.3333333333333333,
              "#9c179e"
             ],
             [
              0.4444444444444444,
              "#bd3786"
             ],
             [
              0.5555555555555556,
              "#d8576b"
             ],
             [
              0.6666666666666666,
              "#ed7953"
             ],
             [
              0.7777777777777778,
              "#fb9f3a"
             ],
             [
              0.8888888888888888,
              "#fdca26"
             ],
             [
              1,
              "#f0f921"
             ]
            ],
            "type": "heatmap"
           }
          ],
          "heatmapgl": [
           {
            "colorbar": {
             "outlinewidth": 0,
             "ticks": ""
            },
            "colorscale": [
             [
              0,
              "#0d0887"
             ],
             [
              0.1111111111111111,
              "#46039f"
             ],
             [
              0.2222222222222222,
              "#7201a8"
             ],
             [
              0.3333333333333333,
              "#9c179e"
             ],
             [
              0.4444444444444444,
              "#bd3786"
             ],
             [
              0.5555555555555556,
              "#d8576b"
             ],
             [
              0.6666666666666666,
              "#ed7953"
             ],
             [
              0.7777777777777778,
              "#fb9f3a"
             ],
             [
              0.8888888888888888,
              "#fdca26"
             ],
             [
              1,
              "#f0f921"
             ]
            ],
            "type": "heatmapgl"
           }
          ],
          "histogram": [
           {
            "marker": {
             "colorbar": {
              "outlinewidth": 0,
              "ticks": ""
             }
            },
            "type": "histogram"
           }
          ],
          "histogram2d": [
           {
            "colorbar": {
             "outlinewidth": 0,
             "ticks": ""
            },
            "colorscale": [
             [
              0,
              "#0d0887"
             ],
             [
              0.1111111111111111,
              "#46039f"
             ],
             [
              0.2222222222222222,
              "#7201a8"
             ],
             [
              0.3333333333333333,
              "#9c179e"
             ],
             [
              0.4444444444444444,
              "#bd3786"
             ],
             [
              0.5555555555555556,
              "#d8576b"
             ],
             [
              0.6666666666666666,
              "#ed7953"
             ],
             [
              0.7777777777777778,
              "#fb9f3a"
             ],
             [
              0.8888888888888888,
              "#fdca26"
             ],
             [
              1,
              "#f0f921"
             ]
            ],
            "type": "histogram2d"
           }
          ],
          "histogram2dcontour": [
           {
            "colorbar": {
             "outlinewidth": 0,
             "ticks": ""
            },
            "colorscale": [
             [
              0,
              "#0d0887"
             ],
             [
              0.1111111111111111,
              "#46039f"
             ],
             [
              0.2222222222222222,
              "#7201a8"
             ],
             [
              0.3333333333333333,
              "#9c179e"
             ],
             [
              0.4444444444444444,
              "#bd3786"
             ],
             [
              0.5555555555555556,
              "#d8576b"
             ],
             [
              0.6666666666666666,
              "#ed7953"
             ],
             [
              0.7777777777777778,
              "#fb9f3a"
             ],
             [
              0.8888888888888888,
              "#fdca26"
             ],
             [
              1,
              "#f0f921"
             ]
            ],
            "type": "histogram2dcontour"
           }
          ],
          "mesh3d": [
           {
            "colorbar": {
             "outlinewidth": 0,
             "ticks": ""
            },
            "type": "mesh3d"
           }
          ],
          "parcoords": [
           {
            "line": {
             "colorbar": {
              "outlinewidth": 0,
              "ticks": ""
             }
            },
            "type": "parcoords"
           }
          ],
          "scatter": [
           {
            "marker": {
             "colorbar": {
              "outlinewidth": 0,
              "ticks": ""
             }
            },
            "type": "scatter"
           }
          ],
          "scatter3d": [
           {
            "line": {
             "colorbar": {
              "outlinewidth": 0,
              "ticks": ""
             }
            },
            "marker": {
             "colorbar": {
              "outlinewidth": 0,
              "ticks": ""
             }
            },
            "type": "scatter3d"
           }
          ],
          "scattercarpet": [
           {
            "marker": {
             "colorbar": {
              "outlinewidth": 0,
              "ticks": ""
             }
            },
            "type": "scattercarpet"
           }
          ],
          "scattergeo": [
           {
            "marker": {
             "colorbar": {
              "outlinewidth": 0,
              "ticks": ""
             }
            },
            "type": "scattergeo"
           }
          ],
          "scattergl": [
           {
            "marker": {
             "colorbar": {
              "outlinewidth": 0,
              "ticks": ""
             }
            },
            "type": "scattergl"
           }
          ],
          "scattermapbox": [
           {
            "marker": {
             "colorbar": {
              "outlinewidth": 0,
              "ticks": ""
             }
            },
            "type": "scattermapbox"
           }
          ],
          "scatterpolar": [
           {
            "marker": {
             "colorbar": {
              "outlinewidth": 0,
              "ticks": ""
             }
            },
            "type": "scatterpolar"
           }
          ],
          "scatterpolargl": [
           {
            "marker": {
             "colorbar": {
              "outlinewidth": 0,
              "ticks": ""
             }
            },
            "type": "scatterpolargl"
           }
          ],
          "scatterternary": [
           {
            "marker": {
             "colorbar": {
              "outlinewidth": 0,
              "ticks": ""
             }
            },
            "type": "scatterternary"
           }
          ],
          "surface": [
           {
            "colorbar": {
             "outlinewidth": 0,
             "ticks": ""
            },
            "colorscale": [
             [
              0,
              "#0d0887"
             ],
             [
              0.1111111111111111,
              "#46039f"
             ],
             [
              0.2222222222222222,
              "#7201a8"
             ],
             [
              0.3333333333333333,
              "#9c179e"
             ],
             [
              0.4444444444444444,
              "#bd3786"
             ],
             [
              0.5555555555555556,
              "#d8576b"
             ],
             [
              0.6666666666666666,
              "#ed7953"
             ],
             [
              0.7777777777777778,
              "#fb9f3a"
             ],
             [
              0.8888888888888888,
              "#fdca26"
             ],
             [
              1,
              "#f0f921"
             ]
            ],
            "type": "surface"
           }
          ],
          "table": [
           {
            "cells": {
             "fill": {
              "color": "#EBF0F8"
             },
             "line": {
              "color": "white"
             }
            },
            "header": {
             "fill": {
              "color": "#C8D4E3"
             },
             "line": {
              "color": "white"
             }
            },
            "type": "table"
           }
          ]
         },
         "layout": {
          "annotationdefaults": {
           "arrowcolor": "#2a3f5f",
           "arrowhead": 0,
           "arrowwidth": 1
          },
          "colorscale": {
           "diverging": [
            [
             0,
             "#8e0152"
            ],
            [
             0.1,
             "#c51b7d"
            ],
            [
             0.2,
             "#de77ae"
            ],
            [
             0.3,
             "#f1b6da"
            ],
            [
             0.4,
             "#fde0ef"
            ],
            [
             0.5,
             "#f7f7f7"
            ],
            [
             0.6,
             "#e6f5d0"
            ],
            [
             0.7,
             "#b8e186"
            ],
            [
             0.8,
             "#7fbc41"
            ],
            [
             0.9,
             "#4d9221"
            ],
            [
             1,
             "#276419"
            ]
           ],
           "sequential": [
            [
             0,
             "#0d0887"
            ],
            [
             0.1111111111111111,
             "#46039f"
            ],
            [
             0.2222222222222222,
             "#7201a8"
            ],
            [
             0.3333333333333333,
             "#9c179e"
            ],
            [
             0.4444444444444444,
             "#bd3786"
            ],
            [
             0.5555555555555556,
             "#d8576b"
            ],
            [
             0.6666666666666666,
             "#ed7953"
            ],
            [
             0.7777777777777778,
             "#fb9f3a"
            ],
            [
             0.8888888888888888,
             "#fdca26"
            ],
            [
             1,
             "#f0f921"
            ]
           ],
           "sequentialminus": [
            [
             0,
             "#0d0887"
            ],
            [
             0.1111111111111111,
             "#46039f"
            ],
            [
             0.2222222222222222,
             "#7201a8"
            ],
            [
             0.3333333333333333,
             "#9c179e"
            ],
            [
             0.4444444444444444,
             "#bd3786"
            ],
            [
             0.5555555555555556,
             "#d8576b"
            ],
            [
             0.6666666666666666,
             "#ed7953"
            ],
            [
             0.7777777777777778,
             "#fb9f3a"
            ],
            [
             0.8888888888888888,
             "#fdca26"
            ],
            [
             1,
             "#f0f921"
            ]
           ]
          },
          "colorway": [
           "#636efa",
           "#EF553B",
           "#00cc96",
           "#ab63fa",
           "#FFA15A",
           "#19d3f3",
           "#FF6692",
           "#B6E880",
           "#FF97FF",
           "#FECB52"
          ],
          "font": {
           "color": "#2a3f5f"
          },
          "geo": {
           "bgcolor": "white",
           "lakecolor": "white",
           "landcolor": "#E5ECF6",
           "showlakes": true,
           "showland": true,
           "subunitcolor": "white"
          },
          "hoverlabel": {
           "align": "left"
          },
          "hovermode": "closest",
          "mapbox": {
           "style": "light"
          },
          "paper_bgcolor": "white",
          "plot_bgcolor": "#E5ECF6",
          "polar": {
           "angularaxis": {
            "gridcolor": "white",
            "linecolor": "white",
            "ticks": ""
           },
           "bgcolor": "#E5ECF6",
           "radialaxis": {
            "gridcolor": "white",
            "linecolor": "white",
            "ticks": ""
           }
          },
          "scene": {
           "xaxis": {
            "backgroundcolor": "#E5ECF6",
            "gridcolor": "white",
            "gridwidth": 2,
            "linecolor": "white",
            "showbackground": true,
            "ticks": "",
            "zerolinecolor": "white"
           },
           "yaxis": {
            "backgroundcolor": "#E5ECF6",
            "gridcolor": "white",
            "gridwidth": 2,
            "linecolor": "white",
            "showbackground": true,
            "ticks": "",
            "zerolinecolor": "white"
           },
           "zaxis": {
            "backgroundcolor": "#E5ECF6",
            "gridcolor": "white",
            "gridwidth": 2,
            "linecolor": "white",
            "showbackground": true,
            "ticks": "",
            "zerolinecolor": "white"
           }
          },
          "shapedefaults": {
           "line": {
            "color": "#2a3f5f"
           }
          },
          "ternary": {
           "aaxis": {
            "gridcolor": "white",
            "linecolor": "white",
            "ticks": ""
           },
           "baxis": {
            "gridcolor": "white",
            "linecolor": "white",
            "ticks": ""
           },
           "bgcolor": "#E5ECF6",
           "caxis": {
            "gridcolor": "white",
            "linecolor": "white",
            "ticks": ""
           }
          },
          "title": {
           "x": 0.05
          },
          "xaxis": {
           "automargin": true,
           "gridcolor": "white",
           "linecolor": "white",
           "ticks": "",
           "zerolinecolor": "white",
           "zerolinewidth": 2
          },
          "yaxis": {
           "automargin": true,
           "gridcolor": "white",
           "linecolor": "white",
           "ticks": "",
           "zerolinecolor": "white",
           "zerolinewidth": 2
          }
         }
        },
        "title": {
         "text": "Evolución Valores del Indicador"
        },
        "xaxis": {
         "anchor": "y",
         "domain": [
          0,
          1
         ],
         "title": {
          "text": "Periodos"
         }
        },
        "yaxis": {
         "anchor": "x",
         "domain": [
          0,
          1
         ],
         "title": {
          "text": "<b>USD</b>"
         }
        }
       }
      },
      "text/html": [
       "<div>\n",
       "        \n",
       "        \n",
       "            <div id=\"cb7d875d-cc40-4192-95f6-7fe58b2855cd\" class=\"plotly-graph-div\" style=\"height:525px; width:100%;\"></div>\n",
       "            <script type=\"text/javascript\">\n",
       "                require([\"plotly\"], function(Plotly) {\n",
       "                    window.PLOTLYENV=window.PLOTLYENV || {};\n",
       "                    \n",
       "                if (document.getElementById(\"cb7d875d-cc40-4192-95f6-7fe58b2855cd\")) {\n",
       "                    Plotly.newPlot(\n",
       "                        'cb7d875d-cc40-4192-95f6-7fe58b2855cd',\n",
       "                        [{\"name\": \"Capital\", \"type\": \"scatter\", \"x\": [\"2009-01-06T15:00:00+00:00\", \"2009-02-05T15:00:00+00:00\", \"2009-03-05T15:00:00+00:00\", \"2009-04-02T14:00:00+00:00\", \"2009-05-01T14:00:00+00:00\", \"2009-06-03T14:00:00+00:00\", \"2009-07-02T14:00:00+00:00\", \"2009-08-05T14:00:00+00:00\", \"2009-09-02T14:00:00+00:00\", \"2009-10-02T14:00:00+00:00\", \"2009-11-03T15:00:00+00:00\", \"2009-12-04T15:00:00+00:00\", \"2010-01-05T15:00:00+00:00\", \"2010-02-04T15:00:00+00:00\", \"2010-03-04T15:00:00+00:00\", \"2010-03-31T14:00:00+00:00\", \"2010-05-04T14:00:00+00:00\", \"2010-06-03T14:00:00+00:00\", \"2010-07-02T14:00:00+00:00\", \"2010-08-03T14:00:00+00:00\", \"2010-09-02T14:00:00+00:00\", \"2010-10-04T14:00:00+00:00\", \"2010-11-03T14:00:00+00:00\", \"2010-12-03T15:00:00+00:00\", \"2011-01-04T15:00:00+00:00\", \"2011-02-03T15:00:00+00:00\", \"2011-03-04T15:00:00+00:00\", \"2011-03-31T14:00:00+00:00\", \"2011-05-03T14:00:00+00:00\", \"2011-06-02T14:00:00+00:00\", \"2011-07-05T14:00:00+00:00\", \"2011-08-03T14:00:00+00:00\", \"2011-08-31T14:00:00+00:00\", \"2011-10-04T14:00:00+00:00\", \"2011-11-03T14:00:00+00:00\", \"2011-12-05T15:00:00+00:00\", \"2012-01-04T15:00:00+00:00\", \"2012-02-03T15:00:00+00:00\", \"2012-03-05T15:00:00+00:00\", \"2012-04-03T14:00:00+00:00\", \"2012-05-02T14:00:00+00:00\", \"2012-06-04T14:00:00+00:00\", \"2012-07-03T14:00:00+00:00\", \"2012-08-02T14:00:00+00:00\", \"2012-08-31T14:00:00+00:00\", \"2012-10-04T14:00:00+00:00\", \"2012-11-02T14:00:00+00:00\", \"2012-12-05T15:00:00+00:00\", \"2013-01-04T15:00:00+00:00\", \"2013-02-04T15:00:00+00:00\", \"2013-03-06T15:00:00+00:00\", \"2013-04-02T14:00:00+00:00\", \"2013-05-03T14:00:00+00:00\", \"2013-06-05T14:00:00+00:00\", \"2013-07-02T14:00:00+00:00\", \"2013-08-02T14:00:00+00:00\", \"2013-09-05T14:00:00+00:00\", \"2013-11-04T15:00:00+00:00\", \"2013-11-04T15:00:00+00:00\", \"2013-12-05T15:00:00+00:00\", \"2014-01-06T15:00:00+00:00\", \"2014-02-04T15:00:00+00:00\", \"2014-03-06T15:00:00+00:00\", \"2014-04-02T14:00:00+00:00\", \"2014-05-02T14:00:00+00:00\", \"2014-06-03T14:00:00+00:00\", \"2014-07-02T14:00:00+00:00\", \"2014-08-05T14:00:00+00:00\", \"2014-09-03T14:00:00+00:00\", \"2014-10-02T14:00:00+00:00\", \"2014-11-04T15:00:00+00:00\", \"2014-12-05T15:00:00+00:00\", \"2015-01-06T15:00:00+00:00\", \"2015-02-03T15:00:00+00:00\", \"2015-03-05T15:00:00+00:00\", \"2015-04-02T14:00:00+00:00\", \"2015-05-04T14:00:00+00:00\", \"2015-06-02T14:00:00+00:00\", \"2015-07-02T14:00:00+00:00\", \"2015-08-04T14:00:00+00:00\", \"2015-09-02T14:00:00+00:00\", \"2015-10-02T14:00:00+00:00\", \"2015-11-03T15:00:00+00:00\", \"2015-12-03T15:00:00+00:00\", \"2016-01-06T15:00:00+00:00\", \"2016-02-04T15:00:00+00:00\", \"2016-03-03T15:00:00+00:00\", \"2016-04-04T14:00:00+00:00\", \"2016-05-04T14:00:00+00:00\", \"2016-06-03T14:00:00+00:00\", \"2016-07-05T14:00:00+00:00\", \"2016-08-04T14:00:00+00:00\", \"2016-09-02T14:00:00+00:00\", \"2016-10-05T14:00:00+00:00\", \"2016-11-03T14:00:00+00:00\", \"2016-12-06T15:00:00+00:00\", \"2017-01-06T15:00:00+00:00\", \"2017-02-03T15:00:00+00:00\", \"2017-03-06T15:00:00+00:00\", \"2017-04-04T14:00:00+00:00\", \"2017-05-04T14:00:00+00:00\", \"2017-06-05T14:00:00+00:00\", \"2017-07-05T14:00:00+00:00\", \"2017-08-03T14:00:00+00:00\", \"2017-09-05T14:00:00+00:00\", \"2017-10-05T14:00:00+00:00\", \"2017-11-03T14:00:00+00:00\", \"2017-12-04T15:00:00+00:00\", \"2018-01-05T15:00:00+00:00\", \"2018-02-02T15:00:00+00:00\", \"2018-03-06T15:00:00+00:00\", \"2018-04-04T14:00:00+00:00\", \"2018-05-03T14:00:00+00:00\", \"2018-06-04T14:00:00+00:00\", \"2018-07-03T14:00:00+00:00\", \"2018-08-02T14:00:00+00:00\", \"2018-09-06T14:00:00+00:00\", \"2018-10-04T14:00:00+00:00\", \"2018-11-02T14:00:00+00:00\", \"2018-12-06T15:00:00+00:00\"], \"xaxis\": \"x\", \"y\": [40.89999999999927, 23.200000000000994, 33.60000000000029, 63.99999999999961, 70.9000000000004, 60.900000000001505, 76.8000000000013, 94.80000000000155, 112.00000000000321, 83.50000000000301, 82.40000000000246, 122.50000000000315, 134.55000000000328, 157.3500000000039, 205.0500000000033, 217.10000000000343, 229.15000000000356, 278.3500000000039, 289.4000000000041, 288.400000000002, 284.6000000000038, 290.00000000000364, 289.4000000000041, 292.8000000000042, 332.60000000000514, 350.60000000000315, 359.8000000000035, 370.8500000000037, 369.65000000000254, 364.9500000000006, 366.7500000000013, 405.05000000000354, 448.9500000000025, 397.850000000003, 336.65000000000174, 328.25, 370.54999999999956, 362.2500000000007, 371.0500000000028, 370.35000000000264, 367.95000000000243, 378.3500000000017, 390.750000000003, 417.95000000000357, 406.65000000000504, 418.70000000000516, 417.5000000000062, 417.90000000000657, 437.8000000000059, 463.60000000000616, 478.10000000000565, 479.5000000000037, 490.55000000000393, 486.75000000000347, 463.75000000000153, 474.8000000000018, 505.6000000000015, 504.6000000000016, 503.6000000000017, 495.2, 486.4000000000001, 487.9999999999995, 494.09999999999945, 504.50000000000097, 516.5500000000011, 527.1500000000017, 528.1500000000016, 541.8500000000025, 542.0500000000038, 564.8500000000022, 524.0500000000013, 534.4500000000006, 544.8499999999999, 548.3500000000006, 558.7499999999999, 567.6500000000027, 588.6500000000026, 578.2500000000033, 589.3000000000035, 601.7000000000048, 602.4000000000027, 596.7000000000031, 607.1000000000024, 571.0000000000013, 568.400000000002, 604.8000000000006, 615.1999999999999, 630.3999999999996, 637.1999999999975, 649.5999999999989, 664.6999999999979, 676.749999999998, 718.0499999999954, 739.8499999999962, 752.2499999999975, 743.0499999999972, 732.4499999999966, 709.7499999999989, 710.0499999999986, 722.0999999999987, 714.2000000000002, 717.000000000003, 728.0500000000031, 710.3500000000026, 722.4000000000027, 716.2000000000021, 740.6000000000021, 746.0000000000019, 741.4000000000007, 751.2000000000005, 762.2500000000007, 772.65, 785.2500000000003, 797.3500000000018, 792.9499999999997, 805.350000000001, 806.9500000000027, 794.9500000000018, 807.0000000000018, 818.050000000002], \"yaxis\": \"y\"}],\n",
       "                        {\"template\": {\"data\": {\"bar\": [{\"error_x\": {\"color\": \"#2a3f5f\"}, \"error_y\": {\"color\": \"#2a3f5f\"}, \"marker\": {\"line\": {\"color\": \"#E5ECF6\", \"width\": 0.5}}, \"type\": \"bar\"}], \"barpolar\": [{\"marker\": {\"line\": {\"color\": \"#E5ECF6\", \"width\": 0.5}}, \"type\": \"barpolar\"}], \"carpet\": [{\"aaxis\": {\"endlinecolor\": \"#2a3f5f\", \"gridcolor\": \"white\", \"linecolor\": \"white\", \"minorgridcolor\": \"white\", \"startlinecolor\": \"#2a3f5f\"}, \"baxis\": {\"endlinecolor\": \"#2a3f5f\", \"gridcolor\": \"white\", \"linecolor\": \"white\", \"minorgridcolor\": \"white\", \"startlinecolor\": \"#2a3f5f\"}, \"type\": \"carpet\"}], \"choropleth\": [{\"colorbar\": {\"outlinewidth\": 0, \"ticks\": \"\"}, \"type\": \"choropleth\"}], \"contour\": [{\"colorbar\": {\"outlinewidth\": 0, \"ticks\": \"\"}, \"colorscale\": [[0.0, \"#0d0887\"], [0.1111111111111111, \"#46039f\"], [0.2222222222222222, \"#7201a8\"], [0.3333333333333333, \"#9c179e\"], [0.4444444444444444, \"#bd3786\"], [0.5555555555555556, \"#d8576b\"], [0.6666666666666666, \"#ed7953\"], [0.7777777777777778, \"#fb9f3a\"], [0.8888888888888888, \"#fdca26\"], [1.0, \"#f0f921\"]], \"type\": \"contour\"}], \"contourcarpet\": [{\"colorbar\": {\"outlinewidth\": 0, \"ticks\": \"\"}, \"type\": \"contourcarpet\"}], \"heatmap\": [{\"colorbar\": {\"outlinewidth\": 0, \"ticks\": \"\"}, \"colorscale\": [[0.0, \"#0d0887\"], [0.1111111111111111, \"#46039f\"], [0.2222222222222222, \"#7201a8\"], [0.3333333333333333, \"#9c179e\"], [0.4444444444444444, \"#bd3786\"], [0.5555555555555556, \"#d8576b\"], [0.6666666666666666, \"#ed7953\"], [0.7777777777777778, \"#fb9f3a\"], [0.8888888888888888, \"#fdca26\"], [1.0, \"#f0f921\"]], \"type\": \"heatmap\"}], \"heatmapgl\": [{\"colorbar\": {\"outlinewidth\": 0, \"ticks\": \"\"}, \"colorscale\": [[0.0, \"#0d0887\"], [0.1111111111111111, \"#46039f\"], [0.2222222222222222, \"#7201a8\"], [0.3333333333333333, \"#9c179e\"], [0.4444444444444444, \"#bd3786\"], [0.5555555555555556, \"#d8576b\"], [0.6666666666666666, \"#ed7953\"], [0.7777777777777778, \"#fb9f3a\"], [0.8888888888888888, \"#fdca26\"], [1.0, \"#f0f921\"]], \"type\": \"heatmapgl\"}], \"histogram\": [{\"marker\": {\"colorbar\": {\"outlinewidth\": 0, \"ticks\": \"\"}}, \"type\": \"histogram\"}], \"histogram2d\": [{\"colorbar\": {\"outlinewidth\": 0, \"ticks\": \"\"}, \"colorscale\": [[0.0, \"#0d0887\"], [0.1111111111111111, \"#46039f\"], [0.2222222222222222, \"#7201a8\"], [0.3333333333333333, \"#9c179e\"], [0.4444444444444444, \"#bd3786\"], [0.5555555555555556, \"#d8576b\"], [0.6666666666666666, \"#ed7953\"], [0.7777777777777778, \"#fb9f3a\"], [0.8888888888888888, \"#fdca26\"], [1.0, \"#f0f921\"]], \"type\": \"histogram2d\"}], \"histogram2dcontour\": [{\"colorbar\": {\"outlinewidth\": 0, \"ticks\": \"\"}, \"colorscale\": [[0.0, \"#0d0887\"], [0.1111111111111111, \"#46039f\"], [0.2222222222222222, \"#7201a8\"], [0.3333333333333333, \"#9c179e\"], [0.4444444444444444, \"#bd3786\"], [0.5555555555555556, \"#d8576b\"], [0.6666666666666666, \"#ed7953\"], [0.7777777777777778, \"#fb9f3a\"], [0.8888888888888888, \"#fdca26\"], [1.0, \"#f0f921\"]], \"type\": \"histogram2dcontour\"}], \"mesh3d\": [{\"colorbar\": {\"outlinewidth\": 0, \"ticks\": \"\"}, \"type\": \"mesh3d\"}], \"parcoords\": [{\"line\": {\"colorbar\": {\"outlinewidth\": 0, \"ticks\": \"\"}}, \"type\": \"parcoords\"}], \"scatter\": [{\"marker\": {\"colorbar\": {\"outlinewidth\": 0, \"ticks\": \"\"}}, \"type\": \"scatter\"}], \"scatter3d\": [{\"line\": {\"colorbar\": {\"outlinewidth\": 0, \"ticks\": \"\"}}, \"marker\": {\"colorbar\": {\"outlinewidth\": 0, \"ticks\": \"\"}}, \"type\": \"scatter3d\"}], \"scattercarpet\": [{\"marker\": {\"colorbar\": {\"outlinewidth\": 0, \"ticks\": \"\"}}, \"type\": \"scattercarpet\"}], \"scattergeo\": [{\"marker\": {\"colorbar\": {\"outlinewidth\": 0, \"ticks\": \"\"}}, \"type\": \"scattergeo\"}], \"scattergl\": [{\"marker\": {\"colorbar\": {\"outlinewidth\": 0, \"ticks\": \"\"}}, \"type\": \"scattergl\"}], \"scattermapbox\": [{\"marker\": {\"colorbar\": {\"outlinewidth\": 0, \"ticks\": \"\"}}, \"type\": \"scattermapbox\"}], \"scatterpolar\": [{\"marker\": {\"colorbar\": {\"outlinewidth\": 0, \"ticks\": \"\"}}, \"type\": \"scatterpolar\"}], \"scatterpolargl\": [{\"marker\": {\"colorbar\": {\"outlinewidth\": 0, \"ticks\": \"\"}}, \"type\": \"scatterpolargl\"}], \"scatterternary\": [{\"marker\": {\"colorbar\": {\"outlinewidth\": 0, \"ticks\": \"\"}}, \"type\": \"scatterternary\"}], \"surface\": [{\"colorbar\": {\"outlinewidth\": 0, \"ticks\": \"\"}, \"colorscale\": [[0.0, \"#0d0887\"], [0.1111111111111111, \"#46039f\"], [0.2222222222222222, \"#7201a8\"], [0.3333333333333333, \"#9c179e\"], [0.4444444444444444, \"#bd3786\"], [0.5555555555555556, \"#d8576b\"], [0.6666666666666666, \"#ed7953\"], [0.7777777777777778, \"#fb9f3a\"], [0.8888888888888888, \"#fdca26\"], [1.0, \"#f0f921\"]], \"type\": \"surface\"}], \"table\": [{\"cells\": {\"fill\": {\"color\": \"#EBF0F8\"}, \"line\": {\"color\": \"white\"}}, \"header\": {\"fill\": {\"color\": \"#C8D4E3\"}, \"line\": {\"color\": \"white\"}}, \"type\": \"table\"}]}, \"layout\": {\"annotationdefaults\": {\"arrowcolor\": \"#2a3f5f\", \"arrowhead\": 0, \"arrowwidth\": 1}, \"colorscale\": {\"diverging\": [[0, \"#8e0152\"], [0.1, \"#c51b7d\"], [0.2, \"#de77ae\"], [0.3, \"#f1b6da\"], [0.4, \"#fde0ef\"], [0.5, \"#f7f7f7\"], [0.6, \"#e6f5d0\"], [0.7, \"#b8e186\"], [0.8, \"#7fbc41\"], [0.9, \"#4d9221\"], [1, \"#276419\"]], \"sequential\": [[0.0, \"#0d0887\"], [0.1111111111111111, \"#46039f\"], [0.2222222222222222, \"#7201a8\"], [0.3333333333333333, \"#9c179e\"], [0.4444444444444444, \"#bd3786\"], [0.5555555555555556, \"#d8576b\"], [0.6666666666666666, \"#ed7953\"], [0.7777777777777778, \"#fb9f3a\"], [0.8888888888888888, \"#fdca26\"], [1.0, \"#f0f921\"]], \"sequentialminus\": [[0.0, \"#0d0887\"], [0.1111111111111111, \"#46039f\"], [0.2222222222222222, \"#7201a8\"], [0.3333333333333333, \"#9c179e\"], [0.4444444444444444, \"#bd3786\"], [0.5555555555555556, \"#d8576b\"], [0.6666666666666666, \"#ed7953\"], [0.7777777777777778, \"#fb9f3a\"], [0.8888888888888888, \"#fdca26\"], [1.0, \"#f0f921\"]]}, \"colorway\": [\"#636efa\", \"#EF553B\", \"#00cc96\", \"#ab63fa\", \"#FFA15A\", \"#19d3f3\", \"#FF6692\", \"#B6E880\", \"#FF97FF\", \"#FECB52\"], \"font\": {\"color\": \"#2a3f5f\"}, \"geo\": {\"bgcolor\": \"white\", \"lakecolor\": \"white\", \"landcolor\": \"#E5ECF6\", \"showlakes\": true, \"showland\": true, \"subunitcolor\": \"white\"}, \"hoverlabel\": {\"align\": \"left\"}, \"hovermode\": \"closest\", \"mapbox\": {\"style\": \"light\"}, \"paper_bgcolor\": \"white\", \"plot_bgcolor\": \"#E5ECF6\", \"polar\": {\"angularaxis\": {\"gridcolor\": \"white\", \"linecolor\": \"white\", \"ticks\": \"\"}, \"bgcolor\": \"#E5ECF6\", \"radialaxis\": {\"gridcolor\": \"white\", \"linecolor\": \"white\", \"ticks\": \"\"}}, \"scene\": {\"xaxis\": {\"backgroundcolor\": \"#E5ECF6\", \"gridcolor\": \"white\", \"gridwidth\": 2, \"linecolor\": \"white\", \"showbackground\": true, \"ticks\": \"\", \"zerolinecolor\": \"white\"}, \"yaxis\": {\"backgroundcolor\": \"#E5ECF6\", \"gridcolor\": \"white\", \"gridwidth\": 2, \"linecolor\": \"white\", \"showbackground\": true, \"ticks\": \"\", \"zerolinecolor\": \"white\"}, \"zaxis\": {\"backgroundcolor\": \"#E5ECF6\", \"gridcolor\": \"white\", \"gridwidth\": 2, \"linecolor\": \"white\", \"showbackground\": true, \"ticks\": \"\", \"zerolinecolor\": \"white\"}}, \"shapedefaults\": {\"line\": {\"color\": \"#2a3f5f\"}}, \"ternary\": {\"aaxis\": {\"gridcolor\": \"white\", \"linecolor\": \"white\", \"ticks\": \"\"}, \"baxis\": {\"gridcolor\": \"white\", \"linecolor\": \"white\", \"ticks\": \"\"}, \"bgcolor\": \"#E5ECF6\", \"caxis\": {\"gridcolor\": \"white\", \"linecolor\": \"white\", \"ticks\": \"\"}}, \"title\": {\"x\": 0.05}, \"xaxis\": {\"automargin\": true, \"gridcolor\": \"white\", \"linecolor\": \"white\", \"ticks\": \"\", \"zerolinecolor\": \"white\", \"zerolinewidth\": 2}, \"yaxis\": {\"automargin\": true, \"gridcolor\": \"white\", \"linecolor\": \"white\", \"ticks\": \"\", \"zerolinecolor\": \"white\", \"zerolinewidth\": 2}}}, \"title\": {\"text\": \"Evoluci\\u00f3n Valores del Indicador\"}, \"xaxis\": {\"anchor\": \"y\", \"domain\": [0.0, 1.0], \"title\": {\"text\": \"Periodos\"}}, \"yaxis\": {\"anchor\": \"x\", \"domain\": [0.0, 1.0], \"title\": {\"text\": \"<b>USD</b>\"}}},\n",
       "                        {\"responsive\": true}\n",
       "                    ).then(function(){\n",
       "                            \n",
       "var gd = document.getElementById('cb7d875d-cc40-4192-95f6-7fe58b2855cd');\n",
       "var x = new MutationObserver(function (mutations, observer) {{\n",
       "        var display = window.getComputedStyle(gd).display;\n",
       "        if (!display || display === 'none') {{\n",
       "            console.log([gd, 'removed!']);\n",
       "            Plotly.purge(gd);\n",
       "            observer.disconnect();\n",
       "        }}\n",
       "}});\n",
       "\n",
       "// Listen for the removal of the full notebook cells\n",
       "var notebookContainer = gd.closest('#notebook-container');\n",
       "if (notebookContainer) {{\n",
       "    x.observe(notebookContainer, {childList: true});\n",
       "}}\n",
       "\n",
       "// Listen for the clearing of the current output cell\n",
       "var outputEl = gd.closest('.output');\n",
       "if (outputEl) {{\n",
       "    x.observe(outputEl, {childList: true});\n",
       "}}\n",
       "\n",
       "                        })\n",
       "                };\n",
       "                });\n",
       "            </script>\n",
       "        </div>"
      ]
     },
     "metadata": {},
     "output_type": "display_data"
    }
   ],
   "source": [
    "fig = go.Figure()\n",
    "fig = make_subplots()\n",
    "fig.add_trace(go.Scatter(x=df_backtest['timestamp'], y=df_backtest['capital'],name='Capital'),secondary_y=False)\n",
    "# Título del grafico\n",
    "fig.update_layout(title_text='Evolución Valores del Indicador')\n",
    "    \n",
    "# Titulo eje x\n",
    "fig.update_xaxes(title_text='Periodos')\n",
    "    \n",
    "# Titulo eje y\n",
    "fig.update_yaxes(title_text='<b>USD</b>', secondary_y=False)\n",
    "    \n",
    "fig.show()"
   ]
  },
  {
   "cell_type": "markdown",
   "metadata": {},
   "source": [
    "### Gráfico Boxplot"
   ]
  },
  {
   "cell_type": "code",
   "execution_count": 24,
   "metadata": {
    "scrolled": false
   },
   "outputs": [
    {
     "data": {
      "application/vnd.plotly.v1+json": {
       "config": {
        "linkText": "Export to plot.ly",
        "plotlyServerURL": "https://plot.ly",
        "showLink": false
       },
       "data": [
        {
         "boxmean": true,
         "boxpoints": "all",
         "jitter": 0.5,
         "line": {
          "width": 1
         },
         "marker": {
          "size": 7
         },
         "name": "actual",
         "selectedpoints": [
          "2009-01-06T15:00:00+00:00",
          "2009-02-05T15:00:00+00:00",
          "2012-10-04T14:00:00+00:00",
          "2012-11-02T14:00:00+00:00",
          "2013-05-03T14:00:00+00:00",
          "2014-09-03T14:00:00+00:00",
          "2014-10-02T14:00:00+00:00"
         ],
         "type": "box",
         "whiskerwidth": 0.5,
         "y": [
          -0.6190476190476191,
          -0.4666666666666667,
          -0.3333333333333333,
          0.06666666666666667,
          -0.08571428571428572,
          0.047619047619047616,
          0.10476190476190476,
          0.08571428571428572,
          0.13333333333333333,
          -0.0761904761904762,
          0.1523809523809524,
          0.0761904761904762,
          0.09523809523809523,
          0.14285714285714285,
          0.23809523809523808,
          0.12380952380952381,
          0.12380952380952381,
          0.09523809523809523,
          -0.13333333333333333,
          -0.11428571428571428,
          0.009523809523809525,
          0,
          0.2857142857142857,
          -0.06666666666666667,
          0.12380952380952381,
          0.13333333333333333,
          0.3142857142857143,
          -0.02857142857142857,
          0.3619047619047619,
          -0.08571428571428572,
          0.05714285714285714,
          -0.0380952380952381,
          0.2,
          0.009523809523809525,
          -0.009523809523809525,
          -0.01904761904761905,
          0.20952380952380953,
          0.13333333333333333,
          -0.10476190476190476,
          0.10476190476190476,
          -0.2,
          -0.06666666666666667,
          0.047619047619047616,
          -0.047619047619047616,
          0.24761904761904763,
          -0.48571428571428565,
          0.45714285714285713,
          0.0761904761904762,
          -0.02857142857142857,
          0.12380952380952381,
          -0.09523809523809523,
          0.18095238095238095,
          -0.4666666666666667,
          0.12380952380952381,
          0.2857142857142857,
          0.1523809523809524,
          -0.22857142857142856,
          0.17142857142857143,
          -0.009523809523809525,
          -0.047619047619047616,
          0.14285714285714285,
          -0.19047619047619047,
          -0.09523809523809523,
          0.14285714285714285,
          0.14285714285714285,
          0.0761904761904762,
          -0.05714285714285714,
          0.14285714285714285,
          1,
          -0.9523809523809523,
          -0.047619047619047616,
          -0.06666666666666667,
          -0.1619047619047619,
          -0.3333333333333333,
          -0.06666666666666667,
          0.01904761904761905,
          0.2,
          -0.0380952380952381,
          -0.09523809523809523,
          0.17142857142857143,
          0.0380952380952381,
          -0.1619047619047619,
          -0.09523809523809523,
          0.14285714285714285,
          -0.01904761904761905,
          -0.2761904761904762,
          0.1523809523809524,
          -0.1619047619047619,
          0.10476190476190476,
          0.18095238095238095,
          -0.09523809523809523,
          -0.14285714285714285,
          0.18095238095238095,
          0.01904761904761905,
          0.02857142857142857,
          0.2571428571428572,
          -0.22857142857142856,
          0.12380952380952381,
          0.11428571428571428,
          0.09523809523809523,
          0.047619047619047616,
          -0.01904761904761905,
          -0.0761904761904762,
          0.2857142857142857,
          -0.3142857142857143,
          0.11428571428571428,
          0.13333333333333333,
          -0.009523809523809525,
          0.12380952380952381,
          0.1619047619047619,
          -0.13333333333333333,
          0.11428571428571428,
          0.1523809523809524,
          -0.0761904761904762,
          0.0380952380952381,
          0.06666666666666667,
          -0.0761904761904762,
          0.21904761904761902,
          0.06666666666666667,
          -0.2
         ]
        },
        {
         "boxmean": true,
         "boxpoints": "all",
         "jitter": 0.5,
         "line": {
          "width": 1
         },
         "marker": {
          "size": 7
         },
         "name": "previous",
         "selectedpoints": [
          "2009-01-06T15:00:00+00:00",
          "2009-02-05T15:00:00+00:00",
          "2009-03-05T15:00:00+00:00",
          "2012-11-02T14:00:00+00:00",
          "2012-12-05T15:00:00+00:00",
          "2013-06-05T14:00:00+00:00",
          "2014-10-02T14:00:00+00:00",
          "2014-11-04T15:00:00+00:00"
         ],
         "type": "box",
         "whiskerwidth": 0.5,
         "y": [
          -0.5714285714285714,
          -0.6190476190476191,
          -0.4666666666666667,
          -0.3333333333333333,
          0.06666666666666667,
          -0.08571428571428572,
          0.047619047619047616,
          0.10476190476190476,
          0.08571428571428572,
          0.13333333333333333,
          -0.0761904761904762,
          0.1523809523809524,
          0.0761904761904762,
          0.09523809523809523,
          0.14285714285714285,
          0.23809523809523808,
          0.12380952380952381,
          0.12380952380952381,
          0.09523809523809523,
          -0.13333333333333333,
          -0.11428571428571428,
          0.009523809523809525,
          0,
          0.2857142857142857,
          -0.06666666666666667,
          0.12380952380952381,
          0.13333333333333333,
          0.3142857142857143,
          -0.02857142857142857,
          0.3619047619047619,
          -0.08571428571428572,
          0.05714285714285714,
          -0.0380952380952381,
          0.2,
          0.009523809523809525,
          -0.009523809523809525,
          -0.01904761904761905,
          0.20952380952380953,
          0.13333333333333333,
          -0.10476190476190476,
          0.10476190476190476,
          -0.2,
          -0.06666666666666667,
          0.047619047619047616,
          -0.047619047619047616,
          0.24761904761904763,
          -0.48571428571428565,
          0.45714285714285713,
          0.0761904761904762,
          -0.02857142857142857,
          0.12380952380952381,
          -0.09523809523809523,
          0.18095238095238095,
          -0.4666666666666667,
          0.12380952380952381,
          0.2857142857142857,
          0.1523809523809524,
          -0.009523809523809525,
          -0.22857142857142856,
          0.17142857142857143,
          -0.047619047619047616,
          0.14285714285714285,
          -0.19047619047619047,
          -0.09523809523809523,
          0.14285714285714285,
          0.14285714285714285,
          0.0761904761904762,
          -0.05714285714285714,
          0.14285714285714285,
          1,
          -0.9523809523809523,
          -0.047619047619047616,
          -0.06666666666666667,
          -0.1619047619047619,
          -0.3333333333333333,
          -0.06666666666666667,
          0.01904761904761905,
          0.2,
          -0.0380952380952381,
          -0.09523809523809523,
          0.17142857142857143,
          0.0380952380952381,
          -0.1619047619047619,
          -0.09523809523809523,
          0.14285714285714285,
          -0.01904761904761905,
          -0.2761904761904762,
          0.1523809523809524,
          -0.1619047619047619,
          0.10476190476190476,
          0.18095238095238095,
          -0.09523809523809523,
          -0.14285714285714285,
          0.18095238095238095,
          0.01904761904761905,
          0.02857142857142857,
          0.2571428571428572,
          -0.22857142857142856,
          0.12380952380952381,
          0.11428571428571428,
          0.09523809523809523,
          0.047619047619047616,
          -0.01904761904761905,
          -0.0761904761904762,
          0.2857142857142857,
          -0.3142857142857143,
          0.11428571428571428,
          0.13333333333333333,
          -0.009523809523809525,
          0.12380952380952381,
          0.1619047619047619,
          -0.13333333333333333,
          0.11428571428571428,
          0.1523809523809524,
          -0.0761904761904762,
          0.0380952380952381,
          0.06666666666666667,
          -0.0761904761904762,
          0.21904761904761902,
          0.06666666666666667
         ]
        },
        {
         "boxmean": true,
         "boxpoints": "all",
         "jitter": 0.5,
         "line": {
          "width": 1
         },
         "marker": {
          "size": 7
         },
         "name": "consensus",
         "selectedpoints": [
          "2012-10-04T14:00:00+00:00",
          "2012-11-02T14:00:00+00:00",
          "2014-09-03T14:00:00+00:00",
          "2014-10-02T14:00:00+00:00"
         ],
         "type": "box",
         "whiskerwidth": 0.5,
         "y": [
          -0.20909090909090908,
          -0.2727272727272727,
          -0.18181818181818182,
          -0.11818181818181818,
          -0.06363636363636363,
          0.06363636363636363,
          0.06363636363636363,
          0,
          0.18181818181818182,
          -0.05454545454545454,
          0.1,
          0.018181818181818184,
          0.045454545454545456,
          0.02727272727272727,
          0.14545454545454548,
          0.045454545454545456,
          0,
          0.10909090909090909,
          -0.045454545454545456,
          0.009090909090909092,
          0.045454545454545456,
          0,
          0.11818181818181818,
          -0.06363636363636363,
          -0.009090909090909092,
          -0.018181818181818184,
          0.2,
          0.045454545454545456,
          0.13636363636363635,
          -0.02727272727272727,
          0.09090909090909091,
          -0.03636363636363637,
          0.13636363636363635,
          0,
          0,
          -0.018181818181818184,
          0.18181818181818182,
          0.13636363636363635,
          -0.13636363636363635,
          0.13636363636363635,
          -0.14545454545454548,
          0.02727272727272727,
          0.018181818181818184,
          -0.02727272727272727,
          0.17272727272727273,
          -0.5272727272727272,
          0.41818181818181815,
          0,
          0.03636363636363637,
          0.2,
          -0.2,
          0.2636363636363636,
          -0.23636363636363636,
          0.13636363636363635,
          0.18181818181818182,
          0.20909090909090908,
          -0.3,
          0.15454545454545454,
          -0.21818181818181817,
          -0.09090909090909091,
          0.16363636363636364,
          -0.15454545454545454,
          -0.03636363636363637,
          0.10909090909090909,
          0.12727272727272726,
          0.045454545454545456,
          -0.02727272727272727,
          0.05454545454545454,
          1,
          -0.8454545454545456,
          -0.05454545454545454,
          0.009090909090909092,
          -0.045454545454545456,
          -0.2,
          0.018181818181818184,
          -0.03636363636363637,
          0.18181818181818182,
          0,
          -0.045454545454545456,
          0.16363636363636364,
          0.08181818181818182,
          -0.10909090909090909,
          -0.08181818181818182,
          0.12727272727272726,
          -0.018181818181818184,
          -0.2545454545454545,
          0.18181818181818182,
          -0.14545454545454548,
          0.05454545454545454,
          0.17272727272727273,
          -0.08181818181818182,
          -0.16363636363636364,
          0.18181818181818182,
          -0.009090909090909092,
          0.018181818181818184,
          0.23636363636363636,
          -0.2,
          0.09090909090909091,
          0.10909090909090909,
          0.09090909090909091,
          0.03636363636363637,
          -0.018181818181818184,
          -0.045454545454545456,
          0.2636363636363636,
          -0.3,
          0.09090909090909091,
          0.11818181818181818,
          -0.03636363636363637,
          0.1,
          0.13636363636363635,
          -0.11818181818181818,
          0.15454545454545454,
          0.12727272727272726,
          -0.045454545454545456,
          0,
          0.06363636363636363,
          -0.05454545454545454,
          0.19090909090909092,
          0.045454545454545456,
          -0.018181818181818184
         ]
        }
       ],
       "layout": {
        "margin": {
         "b": 80,
         "l": 40,
         "r": 30,
         "t": 100
        },
        "showlegend": false,
        "template": {
         "data": {
          "bar": [
           {
            "error_x": {
             "color": "#2a3f5f"
            },
            "error_y": {
             "color": "#2a3f5f"
            },
            "marker": {
             "line": {
              "color": "#E5ECF6",
              "width": 0.5
             }
            },
            "type": "bar"
           }
          ],
          "barpolar": [
           {
            "marker": {
             "line": {
              "color": "#E5ECF6",
              "width": 0.5
             }
            },
            "type": "barpolar"
           }
          ],
          "carpet": [
           {
            "aaxis": {
             "endlinecolor": "#2a3f5f",
             "gridcolor": "white",
             "linecolor": "white",
             "minorgridcolor": "white",
             "startlinecolor": "#2a3f5f"
            },
            "baxis": {
             "endlinecolor": "#2a3f5f",
             "gridcolor": "white",
             "linecolor": "white",
             "minorgridcolor": "white",
             "startlinecolor": "#2a3f5f"
            },
            "type": "carpet"
           }
          ],
          "choropleth": [
           {
            "colorbar": {
             "outlinewidth": 0,
             "ticks": ""
            },
            "type": "choropleth"
           }
          ],
          "contour": [
           {
            "colorbar": {
             "outlinewidth": 0,
             "ticks": ""
            },
            "colorscale": [
             [
              0,
              "#0d0887"
             ],
             [
              0.1111111111111111,
              "#46039f"
             ],
             [
              0.2222222222222222,
              "#7201a8"
             ],
             [
              0.3333333333333333,
              "#9c179e"
             ],
             [
              0.4444444444444444,
              "#bd3786"
             ],
             [
              0.5555555555555556,
              "#d8576b"
             ],
             [
              0.6666666666666666,
              "#ed7953"
             ],
             [
              0.7777777777777778,
              "#fb9f3a"
             ],
             [
              0.8888888888888888,
              "#fdca26"
             ],
             [
              1,
              "#f0f921"
             ]
            ],
            "type": "contour"
           }
          ],
          "contourcarpet": [
           {
            "colorbar": {
             "outlinewidth": 0,
             "ticks": ""
            },
            "type": "contourcarpet"
           }
          ],
          "heatmap": [
           {
            "colorbar": {
             "outlinewidth": 0,
             "ticks": ""
            },
            "colorscale": [
             [
              0,
              "#0d0887"
             ],
             [
              0.1111111111111111,
              "#46039f"
             ],
             [
              0.2222222222222222,
              "#7201a8"
             ],
             [
              0.3333333333333333,
              "#9c179e"
             ],
             [
              0.4444444444444444,
              "#bd3786"
             ],
             [
              0.5555555555555556,
              "#d8576b"
             ],
             [
              0.6666666666666666,
              "#ed7953"
             ],
             [
              0.7777777777777778,
              "#fb9f3a"
             ],
             [
              0.8888888888888888,
              "#fdca26"
             ],
             [
              1,
              "#f0f921"
             ]
            ],
            "type": "heatmap"
           }
          ],
          "heatmapgl": [
           {
            "colorbar": {
             "outlinewidth": 0,
             "ticks": ""
            },
            "colorscale": [
             [
              0,
              "#0d0887"
             ],
             [
              0.1111111111111111,
              "#46039f"
             ],
             [
              0.2222222222222222,
              "#7201a8"
             ],
             [
              0.3333333333333333,
              "#9c179e"
             ],
             [
              0.4444444444444444,
              "#bd3786"
             ],
             [
              0.5555555555555556,
              "#d8576b"
             ],
             [
              0.6666666666666666,
              "#ed7953"
             ],
             [
              0.7777777777777778,
              "#fb9f3a"
             ],
             [
              0.8888888888888888,
              "#fdca26"
             ],
             [
              1,
              "#f0f921"
             ]
            ],
            "type": "heatmapgl"
           }
          ],
          "histogram": [
           {
            "marker": {
             "colorbar": {
              "outlinewidth": 0,
              "ticks": ""
             }
            },
            "type": "histogram"
           }
          ],
          "histogram2d": [
           {
            "colorbar": {
             "outlinewidth": 0,
             "ticks": ""
            },
            "colorscale": [
             [
              0,
              "#0d0887"
             ],
             [
              0.1111111111111111,
              "#46039f"
             ],
             [
              0.2222222222222222,
              "#7201a8"
             ],
             [
              0.3333333333333333,
              "#9c179e"
             ],
             [
              0.4444444444444444,
              "#bd3786"
             ],
             [
              0.5555555555555556,
              "#d8576b"
             ],
             [
              0.6666666666666666,
              "#ed7953"
             ],
             [
              0.7777777777777778,
              "#fb9f3a"
             ],
             [
              0.8888888888888888,
              "#fdca26"
             ],
             [
              1,
              "#f0f921"
             ]
            ],
            "type": "histogram2d"
           }
          ],
          "histogram2dcontour": [
           {
            "colorbar": {
             "outlinewidth": 0,
             "ticks": ""
            },
            "colorscale": [
             [
              0,
              "#0d0887"
             ],
             [
              0.1111111111111111,
              "#46039f"
             ],
             [
              0.2222222222222222,
              "#7201a8"
             ],
             [
              0.3333333333333333,
              "#9c179e"
             ],
             [
              0.4444444444444444,
              "#bd3786"
             ],
             [
              0.5555555555555556,
              "#d8576b"
             ],
             [
              0.6666666666666666,
              "#ed7953"
             ],
             [
              0.7777777777777778,
              "#fb9f3a"
             ],
             [
              0.8888888888888888,
              "#fdca26"
             ],
             [
              1,
              "#f0f921"
             ]
            ],
            "type": "histogram2dcontour"
           }
          ],
          "mesh3d": [
           {
            "colorbar": {
             "outlinewidth": 0,
             "ticks": ""
            },
            "type": "mesh3d"
           }
          ],
          "parcoords": [
           {
            "line": {
             "colorbar": {
              "outlinewidth": 0,
              "ticks": ""
             }
            },
            "type": "parcoords"
           }
          ],
          "scatter": [
           {
            "marker": {
             "colorbar": {
              "outlinewidth": 0,
              "ticks": ""
             }
            },
            "type": "scatter"
           }
          ],
          "scatter3d": [
           {
            "line": {
             "colorbar": {
              "outlinewidth": 0,
              "ticks": ""
             }
            },
            "marker": {
             "colorbar": {
              "outlinewidth": 0,
              "ticks": ""
             }
            },
            "type": "scatter3d"
           }
          ],
          "scattercarpet": [
           {
            "marker": {
             "colorbar": {
              "outlinewidth": 0,
              "ticks": ""
             }
            },
            "type": "scattercarpet"
           }
          ],
          "scattergeo": [
           {
            "marker": {
             "colorbar": {
              "outlinewidth": 0,
              "ticks": ""
             }
            },
            "type": "scattergeo"
           }
          ],
          "scattergl": [
           {
            "marker": {
             "colorbar": {
              "outlinewidth": 0,
              "ticks": ""
             }
            },
            "type": "scattergl"
           }
          ],
          "scattermapbox": [
           {
            "marker": {
             "colorbar": {
              "outlinewidth": 0,
              "ticks": ""
             }
            },
            "type": "scattermapbox"
           }
          ],
          "scatterpolar": [
           {
            "marker": {
             "colorbar": {
              "outlinewidth": 0,
              "ticks": ""
             }
            },
            "type": "scatterpolar"
           }
          ],
          "scatterpolargl": [
           {
            "marker": {
             "colorbar": {
              "outlinewidth": 0,
              "ticks": ""
             }
            },
            "type": "scatterpolargl"
           }
          ],
          "scatterternary": [
           {
            "marker": {
             "colorbar": {
              "outlinewidth": 0,
              "ticks": ""
             }
            },
            "type": "scatterternary"
           }
          ],
          "surface": [
           {
            "colorbar": {
             "outlinewidth": 0,
             "ticks": ""
            },
            "colorscale": [
             [
              0,
              "#0d0887"
             ],
             [
              0.1111111111111111,
              "#46039f"
             ],
             [
              0.2222222222222222,
              "#7201a8"
             ],
             [
              0.3333333333333333,
              "#9c179e"
             ],
             [
              0.4444444444444444,
              "#bd3786"
             ],
             [
              0.5555555555555556,
              "#d8576b"
             ],
             [
              0.6666666666666666,
              "#ed7953"
             ],
             [
              0.7777777777777778,
              "#fb9f3a"
             ],
             [
              0.8888888888888888,
              "#fdca26"
             ],
             [
              1,
              "#f0f921"
             ]
            ],
            "type": "surface"
           }
          ],
          "table": [
           {
            "cells": {
             "fill": {
              "color": "#EBF0F8"
             },
             "line": {
              "color": "white"
             }
            },
            "header": {
             "fill": {
              "color": "#C8D4E3"
             },
             "line": {
              "color": "white"
             }
            },
            "type": "table"
           }
          ]
         },
         "layout": {
          "annotationdefaults": {
           "arrowcolor": "#2a3f5f",
           "arrowhead": 0,
           "arrowwidth": 1
          },
          "colorscale": {
           "diverging": [
            [
             0,
             "#8e0152"
            ],
            [
             0.1,
             "#c51b7d"
            ],
            [
             0.2,
             "#de77ae"
            ],
            [
             0.3,
             "#f1b6da"
            ],
            [
             0.4,
             "#fde0ef"
            ],
            [
             0.5,
             "#f7f7f7"
            ],
            [
             0.6,
             "#e6f5d0"
            ],
            [
             0.7,
             "#b8e186"
            ],
            [
             0.8,
             "#7fbc41"
            ],
            [
             0.9,
             "#4d9221"
            ],
            [
             1,
             "#276419"
            ]
           ],
           "sequential": [
            [
             0,
             "#0d0887"
            ],
            [
             0.1111111111111111,
             "#46039f"
            ],
            [
             0.2222222222222222,
             "#7201a8"
            ],
            [
             0.3333333333333333,
             "#9c179e"
            ],
            [
             0.4444444444444444,
             "#bd3786"
            ],
            [
             0.5555555555555556,
             "#d8576b"
            ],
            [
             0.6666666666666666,
             "#ed7953"
            ],
            [
             0.7777777777777778,
             "#fb9f3a"
            ],
            [
             0.8888888888888888,
             "#fdca26"
            ],
            [
             1,
             "#f0f921"
            ]
           ],
           "sequentialminus": [
            [
             0,
             "#0d0887"
            ],
            [
             0.1111111111111111,
             "#46039f"
            ],
            [
             0.2222222222222222,
             "#7201a8"
            ],
            [
             0.3333333333333333,
             "#9c179e"
            ],
            [
             0.4444444444444444,
             "#bd3786"
            ],
            [
             0.5555555555555556,
             "#d8576b"
            ],
            [
             0.6666666666666666,
             "#ed7953"
            ],
            [
             0.7777777777777778,
             "#fb9f3a"
            ],
            [
             0.8888888888888888,
             "#fdca26"
            ],
            [
             1,
             "#f0f921"
            ]
           ]
          },
          "colorway": [
           "#636efa",
           "#EF553B",
           "#00cc96",
           "#ab63fa",
           "#FFA15A",
           "#19d3f3",
           "#FF6692",
           "#B6E880",
           "#FF97FF",
           "#FECB52"
          ],
          "font": {
           "color": "#2a3f5f"
          },
          "geo": {
           "bgcolor": "white",
           "lakecolor": "white",
           "landcolor": "#E5ECF6",
           "showlakes": true,
           "showland": true,
           "subunitcolor": "white"
          },
          "hoverlabel": {
           "align": "left"
          },
          "hovermode": "closest",
          "mapbox": {
           "style": "light"
          },
          "paper_bgcolor": "white",
          "plot_bgcolor": "#E5ECF6",
          "polar": {
           "angularaxis": {
            "gridcolor": "white",
            "linecolor": "white",
            "ticks": ""
           },
           "bgcolor": "#E5ECF6",
           "radialaxis": {
            "gridcolor": "white",
            "linecolor": "white",
            "ticks": ""
           }
          },
          "scene": {
           "xaxis": {
            "backgroundcolor": "#E5ECF6",
            "gridcolor": "white",
            "gridwidth": 2,
            "linecolor": "white",
            "showbackground": true,
            "ticks": "",
            "zerolinecolor": "white"
           },
           "yaxis": {
            "backgroundcolor": "#E5ECF6",
            "gridcolor": "white",
            "gridwidth": 2,
            "linecolor": "white",
            "showbackground": true,
            "ticks": "",
            "zerolinecolor": "white"
           },
           "zaxis": {
            "backgroundcolor": "#E5ECF6",
            "gridcolor": "white",
            "gridwidth": 2,
            "linecolor": "white",
            "showbackground": true,
            "ticks": "",
            "zerolinecolor": "white"
           }
          },
          "shapedefaults": {
           "line": {
            "color": "#2a3f5f"
           }
          },
          "ternary": {
           "aaxis": {
            "gridcolor": "white",
            "linecolor": "white",
            "ticks": ""
           },
           "baxis": {
            "gridcolor": "white",
            "linecolor": "white",
            "ticks": ""
           },
           "bgcolor": "#E5ECF6",
           "caxis": {
            "gridcolor": "white",
            "linecolor": "white",
            "ticks": ""
           }
          },
          "title": {
           "x": 0.05
          },
          "xaxis": {
           "automargin": true,
           "gridcolor": "white",
           "linecolor": "white",
           "ticks": "",
           "zerolinecolor": "white",
           "zerolinewidth": 2
          },
          "yaxis": {
           "automargin": true,
           "gridcolor": "white",
           "linecolor": "white",
           "ticks": "",
           "zerolinecolor": "white",
           "zerolinewidth": 2
          }
         }
        },
        "title": {
         "text": "Visualizacion los precios"
        },
        "yaxis": {
         "autorange": true,
         "dtick": 5,
         "gridcolor": "rgb(255, 255, 255)",
         "gridwidth": 1,
         "hoverformat": ".2f",
         "showgrid": true
        }
       }
      },
      "text/html": [
       "<div>\n",
       "        \n",
       "        \n",
       "            <div id=\"a16a37e9-2677-480a-8a75-8a1b224ad732\" class=\"plotly-graph-div\" style=\"height:525px; width:100%;\"></div>\n",
       "            <script type=\"text/javascript\">\n",
       "                require([\"plotly\"], function(Plotly) {\n",
       "                    window.PLOTLYENV=window.PLOTLYENV || {};\n",
       "                    \n",
       "                if (document.getElementById(\"a16a37e9-2677-480a-8a75-8a1b224ad732\")) {\n",
       "                    Plotly.newPlot(\n",
       "                        'a16a37e9-2677-480a-8a75-8a1b224ad732',\n",
       "                        [{\"boxmean\": true, \"boxpoints\": \"all\", \"jitter\": 0.5, \"line\": {\"width\": 1}, \"marker\": {\"size\": 7}, \"name\": \"actual\", \"selectedpoints\": [\"2009-01-06T15:00:00+00:00\", \"2009-02-05T15:00:00+00:00\", \"2012-10-04T14:00:00+00:00\", \"2012-11-02T14:00:00+00:00\", \"2013-05-03T14:00:00+00:00\", \"2014-09-03T14:00:00+00:00\", \"2014-10-02T14:00:00+00:00\"], \"type\": \"box\", \"whiskerwidth\": 0.5, \"y\": [-0.6190476190476191, -0.4666666666666667, -0.3333333333333333, 0.06666666666666667, -0.08571428571428572, 0.047619047619047616, 0.10476190476190476, 0.08571428571428572, 0.13333333333333333, -0.0761904761904762, 0.1523809523809524, 0.0761904761904762, 0.09523809523809523, 0.14285714285714285, 0.23809523809523808, 0.12380952380952381, 0.12380952380952381, 0.09523809523809523, -0.13333333333333333, -0.11428571428571428, 0.009523809523809525, 0.0, 0.2857142857142857, -0.06666666666666667, 0.12380952380952381, 0.13333333333333333, 0.3142857142857143, -0.02857142857142857, 0.3619047619047619, -0.08571428571428572, 0.05714285714285714, -0.0380952380952381, 0.2, 0.009523809523809525, -0.009523809523809525, -0.01904761904761905, 0.20952380952380953, 0.13333333333333333, -0.10476190476190476, 0.10476190476190476, -0.2, -0.06666666666666667, 0.047619047619047616, -0.047619047619047616, 0.24761904761904763, -0.48571428571428565, 0.45714285714285713, 0.0761904761904762, -0.02857142857142857, 0.12380952380952381, -0.09523809523809523, 0.18095238095238095, -0.4666666666666667, 0.12380952380952381, 0.2857142857142857, 0.1523809523809524, -0.22857142857142856, 0.17142857142857143, -0.009523809523809525, -0.047619047619047616, 0.14285714285714285, -0.19047619047619047, -0.09523809523809523, 0.14285714285714285, 0.14285714285714285, 0.0761904761904762, -0.05714285714285714, 0.14285714285714285, 1.0, -0.9523809523809523, -0.047619047619047616, -0.06666666666666667, -0.1619047619047619, -0.3333333333333333, -0.06666666666666667, 0.01904761904761905, 0.2, -0.0380952380952381, -0.09523809523809523, 0.17142857142857143, 0.0380952380952381, -0.1619047619047619, -0.09523809523809523, 0.14285714285714285, -0.01904761904761905, -0.2761904761904762, 0.1523809523809524, -0.1619047619047619, 0.10476190476190476, 0.18095238095238095, -0.09523809523809523, -0.14285714285714285, 0.18095238095238095, 0.01904761904761905, 0.02857142857142857, 0.2571428571428572, -0.22857142857142856, 0.12380952380952381, 0.11428571428571428, 0.09523809523809523, 0.047619047619047616, -0.01904761904761905, -0.0761904761904762, 0.2857142857142857, -0.3142857142857143, 0.11428571428571428, 0.13333333333333333, -0.009523809523809525, 0.12380952380952381, 0.1619047619047619, -0.13333333333333333, 0.11428571428571428, 0.1523809523809524, -0.0761904761904762, 0.0380952380952381, 0.06666666666666667, -0.0761904761904762, 0.21904761904761902, 0.06666666666666667, -0.2]}, {\"boxmean\": true, \"boxpoints\": \"all\", \"jitter\": 0.5, \"line\": {\"width\": 1}, \"marker\": {\"size\": 7}, \"name\": \"previous\", \"selectedpoints\": [\"2009-01-06T15:00:00+00:00\", \"2009-02-05T15:00:00+00:00\", \"2009-03-05T15:00:00+00:00\", \"2012-11-02T14:00:00+00:00\", \"2012-12-05T15:00:00+00:00\", \"2013-06-05T14:00:00+00:00\", \"2014-10-02T14:00:00+00:00\", \"2014-11-04T15:00:00+00:00\"], \"type\": \"box\", \"whiskerwidth\": 0.5, \"y\": [-0.5714285714285714, -0.6190476190476191, -0.4666666666666667, -0.3333333333333333, 0.06666666666666667, -0.08571428571428572, 0.047619047619047616, 0.10476190476190476, 0.08571428571428572, 0.13333333333333333, -0.0761904761904762, 0.1523809523809524, 0.0761904761904762, 0.09523809523809523, 0.14285714285714285, 0.23809523809523808, 0.12380952380952381, 0.12380952380952381, 0.09523809523809523, -0.13333333333333333, -0.11428571428571428, 0.009523809523809525, 0.0, 0.2857142857142857, -0.06666666666666667, 0.12380952380952381, 0.13333333333333333, 0.3142857142857143, -0.02857142857142857, 0.3619047619047619, -0.08571428571428572, 0.05714285714285714, -0.0380952380952381, 0.2, 0.009523809523809525, -0.009523809523809525, -0.01904761904761905, 0.20952380952380953, 0.13333333333333333, -0.10476190476190476, 0.10476190476190476, -0.2, -0.06666666666666667, 0.047619047619047616, -0.047619047619047616, 0.24761904761904763, -0.48571428571428565, 0.45714285714285713, 0.0761904761904762, -0.02857142857142857, 0.12380952380952381, -0.09523809523809523, 0.18095238095238095, -0.4666666666666667, 0.12380952380952381, 0.2857142857142857, 0.1523809523809524, -0.009523809523809525, -0.22857142857142856, 0.17142857142857143, -0.047619047619047616, 0.14285714285714285, -0.19047619047619047, -0.09523809523809523, 0.14285714285714285, 0.14285714285714285, 0.0761904761904762, -0.05714285714285714, 0.14285714285714285, 1.0, -0.9523809523809523, -0.047619047619047616, -0.06666666666666667, -0.1619047619047619, -0.3333333333333333, -0.06666666666666667, 0.01904761904761905, 0.2, -0.0380952380952381, -0.09523809523809523, 0.17142857142857143, 0.0380952380952381, -0.1619047619047619, -0.09523809523809523, 0.14285714285714285, -0.01904761904761905, -0.2761904761904762, 0.1523809523809524, -0.1619047619047619, 0.10476190476190476, 0.18095238095238095, -0.09523809523809523, -0.14285714285714285, 0.18095238095238095, 0.01904761904761905, 0.02857142857142857, 0.2571428571428572, -0.22857142857142856, 0.12380952380952381, 0.11428571428571428, 0.09523809523809523, 0.047619047619047616, -0.01904761904761905, -0.0761904761904762, 0.2857142857142857, -0.3142857142857143, 0.11428571428571428, 0.13333333333333333, -0.009523809523809525, 0.12380952380952381, 0.1619047619047619, -0.13333333333333333, 0.11428571428571428, 0.1523809523809524, -0.0761904761904762, 0.0380952380952381, 0.06666666666666667, -0.0761904761904762, 0.21904761904761902, 0.06666666666666667]}, {\"boxmean\": true, \"boxpoints\": \"all\", \"jitter\": 0.5, \"line\": {\"width\": 1}, \"marker\": {\"size\": 7}, \"name\": \"consensus\", \"selectedpoints\": [\"2012-10-04T14:00:00+00:00\", \"2012-11-02T14:00:00+00:00\", \"2014-09-03T14:00:00+00:00\", \"2014-10-02T14:00:00+00:00\"], \"type\": \"box\", \"whiskerwidth\": 0.5, \"y\": [-0.20909090909090908, -0.2727272727272727, -0.18181818181818182, -0.11818181818181818, -0.06363636363636363, 0.06363636363636363, 0.06363636363636363, 0.0, 0.18181818181818182, -0.05454545454545454, 0.1, 0.018181818181818184, 0.045454545454545456, 0.02727272727272727, 0.14545454545454548, 0.045454545454545456, 0.0, 0.10909090909090909, -0.045454545454545456, 0.009090909090909092, 0.045454545454545456, 0.0, 0.11818181818181818, -0.06363636363636363, -0.009090909090909092, -0.018181818181818184, 0.2, 0.045454545454545456, 0.13636363636363635, -0.02727272727272727, 0.09090909090909091, -0.03636363636363637, 0.13636363636363635, 0.0, 0.0, -0.018181818181818184, 0.18181818181818182, 0.13636363636363635, -0.13636363636363635, 0.13636363636363635, -0.14545454545454548, 0.02727272727272727, 0.018181818181818184, -0.02727272727272727, 0.17272727272727273, -0.5272727272727272, 0.41818181818181815, 0.0, 0.03636363636363637, 0.2, -0.2, 0.2636363636363636, -0.23636363636363636, 0.13636363636363635, 0.18181818181818182, 0.20909090909090908, -0.3, 0.15454545454545454, -0.21818181818181817, -0.09090909090909091, 0.16363636363636364, -0.15454545454545454, -0.03636363636363637, 0.10909090909090909, 0.12727272727272726, 0.045454545454545456, -0.02727272727272727, 0.05454545454545454, 1.0, -0.8454545454545456, -0.05454545454545454, 0.009090909090909092, -0.045454545454545456, -0.2, 0.018181818181818184, -0.03636363636363637, 0.18181818181818182, 0.0, -0.045454545454545456, 0.16363636363636364, 0.08181818181818182, -0.10909090909090909, -0.08181818181818182, 0.12727272727272726, -0.018181818181818184, -0.2545454545454545, 0.18181818181818182, -0.14545454545454548, 0.05454545454545454, 0.17272727272727273, -0.08181818181818182, -0.16363636363636364, 0.18181818181818182, -0.009090909090909092, 0.018181818181818184, 0.23636363636363636, -0.2, 0.09090909090909091, 0.10909090909090909, 0.09090909090909091, 0.03636363636363637, -0.018181818181818184, -0.045454545454545456, 0.2636363636363636, -0.3, 0.09090909090909091, 0.11818181818181818, -0.03636363636363637, 0.1, 0.13636363636363635, -0.11818181818181818, 0.15454545454545454, 0.12727272727272726, -0.045454545454545456, 0.0, 0.06363636363636363, -0.05454545454545454, 0.19090909090909092, 0.045454545454545456, -0.018181818181818184]}],\n",
       "                        {\"margin\": {\"b\": 80, \"l\": 40, \"r\": 30, \"t\": 100}, \"showlegend\": false, \"template\": {\"data\": {\"bar\": [{\"error_x\": {\"color\": \"#2a3f5f\"}, \"error_y\": {\"color\": \"#2a3f5f\"}, \"marker\": {\"line\": {\"color\": \"#E5ECF6\", \"width\": 0.5}}, \"type\": \"bar\"}], \"barpolar\": [{\"marker\": {\"line\": {\"color\": \"#E5ECF6\", \"width\": 0.5}}, \"type\": \"barpolar\"}], \"carpet\": [{\"aaxis\": {\"endlinecolor\": \"#2a3f5f\", \"gridcolor\": \"white\", \"linecolor\": \"white\", \"minorgridcolor\": \"white\", \"startlinecolor\": \"#2a3f5f\"}, \"baxis\": {\"endlinecolor\": \"#2a3f5f\", \"gridcolor\": \"white\", \"linecolor\": \"white\", \"minorgridcolor\": \"white\", \"startlinecolor\": \"#2a3f5f\"}, \"type\": \"carpet\"}], \"choropleth\": [{\"colorbar\": {\"outlinewidth\": 0, \"ticks\": \"\"}, \"type\": \"choropleth\"}], \"contour\": [{\"colorbar\": {\"outlinewidth\": 0, \"ticks\": \"\"}, \"colorscale\": [[0.0, \"#0d0887\"], [0.1111111111111111, \"#46039f\"], [0.2222222222222222, \"#7201a8\"], [0.3333333333333333, \"#9c179e\"], [0.4444444444444444, \"#bd3786\"], [0.5555555555555556, \"#d8576b\"], [0.6666666666666666, \"#ed7953\"], [0.7777777777777778, \"#fb9f3a\"], [0.8888888888888888, \"#fdca26\"], [1.0, \"#f0f921\"]], \"type\": \"contour\"}], \"contourcarpet\": [{\"colorbar\": {\"outlinewidth\": 0, \"ticks\": \"\"}, \"type\": \"contourcarpet\"}], \"heatmap\": [{\"colorbar\": {\"outlinewidth\": 0, \"ticks\": \"\"}, \"colorscale\": [[0.0, \"#0d0887\"], [0.1111111111111111, \"#46039f\"], [0.2222222222222222, \"#7201a8\"], [0.3333333333333333, \"#9c179e\"], [0.4444444444444444, \"#bd3786\"], [0.5555555555555556, \"#d8576b\"], [0.6666666666666666, \"#ed7953\"], [0.7777777777777778, \"#fb9f3a\"], [0.8888888888888888, \"#fdca26\"], [1.0, \"#f0f921\"]], \"type\": \"heatmap\"}], \"heatmapgl\": [{\"colorbar\": {\"outlinewidth\": 0, \"ticks\": \"\"}, \"colorscale\": [[0.0, \"#0d0887\"], [0.1111111111111111, \"#46039f\"], [0.2222222222222222, \"#7201a8\"], [0.3333333333333333, \"#9c179e\"], [0.4444444444444444, \"#bd3786\"], [0.5555555555555556, \"#d8576b\"], [0.6666666666666666, \"#ed7953\"], [0.7777777777777778, \"#fb9f3a\"], [0.8888888888888888, \"#fdca26\"], [1.0, \"#f0f921\"]], \"type\": \"heatmapgl\"}], \"histogram\": [{\"marker\": {\"colorbar\": {\"outlinewidth\": 0, \"ticks\": \"\"}}, \"type\": \"histogram\"}], \"histogram2d\": [{\"colorbar\": {\"outlinewidth\": 0, \"ticks\": \"\"}, \"colorscale\": [[0.0, \"#0d0887\"], [0.1111111111111111, \"#46039f\"], [0.2222222222222222, \"#7201a8\"], [0.3333333333333333, \"#9c179e\"], [0.4444444444444444, \"#bd3786\"], [0.5555555555555556, \"#d8576b\"], [0.6666666666666666, \"#ed7953\"], [0.7777777777777778, \"#fb9f3a\"], [0.8888888888888888, \"#fdca26\"], [1.0, \"#f0f921\"]], \"type\": \"histogram2d\"}], \"histogram2dcontour\": [{\"colorbar\": {\"outlinewidth\": 0, \"ticks\": \"\"}, \"colorscale\": [[0.0, \"#0d0887\"], [0.1111111111111111, \"#46039f\"], [0.2222222222222222, \"#7201a8\"], [0.3333333333333333, \"#9c179e\"], [0.4444444444444444, \"#bd3786\"], [0.5555555555555556, \"#d8576b\"], [0.6666666666666666, \"#ed7953\"], [0.7777777777777778, \"#fb9f3a\"], [0.8888888888888888, \"#fdca26\"], [1.0, \"#f0f921\"]], \"type\": \"histogram2dcontour\"}], \"mesh3d\": [{\"colorbar\": {\"outlinewidth\": 0, \"ticks\": \"\"}, \"type\": \"mesh3d\"}], \"parcoords\": [{\"line\": {\"colorbar\": {\"outlinewidth\": 0, \"ticks\": \"\"}}, \"type\": \"parcoords\"}], \"scatter\": [{\"marker\": {\"colorbar\": {\"outlinewidth\": 0, \"ticks\": \"\"}}, \"type\": \"scatter\"}], \"scatter3d\": [{\"line\": {\"colorbar\": {\"outlinewidth\": 0, \"ticks\": \"\"}}, \"marker\": {\"colorbar\": {\"outlinewidth\": 0, \"ticks\": \"\"}}, \"type\": \"scatter3d\"}], \"scattercarpet\": [{\"marker\": {\"colorbar\": {\"outlinewidth\": 0, \"ticks\": \"\"}}, \"type\": \"scattercarpet\"}], \"scattergeo\": [{\"marker\": {\"colorbar\": {\"outlinewidth\": 0, \"ticks\": \"\"}}, \"type\": \"scattergeo\"}], \"scattergl\": [{\"marker\": {\"colorbar\": {\"outlinewidth\": 0, \"ticks\": \"\"}}, \"type\": \"scattergl\"}], \"scattermapbox\": [{\"marker\": {\"colorbar\": {\"outlinewidth\": 0, \"ticks\": \"\"}}, \"type\": \"scattermapbox\"}], \"scatterpolar\": [{\"marker\": {\"colorbar\": {\"outlinewidth\": 0, \"ticks\": \"\"}}, \"type\": \"scatterpolar\"}], \"scatterpolargl\": [{\"marker\": {\"colorbar\": {\"outlinewidth\": 0, \"ticks\": \"\"}}, \"type\": \"scatterpolargl\"}], \"scatterternary\": [{\"marker\": {\"colorbar\": {\"outlinewidth\": 0, \"ticks\": \"\"}}, \"type\": \"scatterternary\"}], \"surface\": [{\"colorbar\": {\"outlinewidth\": 0, \"ticks\": \"\"}, \"colorscale\": [[0.0, \"#0d0887\"], [0.1111111111111111, \"#46039f\"], [0.2222222222222222, \"#7201a8\"], [0.3333333333333333, \"#9c179e\"], [0.4444444444444444, \"#bd3786\"], [0.5555555555555556, \"#d8576b\"], [0.6666666666666666, \"#ed7953\"], [0.7777777777777778, \"#fb9f3a\"], [0.8888888888888888, \"#fdca26\"], [1.0, \"#f0f921\"]], \"type\": \"surface\"}], \"table\": [{\"cells\": {\"fill\": {\"color\": \"#EBF0F8\"}, \"line\": {\"color\": \"white\"}}, \"header\": {\"fill\": {\"color\": \"#C8D4E3\"}, \"line\": {\"color\": \"white\"}}, \"type\": \"table\"}]}, \"layout\": {\"annotationdefaults\": {\"arrowcolor\": \"#2a3f5f\", \"arrowhead\": 0, \"arrowwidth\": 1}, \"colorscale\": {\"diverging\": [[0, \"#8e0152\"], [0.1, \"#c51b7d\"], [0.2, \"#de77ae\"], [0.3, \"#f1b6da\"], [0.4, \"#fde0ef\"], [0.5, \"#f7f7f7\"], [0.6, \"#e6f5d0\"], [0.7, \"#b8e186\"], [0.8, \"#7fbc41\"], [0.9, \"#4d9221\"], [1, \"#276419\"]], \"sequential\": [[0.0, \"#0d0887\"], [0.1111111111111111, \"#46039f\"], [0.2222222222222222, \"#7201a8\"], [0.3333333333333333, \"#9c179e\"], [0.4444444444444444, \"#bd3786\"], [0.5555555555555556, \"#d8576b\"], [0.6666666666666666, \"#ed7953\"], [0.7777777777777778, \"#fb9f3a\"], [0.8888888888888888, \"#fdca26\"], [1.0, \"#f0f921\"]], \"sequentialminus\": [[0.0, \"#0d0887\"], [0.1111111111111111, \"#46039f\"], [0.2222222222222222, \"#7201a8\"], [0.3333333333333333, \"#9c179e\"], [0.4444444444444444, \"#bd3786\"], [0.5555555555555556, \"#d8576b\"], [0.6666666666666666, \"#ed7953\"], [0.7777777777777778, \"#fb9f3a\"], [0.8888888888888888, \"#fdca26\"], [1.0, \"#f0f921\"]]}, \"colorway\": [\"#636efa\", \"#EF553B\", \"#00cc96\", \"#ab63fa\", \"#FFA15A\", \"#19d3f3\", \"#FF6692\", \"#B6E880\", \"#FF97FF\", \"#FECB52\"], \"font\": {\"color\": \"#2a3f5f\"}, \"geo\": {\"bgcolor\": \"white\", \"lakecolor\": \"white\", \"landcolor\": \"#E5ECF6\", \"showlakes\": true, \"showland\": true, \"subunitcolor\": \"white\"}, \"hoverlabel\": {\"align\": \"left\"}, \"hovermode\": \"closest\", \"mapbox\": {\"style\": \"light\"}, \"paper_bgcolor\": \"white\", \"plot_bgcolor\": \"#E5ECF6\", \"polar\": {\"angularaxis\": {\"gridcolor\": \"white\", \"linecolor\": \"white\", \"ticks\": \"\"}, \"bgcolor\": \"#E5ECF6\", \"radialaxis\": {\"gridcolor\": \"white\", \"linecolor\": \"white\", \"ticks\": \"\"}}, \"scene\": {\"xaxis\": {\"backgroundcolor\": \"#E5ECF6\", \"gridcolor\": \"white\", \"gridwidth\": 2, \"linecolor\": \"white\", \"showbackground\": true, \"ticks\": \"\", \"zerolinecolor\": \"white\"}, \"yaxis\": {\"backgroundcolor\": \"#E5ECF6\", \"gridcolor\": \"white\", \"gridwidth\": 2, \"linecolor\": \"white\", \"showbackground\": true, \"ticks\": \"\", \"zerolinecolor\": \"white\"}, \"zaxis\": {\"backgroundcolor\": \"#E5ECF6\", \"gridcolor\": \"white\", \"gridwidth\": 2, \"linecolor\": \"white\", \"showbackground\": true, \"ticks\": \"\", \"zerolinecolor\": \"white\"}}, \"shapedefaults\": {\"line\": {\"color\": \"#2a3f5f\"}}, \"ternary\": {\"aaxis\": {\"gridcolor\": \"white\", \"linecolor\": \"white\", \"ticks\": \"\"}, \"baxis\": {\"gridcolor\": \"white\", \"linecolor\": \"white\", \"ticks\": \"\"}, \"bgcolor\": \"#E5ECF6\", \"caxis\": {\"gridcolor\": \"white\", \"linecolor\": \"white\", \"ticks\": \"\"}}, \"title\": {\"x\": 0.05}, \"xaxis\": {\"automargin\": true, \"gridcolor\": \"white\", \"linecolor\": \"white\", \"ticks\": \"\", \"zerolinecolor\": \"white\", \"zerolinewidth\": 2}, \"yaxis\": {\"automargin\": true, \"gridcolor\": \"white\", \"linecolor\": \"white\", \"ticks\": \"\", \"zerolinecolor\": \"white\", \"zerolinewidth\": 2}}}, \"title\": {\"text\": \"Visualizacion los precios\"}, \"yaxis\": {\"autorange\": true, \"dtick\": 5, \"gridcolor\": \"rgb(255, 255, 255)\", \"gridwidth\": 1, \"hoverformat\": \".2f\", \"showgrid\": true}},\n",
       "                        {\"responsive\": true}\n",
       "                    ).then(function(){\n",
       "                            \n",
       "var gd = document.getElementById('a16a37e9-2677-480a-8a75-8a1b224ad732');\n",
       "var x = new MutationObserver(function (mutations, observer) {{\n",
       "        var display = window.getComputedStyle(gd).display;\n",
       "        if (!display || display === 'none') {{\n",
       "            console.log([gd, 'removed!']);\n",
       "            Plotly.purge(gd);\n",
       "            observer.disconnect();\n",
       "        }}\n",
       "}});\n",
       "\n",
       "// Listen for the removal of the full notebook cells\n",
       "var notebookContainer = gd.closest('#notebook-container');\n",
       "if (notebookContainer) {{\n",
       "    x.observe(notebookContainer, {childList: true});\n",
       "}}\n",
       "\n",
       "// Listen for the clearing of the current output cell\n",
       "var outputEl = gd.closest('.output');\n",
       "if (outputEl) {{\n",
       "    x.observe(outputEl, {childList: true});\n",
       "}}\n",
       "\n",
       "                        })\n",
       "                };\n",
       "                });\n",
       "            </script>\n",
       "        </div>"
      ]
     },
     "metadata": {},
     "output_type": "display_data"
    }
   ],
   "source": [
    "grafica = g_boxplot_varios(df_train)\n",
    "py.iplot(grafica)"
   ]
  },
  {
   "cell_type": "markdown",
   "metadata": {},
   "source": [
    "# Datos Prueba"
   ]
  },
  {
   "cell_type": "code",
   "execution_count": 25,
   "metadata": {},
   "outputs": [
    {
     "data": {
      "text/html": [
       "<div>\n",
       "<style scoped>\n",
       "    .dataframe tbody tr th:only-of-type {\n",
       "        vertical-align: middle;\n",
       "    }\n",
       "\n",
       "    .dataframe tbody tr th {\n",
       "        vertical-align: top;\n",
       "    }\n",
       "\n",
       "    .dataframe thead th {\n",
       "        text-align: right;\n",
       "    }\n",
       "</style>\n",
       "<table border=\"1\" class=\"dataframe\">\n",
       "  <thead>\n",
       "    <tr style=\"text-align: right;\">\n",
       "      <th></th>\n",
       "      <th>timestamp</th>\n",
       "      <th>escenario</th>\n",
       "      <th>direccion</th>\n",
       "      <th>pips alcistas</th>\n",
       "      <th>pips bajistas</th>\n",
       "      <th>volatilidad</th>\n",
       "    </tr>\n",
       "  </thead>\n",
       "  <tbody>\n",
       "    <tr>\n",
       "      <th>0</th>\n",
       "      <td>2019-02-04 15:00:00+00:00</td>\n",
       "      <td>C</td>\n",
       "      <td></td>\n",
       "      <td></td>\n",
       "      <td></td>\n",
       "      <td></td>\n",
       "    </tr>\n",
       "    <tr>\n",
       "      <th>1</th>\n",
       "      <td>2019-02-27 15:00:00+00:00</td>\n",
       "      <td>C</td>\n",
       "      <td></td>\n",
       "      <td></td>\n",
       "      <td></td>\n",
       "      <td></td>\n",
       "    </tr>\n",
       "    <tr>\n",
       "      <th>2</th>\n",
       "      <td>2019-03-19 14:00:00+00:00</td>\n",
       "      <td>C</td>\n",
       "      <td></td>\n",
       "      <td></td>\n",
       "      <td></td>\n",
       "      <td></td>\n",
       "    </tr>\n",
       "    <tr>\n",
       "      <th>3</th>\n",
       "      <td>2019-04-08 14:00:00+00:00</td>\n",
       "      <td>B</td>\n",
       "      <td></td>\n",
       "      <td></td>\n",
       "      <td></td>\n",
       "      <td></td>\n",
       "    </tr>\n",
       "    <tr>\n",
       "      <th>4</th>\n",
       "      <td>2019-05-02 14:00:00+00:00</td>\n",
       "      <td>A</td>\n",
       "      <td></td>\n",
       "      <td></td>\n",
       "      <td></td>\n",
       "      <td></td>\n",
       "    </tr>\n",
       "  </tbody>\n",
       "</table>\n",
       "</div>"
      ],
      "text/plain": [
       "                  timestamp escenario direccion pips alcistas pips bajistas  \\\n",
       "0 2019-02-04 15:00:00+00:00         C                                         \n",
       "1 2019-02-27 15:00:00+00:00         C                                         \n",
       "2 2019-03-19 14:00:00+00:00         C                                         \n",
       "3 2019-04-08 14:00:00+00:00         B                                         \n",
       "4 2019-05-02 14:00:00+00:00         A                                         \n",
       "\n",
       "  volatilidad  \n",
       "0              \n",
       "1              \n",
       "2              \n",
       "3              \n",
       "4              "
      ]
     },
     "execution_count": 25,
     "metadata": {},
     "output_type": "execute_result"
    }
   ],
   "source": [
    "df_escenarios = df_usa[df_usa['timestamp']>='2019-01-01 00:00:00+0000'] # DataFrame con datos anteriores al primer dia del 2019\n",
    "df_escenarios = df_escenarios.reset_index().drop(list(df_escenarios.columns[1:8]), 1)\n",
    "df_escenarios = df_escenarios.drop(['index'], 1)\n",
    "df_escenarios.head()"
   ]
  },
  {
   "cell_type": "code",
   "execution_count": 26,
   "metadata": {},
   "outputs": [],
   "source": [
    "dates = list(p.loc[p['timestamp'].isin(df_escenarios['timestamp'])]['timestamp']) # Timestamps presentes en indicador y precios"
   ]
  },
  {
   "cell_type": "code",
   "execution_count": 27,
   "metadata": {},
   "outputs": [],
   "source": [
    "prices_df = {} # Diccionario para df de precios indicador usa\n",
    "for i in range(len(dates)):\n",
    "    ref = p.loc[p['timestamp'] == dates[i]].index.values[0] # Fila de donde se encuentra el timestamp del calendario en precios\n",
    "    start = ref - 6 # Sacando 30 min antes (fila)\n",
    "    end = ref + 6 # Sacando 30 min despues (fila)\n",
    "    df = p.iloc[start:end+1, :].reset_index().drop('index',1) # Filtrando dataframe, reinicio de index y drop del viejo index\n",
    "    prices_df[dates[i]] = df # Almacenar en diccionario con siendo el timestamp usado como 'key'"
   ]
  },
  {
   "cell_type": "code",
   "execution_count": 28,
   "metadata": {},
   "outputs": [],
   "source": [
    "def metricas(df_calendario, diccionario):\n",
    "    for i in range(len(df_calendario)):\n",
    "        df_calendario.loc[i,'direccion'] = [1 if diccionario[df_calendario['timestamp'][i]].loc[12,'close'] > diccionario[df_calendario['timestamp'][i]].loc[6,'open'] else -1]\n",
    "        df_calendario.loc[i,'pips alcistas'] = (diccionario[df_calendario['timestamp'][i]].loc[6:,'high'].max() - diccionario[df_calendario['timestamp'][i]].loc[6,'open'])*10000\n",
    "        df_calendario.loc[i,'pips bajistas'] = (diccionario[df_calendario['timestamp'][i]].loc[6,'open'] - diccionario[df_calendario['timestamp'][i]].loc[6:,'low'].min())*10000\n",
    "        df_calendario.loc[i,'volatilidad'] = diccionario[df_calendario['timestamp'][i]]['high'].max() - diccionario[df_calendario['timestamp'][i]]['low'].min()\n",
    "    return df_calendario"
   ]
  },
  {
   "cell_type": "code",
   "execution_count": 29,
   "metadata": {
    "scrolled": false
   },
   "outputs": [
    {
     "data": {
      "text/html": [
       "<div>\n",
       "<style scoped>\n",
       "    .dataframe tbody tr th:only-of-type {\n",
       "        vertical-align: middle;\n",
       "    }\n",
       "\n",
       "    .dataframe tbody tr th {\n",
       "        vertical-align: top;\n",
       "    }\n",
       "\n",
       "    .dataframe thead th {\n",
       "        text-align: right;\n",
       "    }\n",
       "</style>\n",
       "<table border=\"1\" class=\"dataframe\">\n",
       "  <thead>\n",
       "    <tr style=\"text-align: right;\">\n",
       "      <th></th>\n",
       "      <th>timestamp</th>\n",
       "      <th>escenario</th>\n",
       "      <th>direccion</th>\n",
       "      <th>pips alcistas</th>\n",
       "      <th>pips bajistas</th>\n",
       "      <th>volatilidad</th>\n",
       "    </tr>\n",
       "  </thead>\n",
       "  <tbody>\n",
       "    <tr>\n",
       "      <th>0</th>\n",
       "      <td>2019-02-04 15:00:00+00:00</td>\n",
       "      <td>C</td>\n",
       "      <td>1</td>\n",
       "      <td>10.6</td>\n",
       "      <td>0</td>\n",
       "      <td>0.00148</td>\n",
       "    </tr>\n",
       "    <tr>\n",
       "      <th>1</th>\n",
       "      <td>2019-02-27 15:00:00+00:00</td>\n",
       "      <td>C</td>\n",
       "      <td>-1</td>\n",
       "      <td>3.6</td>\n",
       "      <td>13.6</td>\n",
       "      <td>0.0022</td>\n",
       "    </tr>\n",
       "    <tr>\n",
       "      <th>2</th>\n",
       "      <td>2019-03-19 14:00:00+00:00</td>\n",
       "      <td>C</td>\n",
       "      <td>-1</td>\n",
       "      <td>6.8</td>\n",
       "      <td>3.2</td>\n",
       "      <td>0.00101</td>\n",
       "    </tr>\n",
       "    <tr>\n",
       "      <th>3</th>\n",
       "      <td>2019-04-08 14:00:00+00:00</td>\n",
       "      <td>B</td>\n",
       "      <td>-1</td>\n",
       "      <td>0</td>\n",
       "      <td>6.2</td>\n",
       "      <td>0.0008</td>\n",
       "    </tr>\n",
       "    <tr>\n",
       "      <th>4</th>\n",
       "      <td>2019-05-02 14:00:00+00:00</td>\n",
       "      <td>A</td>\n",
       "      <td>-1</td>\n",
       "      <td>3</td>\n",
       "      <td>8.6</td>\n",
       "      <td>0.00206</td>\n",
       "    </tr>\n",
       "  </tbody>\n",
       "</table>\n",
       "</div>"
      ],
      "text/plain": [
       "                  timestamp escenario  direccion pips alcistas pips bajistas  \\\n",
       "0 2019-02-04 15:00:00+00:00         C          1          10.6             0   \n",
       "1 2019-02-27 15:00:00+00:00         C         -1           3.6          13.6   \n",
       "2 2019-03-19 14:00:00+00:00         C         -1           6.8           3.2   \n",
       "3 2019-04-08 14:00:00+00:00         B         -1             0           6.2   \n",
       "4 2019-05-02 14:00:00+00:00         A         -1             3           8.6   \n",
       "\n",
       "  volatilidad  \n",
       "0     0.00148  \n",
       "1      0.0022  \n",
       "2     0.00101  \n",
       "3      0.0008  \n",
       "4     0.00206  "
      ]
     },
     "execution_count": 29,
     "metadata": {},
     "output_type": "execute_result"
    }
   ],
   "source": [
    "df_escenarios = metricas(df_escenarios, prices_df) # Metricas del indicador de USA\n",
    "df_escenarios.head()"
   ]
  },
  {
   "cell_type": "markdown",
   "metadata": {},
   "source": [
    "### Conteo de escenarios"
   ]
  },
  {
   "cell_type": "code",
   "execution_count": 31,
   "metadata": {},
   "outputs": [
    {
     "data": {
      "application/vnd.plotly.v1+json": {
       "config": {
        "plotlyServerURL": "https://plot.ly"
       },
       "data": [
        {
         "hovertemplate": "<i>Casos</i>: %{y}<br><b>Identificador</b>: %{x}<br>",
         "name": "Conteo",
         "type": "bar",
         "x": [
          "A",
          "B",
          "C"
         ],
         "xaxis": "x",
         "y": [
          2,
          2,
          5
         ],
         "yaxis": "y"
        }
       ],
       "layout": {
        "template": {
         "data": {
          "bar": [
           {
            "error_x": {
             "color": "#2a3f5f"
            },
            "error_y": {
             "color": "#2a3f5f"
            },
            "marker": {
             "line": {
              "color": "#E5ECF6",
              "width": 0.5
             }
            },
            "type": "bar"
           }
          ],
          "barpolar": [
           {
            "marker": {
             "line": {
              "color": "#E5ECF6",
              "width": 0.5
             }
            },
            "type": "barpolar"
           }
          ],
          "carpet": [
           {
            "aaxis": {
             "endlinecolor": "#2a3f5f",
             "gridcolor": "white",
             "linecolor": "white",
             "minorgridcolor": "white",
             "startlinecolor": "#2a3f5f"
            },
            "baxis": {
             "endlinecolor": "#2a3f5f",
             "gridcolor": "white",
             "linecolor": "white",
             "minorgridcolor": "white",
             "startlinecolor": "#2a3f5f"
            },
            "type": "carpet"
           }
          ],
          "choropleth": [
           {
            "colorbar": {
             "outlinewidth": 0,
             "ticks": ""
            },
            "type": "choropleth"
           }
          ],
          "contour": [
           {
            "colorbar": {
             "outlinewidth": 0,
             "ticks": ""
            },
            "colorscale": [
             [
              0,
              "#0d0887"
             ],
             [
              0.1111111111111111,
              "#46039f"
             ],
             [
              0.2222222222222222,
              "#7201a8"
             ],
             [
              0.3333333333333333,
              "#9c179e"
             ],
             [
              0.4444444444444444,
              "#bd3786"
             ],
             [
              0.5555555555555556,
              "#d8576b"
             ],
             [
              0.6666666666666666,
              "#ed7953"
             ],
             [
              0.7777777777777778,
              "#fb9f3a"
             ],
             [
              0.8888888888888888,
              "#fdca26"
             ],
             [
              1,
              "#f0f921"
             ]
            ],
            "type": "contour"
           }
          ],
          "contourcarpet": [
           {
            "colorbar": {
             "outlinewidth": 0,
             "ticks": ""
            },
            "type": "contourcarpet"
           }
          ],
          "heatmap": [
           {
            "colorbar": {
             "outlinewidth": 0,
             "ticks": ""
            },
            "colorscale": [
             [
              0,
              "#0d0887"
             ],
             [
              0.1111111111111111,
              "#46039f"
             ],
             [
              0.2222222222222222,
              "#7201a8"
             ],
             [
              0.3333333333333333,
              "#9c179e"
             ],
             [
              0.4444444444444444,
              "#bd3786"
             ],
             [
              0.5555555555555556,
              "#d8576b"
             ],
             [
              0.6666666666666666,
              "#ed7953"
             ],
             [
              0.7777777777777778,
              "#fb9f3a"
             ],
             [
              0.8888888888888888,
              "#fdca26"
             ],
             [
              1,
              "#f0f921"
             ]
            ],
            "type": "heatmap"
           }
          ],
          "heatmapgl": [
           {
            "colorbar": {
             "outlinewidth": 0,
             "ticks": ""
            },
            "colorscale": [
             [
              0,
              "#0d0887"
             ],
             [
              0.1111111111111111,
              "#46039f"
             ],
             [
              0.2222222222222222,
              "#7201a8"
             ],
             [
              0.3333333333333333,
              "#9c179e"
             ],
             [
              0.4444444444444444,
              "#bd3786"
             ],
             [
              0.5555555555555556,
              "#d8576b"
             ],
             [
              0.6666666666666666,
              "#ed7953"
             ],
             [
              0.7777777777777778,
              "#fb9f3a"
             ],
             [
              0.8888888888888888,
              "#fdca26"
             ],
             [
              1,
              "#f0f921"
             ]
            ],
            "type": "heatmapgl"
           }
          ],
          "histogram": [
           {
            "marker": {
             "colorbar": {
              "outlinewidth": 0,
              "ticks": ""
             }
            },
            "type": "histogram"
           }
          ],
          "histogram2d": [
           {
            "colorbar": {
             "outlinewidth": 0,
             "ticks": ""
            },
            "colorscale": [
             [
              0,
              "#0d0887"
             ],
             [
              0.1111111111111111,
              "#46039f"
             ],
             [
              0.2222222222222222,
              "#7201a8"
             ],
             [
              0.3333333333333333,
              "#9c179e"
             ],
             [
              0.4444444444444444,
              "#bd3786"
             ],
             [
              0.5555555555555556,
              "#d8576b"
             ],
             [
              0.6666666666666666,
              "#ed7953"
             ],
             [
              0.7777777777777778,
              "#fb9f3a"
             ],
             [
              0.8888888888888888,
              "#fdca26"
             ],
             [
              1,
              "#f0f921"
             ]
            ],
            "type": "histogram2d"
           }
          ],
          "histogram2dcontour": [
           {
            "colorbar": {
             "outlinewidth": 0,
             "ticks": ""
            },
            "colorscale": [
             [
              0,
              "#0d0887"
             ],
             [
              0.1111111111111111,
              "#46039f"
             ],
             [
              0.2222222222222222,
              "#7201a8"
             ],
             [
              0.3333333333333333,
              "#9c179e"
             ],
             [
              0.4444444444444444,
              "#bd3786"
             ],
             [
              0.5555555555555556,
              "#d8576b"
             ],
             [
              0.6666666666666666,
              "#ed7953"
             ],
             [
              0.7777777777777778,
              "#fb9f3a"
             ],
             [
              0.8888888888888888,
              "#fdca26"
             ],
             [
              1,
              "#f0f921"
             ]
            ],
            "type": "histogram2dcontour"
           }
          ],
          "mesh3d": [
           {
            "colorbar": {
             "outlinewidth": 0,
             "ticks": ""
            },
            "type": "mesh3d"
           }
          ],
          "parcoords": [
           {
            "line": {
             "colorbar": {
              "outlinewidth": 0,
              "ticks": ""
             }
            },
            "type": "parcoords"
           }
          ],
          "scatter": [
           {
            "marker": {
             "colorbar": {
              "outlinewidth": 0,
              "ticks": ""
             }
            },
            "type": "scatter"
           }
          ],
          "scatter3d": [
           {
            "line": {
             "colorbar": {
              "outlinewidth": 0,
              "ticks": ""
             }
            },
            "marker": {
             "colorbar": {
              "outlinewidth": 0,
              "ticks": ""
             }
            },
            "type": "scatter3d"
           }
          ],
          "scattercarpet": [
           {
            "marker": {
             "colorbar": {
              "outlinewidth": 0,
              "ticks": ""
             }
            },
            "type": "scattercarpet"
           }
          ],
          "scattergeo": [
           {
            "marker": {
             "colorbar": {
              "outlinewidth": 0,
              "ticks": ""
             }
            },
            "type": "scattergeo"
           }
          ],
          "scattergl": [
           {
            "marker": {
             "colorbar": {
              "outlinewidth": 0,
              "ticks": ""
             }
            },
            "type": "scattergl"
           }
          ],
          "scattermapbox": [
           {
            "marker": {
             "colorbar": {
              "outlinewidth": 0,
              "ticks": ""
             }
            },
            "type": "scattermapbox"
           }
          ],
          "scatterpolar": [
           {
            "marker": {
             "colorbar": {
              "outlinewidth": 0,
              "ticks": ""
             }
            },
            "type": "scatterpolar"
           }
          ],
          "scatterpolargl": [
           {
            "marker": {
             "colorbar": {
              "outlinewidth": 0,
              "ticks": ""
             }
            },
            "type": "scatterpolargl"
           }
          ],
          "scatterternary": [
           {
            "marker": {
             "colorbar": {
              "outlinewidth": 0,
              "ticks": ""
             }
            },
            "type": "scatterternary"
           }
          ],
          "surface": [
           {
            "colorbar": {
             "outlinewidth": 0,
             "ticks": ""
            },
            "colorscale": [
             [
              0,
              "#0d0887"
             ],
             [
              0.1111111111111111,
              "#46039f"
             ],
             [
              0.2222222222222222,
              "#7201a8"
             ],
             [
              0.3333333333333333,
              "#9c179e"
             ],
             [
              0.4444444444444444,
              "#bd3786"
             ],
             [
              0.5555555555555556,
              "#d8576b"
             ],
             [
              0.6666666666666666,
              "#ed7953"
             ],
             [
              0.7777777777777778,
              "#fb9f3a"
             ],
             [
              0.8888888888888888,
              "#fdca26"
             ],
             [
              1,
              "#f0f921"
             ]
            ],
            "type": "surface"
           }
          ],
          "table": [
           {
            "cells": {
             "fill": {
              "color": "#EBF0F8"
             },
             "line": {
              "color": "white"
             }
            },
            "header": {
             "fill": {
              "color": "#C8D4E3"
             },
             "line": {
              "color": "white"
             }
            },
            "type": "table"
           }
          ]
         },
         "layout": {
          "annotationdefaults": {
           "arrowcolor": "#2a3f5f",
           "arrowhead": 0,
           "arrowwidth": 1
          },
          "colorscale": {
           "diverging": [
            [
             0,
             "#8e0152"
            ],
            [
             0.1,
             "#c51b7d"
            ],
            [
             0.2,
             "#de77ae"
            ],
            [
             0.3,
             "#f1b6da"
            ],
            [
             0.4,
             "#fde0ef"
            ],
            [
             0.5,
             "#f7f7f7"
            ],
            [
             0.6,
             "#e6f5d0"
            ],
            [
             0.7,
             "#b8e186"
            ],
            [
             0.8,
             "#7fbc41"
            ],
            [
             0.9,
             "#4d9221"
            ],
            [
             1,
             "#276419"
            ]
           ],
           "sequential": [
            [
             0,
             "#0d0887"
            ],
            [
             0.1111111111111111,
             "#46039f"
            ],
            [
             0.2222222222222222,
             "#7201a8"
            ],
            [
             0.3333333333333333,
             "#9c179e"
            ],
            [
             0.4444444444444444,
             "#bd3786"
            ],
            [
             0.5555555555555556,
             "#d8576b"
            ],
            [
             0.6666666666666666,
             "#ed7953"
            ],
            [
             0.7777777777777778,
             "#fb9f3a"
            ],
            [
             0.8888888888888888,
             "#fdca26"
            ],
            [
             1,
             "#f0f921"
            ]
           ],
           "sequentialminus": [
            [
             0,
             "#0d0887"
            ],
            [
             0.1111111111111111,
             "#46039f"
            ],
            [
             0.2222222222222222,
             "#7201a8"
            ],
            [
             0.3333333333333333,
             "#9c179e"
            ],
            [
             0.4444444444444444,
             "#bd3786"
            ],
            [
             0.5555555555555556,
             "#d8576b"
            ],
            [
             0.6666666666666666,
             "#ed7953"
            ],
            [
             0.7777777777777778,
             "#fb9f3a"
            ],
            [
             0.8888888888888888,
             "#fdca26"
            ],
            [
             1,
             "#f0f921"
            ]
           ]
          },
          "colorway": [
           "#636efa",
           "#EF553B",
           "#00cc96",
           "#ab63fa",
           "#FFA15A",
           "#19d3f3",
           "#FF6692",
           "#B6E880",
           "#FF97FF",
           "#FECB52"
          ],
          "font": {
           "color": "#2a3f5f"
          },
          "geo": {
           "bgcolor": "white",
           "lakecolor": "white",
           "landcolor": "#E5ECF6",
           "showlakes": true,
           "showland": true,
           "subunitcolor": "white"
          },
          "hoverlabel": {
           "align": "left"
          },
          "hovermode": "closest",
          "mapbox": {
           "style": "light"
          },
          "paper_bgcolor": "white",
          "plot_bgcolor": "#E5ECF6",
          "polar": {
           "angularaxis": {
            "gridcolor": "white",
            "linecolor": "white",
            "ticks": ""
           },
           "bgcolor": "#E5ECF6",
           "radialaxis": {
            "gridcolor": "white",
            "linecolor": "white",
            "ticks": ""
           }
          },
          "scene": {
           "xaxis": {
            "backgroundcolor": "#E5ECF6",
            "gridcolor": "white",
            "gridwidth": 2,
            "linecolor": "white",
            "showbackground": true,
            "ticks": "",
            "zerolinecolor": "white"
           },
           "yaxis": {
            "backgroundcolor": "#E5ECF6",
            "gridcolor": "white",
            "gridwidth": 2,
            "linecolor": "white",
            "showbackground": true,
            "ticks": "",
            "zerolinecolor": "white"
           },
           "zaxis": {
            "backgroundcolor": "#E5ECF6",
            "gridcolor": "white",
            "gridwidth": 2,
            "linecolor": "white",
            "showbackground": true,
            "ticks": "",
            "zerolinecolor": "white"
           }
          },
          "shapedefaults": {
           "line": {
            "color": "#2a3f5f"
           }
          },
          "ternary": {
           "aaxis": {
            "gridcolor": "white",
            "linecolor": "white",
            "ticks": ""
           },
           "baxis": {
            "gridcolor": "white",
            "linecolor": "white",
            "ticks": ""
           },
           "bgcolor": "#E5ECF6",
           "caxis": {
            "gridcolor": "white",
            "linecolor": "white",
            "ticks": ""
           }
          },
          "title": {
           "x": 0.05
          },
          "xaxis": {
           "automargin": true,
           "gridcolor": "white",
           "linecolor": "white",
           "ticks": "",
           "zerolinecolor": "white",
           "zerolinewidth": 2
          },
          "yaxis": {
           "automargin": true,
           "gridcolor": "white",
           "linecolor": "white",
           "ticks": "",
           "zerolinecolor": "white",
           "zerolinewidth": 2
          }
         }
        },
        "title": {
         "text": "Escenarios USD Factory Orders (MoM)"
        },
        "xaxis": {
         "anchor": "y",
         "domain": [
          0,
          1
         ],
         "title": {
          "text": "Escenarios"
         }
        },
        "yaxis": {
         "anchor": "x",
         "domain": [
          0,
          1
         ],
         "title": {
          "text": "<b>Conteo</b> de escenarios"
         }
        }
       }
      },
      "text/html": [
       "<div>\n",
       "        \n",
       "        \n",
       "            <div id=\"e7550b45-5b6c-480f-8e6e-689dda44e1a2\" class=\"plotly-graph-div\" style=\"height:525px; width:100%;\"></div>\n",
       "            <script type=\"text/javascript\">\n",
       "                require([\"plotly\"], function(Plotly) {\n",
       "                    window.PLOTLYENV=window.PLOTLYENV || {};\n",
       "                    \n",
       "                if (document.getElementById(\"e7550b45-5b6c-480f-8e6e-689dda44e1a2\")) {\n",
       "                    Plotly.newPlot(\n",
       "                        'e7550b45-5b6c-480f-8e6e-689dda44e1a2',\n",
       "                        [{\"hovertemplate\": \"<i>Casos</i>: %{y}<br><b>Identificador</b>: %{x}<br>\", \"name\": \"Conteo\", \"type\": \"bar\", \"x\": [\"A\", \"B\", \"C\"], \"xaxis\": \"x\", \"y\": [2, 2, 5], \"yaxis\": \"y\"}],\n",
       "                        {\"template\": {\"data\": {\"bar\": [{\"error_x\": {\"color\": \"#2a3f5f\"}, \"error_y\": {\"color\": \"#2a3f5f\"}, \"marker\": {\"line\": {\"color\": \"#E5ECF6\", \"width\": 0.5}}, \"type\": \"bar\"}], \"barpolar\": [{\"marker\": {\"line\": {\"color\": \"#E5ECF6\", \"width\": 0.5}}, \"type\": \"barpolar\"}], \"carpet\": [{\"aaxis\": {\"endlinecolor\": \"#2a3f5f\", \"gridcolor\": \"white\", \"linecolor\": \"white\", \"minorgridcolor\": \"white\", \"startlinecolor\": \"#2a3f5f\"}, \"baxis\": {\"endlinecolor\": \"#2a3f5f\", \"gridcolor\": \"white\", \"linecolor\": \"white\", \"minorgridcolor\": \"white\", \"startlinecolor\": \"#2a3f5f\"}, \"type\": \"carpet\"}], \"choropleth\": [{\"colorbar\": {\"outlinewidth\": 0, \"ticks\": \"\"}, \"type\": \"choropleth\"}], \"contour\": [{\"colorbar\": {\"outlinewidth\": 0, \"ticks\": \"\"}, \"colorscale\": [[0.0, \"#0d0887\"], [0.1111111111111111, \"#46039f\"], [0.2222222222222222, \"#7201a8\"], [0.3333333333333333, \"#9c179e\"], [0.4444444444444444, \"#bd3786\"], [0.5555555555555556, \"#d8576b\"], [0.6666666666666666, \"#ed7953\"], [0.7777777777777778, \"#fb9f3a\"], [0.8888888888888888, \"#fdca26\"], [1.0, \"#f0f921\"]], \"type\": \"contour\"}], \"contourcarpet\": [{\"colorbar\": {\"outlinewidth\": 0, \"ticks\": \"\"}, \"type\": \"contourcarpet\"}], \"heatmap\": [{\"colorbar\": {\"outlinewidth\": 0, \"ticks\": \"\"}, \"colorscale\": [[0.0, \"#0d0887\"], [0.1111111111111111, \"#46039f\"], [0.2222222222222222, \"#7201a8\"], [0.3333333333333333, \"#9c179e\"], [0.4444444444444444, \"#bd3786\"], [0.5555555555555556, \"#d8576b\"], [0.6666666666666666, \"#ed7953\"], [0.7777777777777778, \"#fb9f3a\"], [0.8888888888888888, \"#fdca26\"], [1.0, \"#f0f921\"]], \"type\": \"heatmap\"}], \"heatmapgl\": [{\"colorbar\": {\"outlinewidth\": 0, \"ticks\": \"\"}, \"colorscale\": [[0.0, \"#0d0887\"], [0.1111111111111111, \"#46039f\"], [0.2222222222222222, \"#7201a8\"], [0.3333333333333333, \"#9c179e\"], [0.4444444444444444, \"#bd3786\"], [0.5555555555555556, \"#d8576b\"], [0.6666666666666666, \"#ed7953\"], [0.7777777777777778, \"#fb9f3a\"], [0.8888888888888888, \"#fdca26\"], [1.0, \"#f0f921\"]], \"type\": \"heatmapgl\"}], \"histogram\": [{\"marker\": {\"colorbar\": {\"outlinewidth\": 0, \"ticks\": \"\"}}, \"type\": \"histogram\"}], \"histogram2d\": [{\"colorbar\": {\"outlinewidth\": 0, \"ticks\": \"\"}, \"colorscale\": [[0.0, \"#0d0887\"], [0.1111111111111111, \"#46039f\"], [0.2222222222222222, \"#7201a8\"], [0.3333333333333333, \"#9c179e\"], [0.4444444444444444, \"#bd3786\"], [0.5555555555555556, \"#d8576b\"], [0.6666666666666666, \"#ed7953\"], [0.7777777777777778, \"#fb9f3a\"], [0.8888888888888888, \"#fdca26\"], [1.0, \"#f0f921\"]], \"type\": \"histogram2d\"}], \"histogram2dcontour\": [{\"colorbar\": {\"outlinewidth\": 0, \"ticks\": \"\"}, \"colorscale\": [[0.0, \"#0d0887\"], [0.1111111111111111, \"#46039f\"], [0.2222222222222222, \"#7201a8\"], [0.3333333333333333, \"#9c179e\"], [0.4444444444444444, \"#bd3786\"], [0.5555555555555556, \"#d8576b\"], [0.6666666666666666, \"#ed7953\"], [0.7777777777777778, \"#fb9f3a\"], [0.8888888888888888, \"#fdca26\"], [1.0, \"#f0f921\"]], \"type\": \"histogram2dcontour\"}], \"mesh3d\": [{\"colorbar\": {\"outlinewidth\": 0, \"ticks\": \"\"}, \"type\": \"mesh3d\"}], \"parcoords\": [{\"line\": {\"colorbar\": {\"outlinewidth\": 0, \"ticks\": \"\"}}, \"type\": \"parcoords\"}], \"scatter\": [{\"marker\": {\"colorbar\": {\"outlinewidth\": 0, \"ticks\": \"\"}}, \"type\": \"scatter\"}], \"scatter3d\": [{\"line\": {\"colorbar\": {\"outlinewidth\": 0, \"ticks\": \"\"}}, \"marker\": {\"colorbar\": {\"outlinewidth\": 0, \"ticks\": \"\"}}, \"type\": \"scatter3d\"}], \"scattercarpet\": [{\"marker\": {\"colorbar\": {\"outlinewidth\": 0, \"ticks\": \"\"}}, \"type\": \"scattercarpet\"}], \"scattergeo\": [{\"marker\": {\"colorbar\": {\"outlinewidth\": 0, \"ticks\": \"\"}}, \"type\": \"scattergeo\"}], \"scattergl\": [{\"marker\": {\"colorbar\": {\"outlinewidth\": 0, \"ticks\": \"\"}}, \"type\": \"scattergl\"}], \"scattermapbox\": [{\"marker\": {\"colorbar\": {\"outlinewidth\": 0, \"ticks\": \"\"}}, \"type\": \"scattermapbox\"}], \"scatterpolar\": [{\"marker\": {\"colorbar\": {\"outlinewidth\": 0, \"ticks\": \"\"}}, \"type\": \"scatterpolar\"}], \"scatterpolargl\": [{\"marker\": {\"colorbar\": {\"outlinewidth\": 0, \"ticks\": \"\"}}, \"type\": \"scatterpolargl\"}], \"scatterternary\": [{\"marker\": {\"colorbar\": {\"outlinewidth\": 0, \"ticks\": \"\"}}, \"type\": \"scatterternary\"}], \"surface\": [{\"colorbar\": {\"outlinewidth\": 0, \"ticks\": \"\"}, \"colorscale\": [[0.0, \"#0d0887\"], [0.1111111111111111, \"#46039f\"], [0.2222222222222222, \"#7201a8\"], [0.3333333333333333, \"#9c179e\"], [0.4444444444444444, \"#bd3786\"], [0.5555555555555556, \"#d8576b\"], [0.6666666666666666, \"#ed7953\"], [0.7777777777777778, \"#fb9f3a\"], [0.8888888888888888, \"#fdca26\"], [1.0, \"#f0f921\"]], \"type\": \"surface\"}], \"table\": [{\"cells\": {\"fill\": {\"color\": \"#EBF0F8\"}, \"line\": {\"color\": \"white\"}}, \"header\": {\"fill\": {\"color\": \"#C8D4E3\"}, \"line\": {\"color\": \"white\"}}, \"type\": \"table\"}]}, \"layout\": {\"annotationdefaults\": {\"arrowcolor\": \"#2a3f5f\", \"arrowhead\": 0, \"arrowwidth\": 1}, \"colorscale\": {\"diverging\": [[0, \"#8e0152\"], [0.1, \"#c51b7d\"], [0.2, \"#de77ae\"], [0.3, \"#f1b6da\"], [0.4, \"#fde0ef\"], [0.5, \"#f7f7f7\"], [0.6, \"#e6f5d0\"], [0.7, \"#b8e186\"], [0.8, \"#7fbc41\"], [0.9, \"#4d9221\"], [1, \"#276419\"]], \"sequential\": [[0.0, \"#0d0887\"], [0.1111111111111111, \"#46039f\"], [0.2222222222222222, \"#7201a8\"], [0.3333333333333333, \"#9c179e\"], [0.4444444444444444, \"#bd3786\"], [0.5555555555555556, \"#d8576b\"], [0.6666666666666666, \"#ed7953\"], [0.7777777777777778, \"#fb9f3a\"], [0.8888888888888888, \"#fdca26\"], [1.0, \"#f0f921\"]], \"sequentialminus\": [[0.0, \"#0d0887\"], [0.1111111111111111, \"#46039f\"], [0.2222222222222222, \"#7201a8\"], [0.3333333333333333, \"#9c179e\"], [0.4444444444444444, \"#bd3786\"], [0.5555555555555556, \"#d8576b\"], [0.6666666666666666, \"#ed7953\"], [0.7777777777777778, \"#fb9f3a\"], [0.8888888888888888, \"#fdca26\"], [1.0, \"#f0f921\"]]}, \"colorway\": [\"#636efa\", \"#EF553B\", \"#00cc96\", \"#ab63fa\", \"#FFA15A\", \"#19d3f3\", \"#FF6692\", \"#B6E880\", \"#FF97FF\", \"#FECB52\"], \"font\": {\"color\": \"#2a3f5f\"}, \"geo\": {\"bgcolor\": \"white\", \"lakecolor\": \"white\", \"landcolor\": \"#E5ECF6\", \"showlakes\": true, \"showland\": true, \"subunitcolor\": \"white\"}, \"hoverlabel\": {\"align\": \"left\"}, \"hovermode\": \"closest\", \"mapbox\": {\"style\": \"light\"}, \"paper_bgcolor\": \"white\", \"plot_bgcolor\": \"#E5ECF6\", \"polar\": {\"angularaxis\": {\"gridcolor\": \"white\", \"linecolor\": \"white\", \"ticks\": \"\"}, \"bgcolor\": \"#E5ECF6\", \"radialaxis\": {\"gridcolor\": \"white\", \"linecolor\": \"white\", \"ticks\": \"\"}}, \"scene\": {\"xaxis\": {\"backgroundcolor\": \"#E5ECF6\", \"gridcolor\": \"white\", \"gridwidth\": 2, \"linecolor\": \"white\", \"showbackground\": true, \"ticks\": \"\", \"zerolinecolor\": \"white\"}, \"yaxis\": {\"backgroundcolor\": \"#E5ECF6\", \"gridcolor\": \"white\", \"gridwidth\": 2, \"linecolor\": \"white\", \"showbackground\": true, \"ticks\": \"\", \"zerolinecolor\": \"white\"}, \"zaxis\": {\"backgroundcolor\": \"#E5ECF6\", \"gridcolor\": \"white\", \"gridwidth\": 2, \"linecolor\": \"white\", \"showbackground\": true, \"ticks\": \"\", \"zerolinecolor\": \"white\"}}, \"shapedefaults\": {\"line\": {\"color\": \"#2a3f5f\"}}, \"ternary\": {\"aaxis\": {\"gridcolor\": \"white\", \"linecolor\": \"white\", \"ticks\": \"\"}, \"baxis\": {\"gridcolor\": \"white\", \"linecolor\": \"white\", \"ticks\": \"\"}, \"bgcolor\": \"#E5ECF6\", \"caxis\": {\"gridcolor\": \"white\", \"linecolor\": \"white\", \"ticks\": \"\"}}, \"title\": {\"x\": 0.05}, \"xaxis\": {\"automargin\": true, \"gridcolor\": \"white\", \"linecolor\": \"white\", \"ticks\": \"\", \"zerolinecolor\": \"white\", \"zerolinewidth\": 2}, \"yaxis\": {\"automargin\": true, \"gridcolor\": \"white\", \"linecolor\": \"white\", \"ticks\": \"\", \"zerolinecolor\": \"white\", \"zerolinewidth\": 2}}}, \"title\": {\"text\": \"Escenarios USD Factory Orders (MoM)\"}, \"xaxis\": {\"anchor\": \"y\", \"domain\": [0.0, 1.0], \"title\": {\"text\": \"Escenarios\"}}, \"yaxis\": {\"anchor\": \"x\", \"domain\": [0.0, 1.0], \"title\": {\"text\": \"<b>Conteo</b> de escenarios\"}}},\n",
       "                        {\"responsive\": true}\n",
       "                    ).then(function(){\n",
       "                            \n",
       "var gd = document.getElementById('e7550b45-5b6c-480f-8e6e-689dda44e1a2');\n",
       "var x = new MutationObserver(function (mutations, observer) {{\n",
       "        var display = window.getComputedStyle(gd).display;\n",
       "        if (!display || display === 'none') {{\n",
       "            console.log([gd, 'removed!']);\n",
       "            Plotly.purge(gd);\n",
       "            observer.disconnect();\n",
       "        }}\n",
       "}});\n",
       "\n",
       "// Listen for the removal of the full notebook cells\n",
       "var notebookContainer = gd.closest('#notebook-container');\n",
       "if (notebookContainer) {{\n",
       "    x.observe(notebookContainer, {childList: true});\n",
       "}}\n",
       "\n",
       "// Listen for the clearing of the current output cell\n",
       "var outputEl = gd.closest('.output');\n",
       "if (outputEl) {{\n",
       "    x.observe(outputEl, {childList: true});\n",
       "}}\n",
       "\n",
       "                        })\n",
       "                };\n",
       "                });\n",
       "            </script>\n",
       "        </div>"
      ]
     },
     "metadata": {},
     "output_type": "display_data"
    }
   ],
   "source": [
    "fig = go.Figure()\n",
    "fig = make_subplots()\n",
    "fig.add_trace(go.Bar(x=list(df_escenarios['escenario'].value_counts().sort_index().index), \n",
    "                     y=df_escenarios['escenario'].value_counts().sort_index(),name='Conteo',\n",
    "                         hovertemplate = '<i>Casos</i>: %{y}'\n",
    "                        '<br><b>Identificador</b>: %{x}<br>'),secondary_y=False)\n",
    "# Título del grafico\n",
    "fig.update_layout(title_text='Escenarios USD Factory Orders (MoM)')\n",
    "    \n",
    "# Titulo eje x\n",
    "fig.update_xaxes(title_text='Escenarios')\n",
    "    \n",
    "# Titulo eje y\n",
    "fig.update_yaxes(title_text='<b>Conteo</b> de escenarios', secondary_y=False)\n",
    "    \n",
    "fig.show()"
   ]
  },
  {
   "cell_type": "code",
   "execution_count": 32,
   "metadata": {
    "scrolled": true
   },
   "outputs": [
    {
     "data": {
      "text/html": [
       "<div>\n",
       "<style scoped>\n",
       "    .dataframe tbody tr th:only-of-type {\n",
       "        vertical-align: middle;\n",
       "    }\n",
       "\n",
       "    .dataframe tbody tr th {\n",
       "        vertical-align: top;\n",
       "    }\n",
       "\n",
       "    .dataframe thead th {\n",
       "        text-align: right;\n",
       "    }\n",
       "</style>\n",
       "<table border=\"1\" class=\"dataframe\">\n",
       "  <thead>\n",
       "    <tr style=\"text-align: right;\">\n",
       "      <th></th>\n",
       "      <th>timestamp</th>\n",
       "      <th>escenario</th>\n",
       "      <th>operacion</th>\n",
       "      <th>volumen</th>\n",
       "      <th>resultado</th>\n",
       "      <th>pips</th>\n",
       "      <th>capital</th>\n",
       "    </tr>\n",
       "  </thead>\n",
       "  <tbody>\n",
       "    <tr>\n",
       "      <th>0</th>\n",
       "      <td>2019-02-04 15:00:00+00:00</td>\n",
       "      <td>C</td>\n",
       "      <td>Compra</td>\n",
       "      <td>10000</td>\n",
       "      <td>ganadora</td>\n",
       "      <td>10.4</td>\n",
       "      <td>10.4</td>\n",
       "    </tr>\n",
       "    <tr>\n",
       "      <th>1</th>\n",
       "      <td>2019-02-27 15:00:00+00:00</td>\n",
       "      <td>C</td>\n",
       "      <td>Compra</td>\n",
       "      <td>10000</td>\n",
       "      <td>ganadora</td>\n",
       "      <td>4.5</td>\n",
       "      <td>14.9</td>\n",
       "    </tr>\n",
       "    <tr>\n",
       "      <th>2</th>\n",
       "      <td>2019-03-19 14:00:00+00:00</td>\n",
       "      <td>C</td>\n",
       "      <td>Compra</td>\n",
       "      <td>10000</td>\n",
       "      <td>ganadora</td>\n",
       "      <td>2.7</td>\n",
       "      <td>17.6</td>\n",
       "    </tr>\n",
       "    <tr>\n",
       "      <th>3</th>\n",
       "      <td>2019-04-08 14:00:00+00:00</td>\n",
       "      <td>B</td>\n",
       "      <td>Venta</td>\n",
       "      <td>10000</td>\n",
       "      <td>ganadora</td>\n",
       "      <td>3.8</td>\n",
       "      <td>21.4</td>\n",
       "    </tr>\n",
       "    <tr>\n",
       "      <th>4</th>\n",
       "      <td>2019-05-02 14:00:00+00:00</td>\n",
       "      <td>A</td>\n",
       "      <td>Compra</td>\n",
       "      <td>10000</td>\n",
       "      <td>ganadora</td>\n",
       "      <td>12.4</td>\n",
       "      <td>33.8</td>\n",
       "    </tr>\n",
       "  </tbody>\n",
       "</table>\n",
       "</div>"
      ],
      "text/plain": [
       "                  timestamp escenario operacion  volumen resultado  pips  \\\n",
       "0 2019-02-04 15:00:00+00:00         C    Compra    10000  ganadora  10.4   \n",
       "1 2019-02-27 15:00:00+00:00         C    Compra    10000  ganadora   4.5   \n",
       "2 2019-03-19 14:00:00+00:00         C    Compra    10000  ganadora   2.7   \n",
       "3 2019-04-08 14:00:00+00:00         B     Venta    10000  ganadora   3.8   \n",
       "4 2019-05-02 14:00:00+00:00         A    Compra    10000  ganadora  12.4   \n",
       "\n",
       "   capital  \n",
       "0     10.4  \n",
       "1     14.9  \n",
       "2     17.6  \n",
       "3     21.4  \n",
       "4     33.8  "
      ]
     },
     "execution_count": 32,
     "metadata": {},
     "output_type": "execute_result"
    }
   ],
   "source": [
    "df_prueba = pd.DataFrame(columns=['timestamp','escenario', 'operacion', 'volumen', 'resultado', 'pips','capital'])\n",
    "df_prueba['timestamp'] = df_escenarios['timestamp']\n",
    "df_prueba['escenario'] = df_escenarios['escenario']\n",
    "df_prueba['operacion'] = ['Venta' if df_prueba['escenario'][i] == 'B' else 'Compra' for i in range(len(df_prueba))]\n",
    "df_prueba['volumen'] = 10000\n",
    "df_prueba['pips'] = df_pips(df_prueba,df_prueba['escenario'],df_prueba['timestamp'])\n",
    "df_prueba['resultado'] = ['ganadora' if df_prueba['pips'][i] > 0 else \"perdedora\" for i in range(len(df_prueba))]\n",
    "df_prueba['capital'] = np.cumsum(df_prueba['pips'])\n",
    "df_prueba.head()"
   ]
  },
  {
   "cell_type": "markdown",
   "metadata": {},
   "source": [
    "### Evolución del capital"
   ]
  },
  {
   "cell_type": "code",
   "execution_count": 33,
   "metadata": {
    "scrolled": false
   },
   "outputs": [
    {
     "data": {
      "application/vnd.plotly.v1+json": {
       "config": {
        "plotlyServerURL": "https://plot.ly"
       },
       "data": [
        {
         "name": "Capital",
         "type": "scatter",
         "x": [
          "2019-02-04T15:00:00+00:00",
          "2019-02-27T15:00:00+00:00",
          "2019-03-19T14:00:00+00:00",
          "2019-04-08T14:00:00+00:00",
          "2019-05-02T14:00:00+00:00",
          "2019-06-04T14:00:00+00:00",
          "2019-07-03T14:00:00+00:00",
          "2019-08-02T14:00:00+00:00",
          "2019-09-05T14:00:00+00:00"
         ],
         "xaxis": "x",
         "y": [
          10.399999999999299,
          14.899999999999913,
          17.60000000000206,
          21.400000000000308,
          33.8000000000016,
          44.80000000000261,
          55.20000000000191,
          65.6000000000012,
          94.20000000000205
         ],
         "yaxis": "y"
        }
       ],
       "layout": {
        "template": {
         "data": {
          "bar": [
           {
            "error_x": {
             "color": "#2a3f5f"
            },
            "error_y": {
             "color": "#2a3f5f"
            },
            "marker": {
             "line": {
              "color": "#E5ECF6",
              "width": 0.5
             }
            },
            "type": "bar"
           }
          ],
          "barpolar": [
           {
            "marker": {
             "line": {
              "color": "#E5ECF6",
              "width": 0.5
             }
            },
            "type": "barpolar"
           }
          ],
          "carpet": [
           {
            "aaxis": {
             "endlinecolor": "#2a3f5f",
             "gridcolor": "white",
             "linecolor": "white",
             "minorgridcolor": "white",
             "startlinecolor": "#2a3f5f"
            },
            "baxis": {
             "endlinecolor": "#2a3f5f",
             "gridcolor": "white",
             "linecolor": "white",
             "minorgridcolor": "white",
             "startlinecolor": "#2a3f5f"
            },
            "type": "carpet"
           }
          ],
          "choropleth": [
           {
            "colorbar": {
             "outlinewidth": 0,
             "ticks": ""
            },
            "type": "choropleth"
           }
          ],
          "contour": [
           {
            "colorbar": {
             "outlinewidth": 0,
             "ticks": ""
            },
            "colorscale": [
             [
              0,
              "#0d0887"
             ],
             [
              0.1111111111111111,
              "#46039f"
             ],
             [
              0.2222222222222222,
              "#7201a8"
             ],
             [
              0.3333333333333333,
              "#9c179e"
             ],
             [
              0.4444444444444444,
              "#bd3786"
             ],
             [
              0.5555555555555556,
              "#d8576b"
             ],
             [
              0.6666666666666666,
              "#ed7953"
             ],
             [
              0.7777777777777778,
              "#fb9f3a"
             ],
             [
              0.8888888888888888,
              "#fdca26"
             ],
             [
              1,
              "#f0f921"
             ]
            ],
            "type": "contour"
           }
          ],
          "contourcarpet": [
           {
            "colorbar": {
             "outlinewidth": 0,
             "ticks": ""
            },
            "type": "contourcarpet"
           }
          ],
          "heatmap": [
           {
            "colorbar": {
             "outlinewidth": 0,
             "ticks": ""
            },
            "colorscale": [
             [
              0,
              "#0d0887"
             ],
             [
              0.1111111111111111,
              "#46039f"
             ],
             [
              0.2222222222222222,
              "#7201a8"
             ],
             [
              0.3333333333333333,
              "#9c179e"
             ],
             [
              0.4444444444444444,
              "#bd3786"
             ],
             [
              0.5555555555555556,
              "#d8576b"
             ],
             [
              0.6666666666666666,
              "#ed7953"
             ],
             [
              0.7777777777777778,
              "#fb9f3a"
             ],
             [
              0.8888888888888888,
              "#fdca26"
             ],
             [
              1,
              "#f0f921"
             ]
            ],
            "type": "heatmap"
           }
          ],
          "heatmapgl": [
           {
            "colorbar": {
             "outlinewidth": 0,
             "ticks": ""
            },
            "colorscale": [
             [
              0,
              "#0d0887"
             ],
             [
              0.1111111111111111,
              "#46039f"
             ],
             [
              0.2222222222222222,
              "#7201a8"
             ],
             [
              0.3333333333333333,
              "#9c179e"
             ],
             [
              0.4444444444444444,
              "#bd3786"
             ],
             [
              0.5555555555555556,
              "#d8576b"
             ],
             [
              0.6666666666666666,
              "#ed7953"
             ],
             [
              0.7777777777777778,
              "#fb9f3a"
             ],
             [
              0.8888888888888888,
              "#fdca26"
             ],
             [
              1,
              "#f0f921"
             ]
            ],
            "type": "heatmapgl"
           }
          ],
          "histogram": [
           {
            "marker": {
             "colorbar": {
              "outlinewidth": 0,
              "ticks": ""
             }
            },
            "type": "histogram"
           }
          ],
          "histogram2d": [
           {
            "colorbar": {
             "outlinewidth": 0,
             "ticks": ""
            },
            "colorscale": [
             [
              0,
              "#0d0887"
             ],
             [
              0.1111111111111111,
              "#46039f"
             ],
             [
              0.2222222222222222,
              "#7201a8"
             ],
             [
              0.3333333333333333,
              "#9c179e"
             ],
             [
              0.4444444444444444,
              "#bd3786"
             ],
             [
              0.5555555555555556,
              "#d8576b"
             ],
             [
              0.6666666666666666,
              "#ed7953"
             ],
             [
              0.7777777777777778,
              "#fb9f3a"
             ],
             [
              0.8888888888888888,
              "#fdca26"
             ],
             [
              1,
              "#f0f921"
             ]
            ],
            "type": "histogram2d"
           }
          ],
          "histogram2dcontour": [
           {
            "colorbar": {
             "outlinewidth": 0,
             "ticks": ""
            },
            "colorscale": [
             [
              0,
              "#0d0887"
             ],
             [
              0.1111111111111111,
              "#46039f"
             ],
             [
              0.2222222222222222,
              "#7201a8"
             ],
             [
              0.3333333333333333,
              "#9c179e"
             ],
             [
              0.4444444444444444,
              "#bd3786"
             ],
             [
              0.5555555555555556,
              "#d8576b"
             ],
             [
              0.6666666666666666,
              "#ed7953"
             ],
             [
              0.7777777777777778,
              "#fb9f3a"
             ],
             [
              0.8888888888888888,
              "#fdca26"
             ],
             [
              1,
              "#f0f921"
             ]
            ],
            "type": "histogram2dcontour"
           }
          ],
          "mesh3d": [
           {
            "colorbar": {
             "outlinewidth": 0,
             "ticks": ""
            },
            "type": "mesh3d"
           }
          ],
          "parcoords": [
           {
            "line": {
             "colorbar": {
              "outlinewidth": 0,
              "ticks": ""
             }
            },
            "type": "parcoords"
           }
          ],
          "scatter": [
           {
            "marker": {
             "colorbar": {
              "outlinewidth": 0,
              "ticks": ""
             }
            },
            "type": "scatter"
           }
          ],
          "scatter3d": [
           {
            "line": {
             "colorbar": {
              "outlinewidth": 0,
              "ticks": ""
             }
            },
            "marker": {
             "colorbar": {
              "outlinewidth": 0,
              "ticks": ""
             }
            },
            "type": "scatter3d"
           }
          ],
          "scattercarpet": [
           {
            "marker": {
             "colorbar": {
              "outlinewidth": 0,
              "ticks": ""
             }
            },
            "type": "scattercarpet"
           }
          ],
          "scattergeo": [
           {
            "marker": {
             "colorbar": {
              "outlinewidth": 0,
              "ticks": ""
             }
            },
            "type": "scattergeo"
           }
          ],
          "scattergl": [
           {
            "marker": {
             "colorbar": {
              "outlinewidth": 0,
              "ticks": ""
             }
            },
            "type": "scattergl"
           }
          ],
          "scattermapbox": [
           {
            "marker": {
             "colorbar": {
              "outlinewidth": 0,
              "ticks": ""
             }
            },
            "type": "scattermapbox"
           }
          ],
          "scatterpolar": [
           {
            "marker": {
             "colorbar": {
              "outlinewidth": 0,
              "ticks": ""
             }
            },
            "type": "scatterpolar"
           }
          ],
          "scatterpolargl": [
           {
            "marker": {
             "colorbar": {
              "outlinewidth": 0,
              "ticks": ""
             }
            },
            "type": "scatterpolargl"
           }
          ],
          "scatterternary": [
           {
            "marker": {
             "colorbar": {
              "outlinewidth": 0,
              "ticks": ""
             }
            },
            "type": "scatterternary"
           }
          ],
          "surface": [
           {
            "colorbar": {
             "outlinewidth": 0,
             "ticks": ""
            },
            "colorscale": [
             [
              0,
              "#0d0887"
             ],
             [
              0.1111111111111111,
              "#46039f"
             ],
             [
              0.2222222222222222,
              "#7201a8"
             ],
             [
              0.3333333333333333,
              "#9c179e"
             ],
             [
              0.4444444444444444,
              "#bd3786"
             ],
             [
              0.5555555555555556,
              "#d8576b"
             ],
             [
              0.6666666666666666,
              "#ed7953"
             ],
             [
              0.7777777777777778,
              "#fb9f3a"
             ],
             [
              0.8888888888888888,
              "#fdca26"
             ],
             [
              1,
              "#f0f921"
             ]
            ],
            "type": "surface"
           }
          ],
          "table": [
           {
            "cells": {
             "fill": {
              "color": "#EBF0F8"
             },
             "line": {
              "color": "white"
             }
            },
            "header": {
             "fill": {
              "color": "#C8D4E3"
             },
             "line": {
              "color": "white"
             }
            },
            "type": "table"
           }
          ]
         },
         "layout": {
          "annotationdefaults": {
           "arrowcolor": "#2a3f5f",
           "arrowhead": 0,
           "arrowwidth": 1
          },
          "colorscale": {
           "diverging": [
            [
             0,
             "#8e0152"
            ],
            [
             0.1,
             "#c51b7d"
            ],
            [
             0.2,
             "#de77ae"
            ],
            [
             0.3,
             "#f1b6da"
            ],
            [
             0.4,
             "#fde0ef"
            ],
            [
             0.5,
             "#f7f7f7"
            ],
            [
             0.6,
             "#e6f5d0"
            ],
            [
             0.7,
             "#b8e186"
            ],
            [
             0.8,
             "#7fbc41"
            ],
            [
             0.9,
             "#4d9221"
            ],
            [
             1,
             "#276419"
            ]
           ],
           "sequential": [
            [
             0,
             "#0d0887"
            ],
            [
             0.1111111111111111,
             "#46039f"
            ],
            [
             0.2222222222222222,
             "#7201a8"
            ],
            [
             0.3333333333333333,
             "#9c179e"
            ],
            [
             0.4444444444444444,
             "#bd3786"
            ],
            [
             0.5555555555555556,
             "#d8576b"
            ],
            [
             0.6666666666666666,
             "#ed7953"
            ],
            [
             0.7777777777777778,
             "#fb9f3a"
            ],
            [
             0.8888888888888888,
             "#fdca26"
            ],
            [
             1,
             "#f0f921"
            ]
           ],
           "sequentialminus": [
            [
             0,
             "#0d0887"
            ],
            [
             0.1111111111111111,
             "#46039f"
            ],
            [
             0.2222222222222222,
             "#7201a8"
            ],
            [
             0.3333333333333333,
             "#9c179e"
            ],
            [
             0.4444444444444444,
             "#bd3786"
            ],
            [
             0.5555555555555556,
             "#d8576b"
            ],
            [
             0.6666666666666666,
             "#ed7953"
            ],
            [
             0.7777777777777778,
             "#fb9f3a"
            ],
            [
             0.8888888888888888,
             "#fdca26"
            ],
            [
             1,
             "#f0f921"
            ]
           ]
          },
          "colorway": [
           "#636efa",
           "#EF553B",
           "#00cc96",
           "#ab63fa",
           "#FFA15A",
           "#19d3f3",
           "#FF6692",
           "#B6E880",
           "#FF97FF",
           "#FECB52"
          ],
          "font": {
           "color": "#2a3f5f"
          },
          "geo": {
           "bgcolor": "white",
           "lakecolor": "white",
           "landcolor": "#E5ECF6",
           "showlakes": true,
           "showland": true,
           "subunitcolor": "white"
          },
          "hoverlabel": {
           "align": "left"
          },
          "hovermode": "closest",
          "mapbox": {
           "style": "light"
          },
          "paper_bgcolor": "white",
          "plot_bgcolor": "#E5ECF6",
          "polar": {
           "angularaxis": {
            "gridcolor": "white",
            "linecolor": "white",
            "ticks": ""
           },
           "bgcolor": "#E5ECF6",
           "radialaxis": {
            "gridcolor": "white",
            "linecolor": "white",
            "ticks": ""
           }
          },
          "scene": {
           "xaxis": {
            "backgroundcolor": "#E5ECF6",
            "gridcolor": "white",
            "gridwidth": 2,
            "linecolor": "white",
            "showbackground": true,
            "ticks": "",
            "zerolinecolor": "white"
           },
           "yaxis": {
            "backgroundcolor": "#E5ECF6",
            "gridcolor": "white",
            "gridwidth": 2,
            "linecolor": "white",
            "showbackground": true,
            "ticks": "",
            "zerolinecolor": "white"
           },
           "zaxis": {
            "backgroundcolor": "#E5ECF6",
            "gridcolor": "white",
            "gridwidth": 2,
            "linecolor": "white",
            "showbackground": true,
            "ticks": "",
            "zerolinecolor": "white"
           }
          },
          "shapedefaults": {
           "line": {
            "color": "#2a3f5f"
           }
          },
          "ternary": {
           "aaxis": {
            "gridcolor": "white",
            "linecolor": "white",
            "ticks": ""
           },
           "baxis": {
            "gridcolor": "white",
            "linecolor": "white",
            "ticks": ""
           },
           "bgcolor": "#E5ECF6",
           "caxis": {
            "gridcolor": "white",
            "linecolor": "white",
            "ticks": ""
           }
          },
          "title": {
           "x": 0.05
          },
          "xaxis": {
           "automargin": true,
           "gridcolor": "white",
           "linecolor": "white",
           "ticks": "",
           "zerolinecolor": "white",
           "zerolinewidth": 2
          },
          "yaxis": {
           "automargin": true,
           "gridcolor": "white",
           "linecolor": "white",
           "ticks": "",
           "zerolinecolor": "white",
           "zerolinewidth": 2
          }
         }
        },
        "title": {
         "text": "Evolución Valores del Indicador"
        },
        "xaxis": {
         "anchor": "y",
         "domain": [
          0,
          1
         ],
         "title": {
          "text": "Periodos"
         }
        },
        "yaxis": {
         "anchor": "x",
         "domain": [
          0,
          1
         ],
         "title": {
          "text": "<b>USD</b>"
         }
        }
       }
      },
      "text/html": [
       "<div>\n",
       "        \n",
       "        \n",
       "            <div id=\"c73a737e-cb25-4514-95d6-62dbb5b6f30f\" class=\"plotly-graph-div\" style=\"height:525px; width:100%;\"></div>\n",
       "            <script type=\"text/javascript\">\n",
       "                require([\"plotly\"], function(Plotly) {\n",
       "                    window.PLOTLYENV=window.PLOTLYENV || {};\n",
       "                    \n",
       "                if (document.getElementById(\"c73a737e-cb25-4514-95d6-62dbb5b6f30f\")) {\n",
       "                    Plotly.newPlot(\n",
       "                        'c73a737e-cb25-4514-95d6-62dbb5b6f30f',\n",
       "                        [{\"name\": \"Capital\", \"type\": \"scatter\", \"x\": [\"2019-02-04T15:00:00+00:00\", \"2019-02-27T15:00:00+00:00\", \"2019-03-19T14:00:00+00:00\", \"2019-04-08T14:00:00+00:00\", \"2019-05-02T14:00:00+00:00\", \"2019-06-04T14:00:00+00:00\", \"2019-07-03T14:00:00+00:00\", \"2019-08-02T14:00:00+00:00\", \"2019-09-05T14:00:00+00:00\"], \"xaxis\": \"x\", \"y\": [10.399999999999299, 14.899999999999913, 17.60000000000206, 21.400000000000308, 33.8000000000016, 44.80000000000261, 55.20000000000191, 65.6000000000012, 94.20000000000205], \"yaxis\": \"y\"}],\n",
       "                        {\"template\": {\"data\": {\"bar\": [{\"error_x\": {\"color\": \"#2a3f5f\"}, \"error_y\": {\"color\": \"#2a3f5f\"}, \"marker\": {\"line\": {\"color\": \"#E5ECF6\", \"width\": 0.5}}, \"type\": \"bar\"}], \"barpolar\": [{\"marker\": {\"line\": {\"color\": \"#E5ECF6\", \"width\": 0.5}}, \"type\": \"barpolar\"}], \"carpet\": [{\"aaxis\": {\"endlinecolor\": \"#2a3f5f\", \"gridcolor\": \"white\", \"linecolor\": \"white\", \"minorgridcolor\": \"white\", \"startlinecolor\": \"#2a3f5f\"}, \"baxis\": {\"endlinecolor\": \"#2a3f5f\", \"gridcolor\": \"white\", \"linecolor\": \"white\", \"minorgridcolor\": \"white\", \"startlinecolor\": \"#2a3f5f\"}, \"type\": \"carpet\"}], \"choropleth\": [{\"colorbar\": {\"outlinewidth\": 0, \"ticks\": \"\"}, \"type\": \"choropleth\"}], \"contour\": [{\"colorbar\": {\"outlinewidth\": 0, \"ticks\": \"\"}, \"colorscale\": [[0.0, \"#0d0887\"], [0.1111111111111111, \"#46039f\"], [0.2222222222222222, \"#7201a8\"], [0.3333333333333333, \"#9c179e\"], [0.4444444444444444, \"#bd3786\"], [0.5555555555555556, \"#d8576b\"], [0.6666666666666666, \"#ed7953\"], [0.7777777777777778, \"#fb9f3a\"], [0.8888888888888888, \"#fdca26\"], [1.0, \"#f0f921\"]], \"type\": \"contour\"}], \"contourcarpet\": [{\"colorbar\": {\"outlinewidth\": 0, \"ticks\": \"\"}, \"type\": \"contourcarpet\"}], \"heatmap\": [{\"colorbar\": {\"outlinewidth\": 0, \"ticks\": \"\"}, \"colorscale\": [[0.0, \"#0d0887\"], [0.1111111111111111, \"#46039f\"], [0.2222222222222222, \"#7201a8\"], [0.3333333333333333, \"#9c179e\"], [0.4444444444444444, \"#bd3786\"], [0.5555555555555556, \"#d8576b\"], [0.6666666666666666, \"#ed7953\"], [0.7777777777777778, \"#fb9f3a\"], [0.8888888888888888, \"#fdca26\"], [1.0, \"#f0f921\"]], \"type\": \"heatmap\"}], \"heatmapgl\": [{\"colorbar\": {\"outlinewidth\": 0, \"ticks\": \"\"}, \"colorscale\": [[0.0, \"#0d0887\"], [0.1111111111111111, \"#46039f\"], [0.2222222222222222, \"#7201a8\"], [0.3333333333333333, \"#9c179e\"], [0.4444444444444444, \"#bd3786\"], [0.5555555555555556, \"#d8576b\"], [0.6666666666666666, \"#ed7953\"], [0.7777777777777778, \"#fb9f3a\"], [0.8888888888888888, \"#fdca26\"], [1.0, \"#f0f921\"]], \"type\": \"heatmapgl\"}], \"histogram\": [{\"marker\": {\"colorbar\": {\"outlinewidth\": 0, \"ticks\": \"\"}}, \"type\": \"histogram\"}], \"histogram2d\": [{\"colorbar\": {\"outlinewidth\": 0, \"ticks\": \"\"}, \"colorscale\": [[0.0, \"#0d0887\"], [0.1111111111111111, \"#46039f\"], [0.2222222222222222, \"#7201a8\"], [0.3333333333333333, \"#9c179e\"], [0.4444444444444444, \"#bd3786\"], [0.5555555555555556, \"#d8576b\"], [0.6666666666666666, \"#ed7953\"], [0.7777777777777778, \"#fb9f3a\"], [0.8888888888888888, \"#fdca26\"], [1.0, \"#f0f921\"]], \"type\": \"histogram2d\"}], \"histogram2dcontour\": [{\"colorbar\": {\"outlinewidth\": 0, \"ticks\": \"\"}, \"colorscale\": [[0.0, \"#0d0887\"], [0.1111111111111111, \"#46039f\"], [0.2222222222222222, \"#7201a8\"], [0.3333333333333333, \"#9c179e\"], [0.4444444444444444, \"#bd3786\"], [0.5555555555555556, \"#d8576b\"], [0.6666666666666666, \"#ed7953\"], [0.7777777777777778, \"#fb9f3a\"], [0.8888888888888888, \"#fdca26\"], [1.0, \"#f0f921\"]], \"type\": \"histogram2dcontour\"}], \"mesh3d\": [{\"colorbar\": {\"outlinewidth\": 0, \"ticks\": \"\"}, \"type\": \"mesh3d\"}], \"parcoords\": [{\"line\": {\"colorbar\": {\"outlinewidth\": 0, \"ticks\": \"\"}}, \"type\": \"parcoords\"}], \"scatter\": [{\"marker\": {\"colorbar\": {\"outlinewidth\": 0, \"ticks\": \"\"}}, \"type\": \"scatter\"}], \"scatter3d\": [{\"line\": {\"colorbar\": {\"outlinewidth\": 0, \"ticks\": \"\"}}, \"marker\": {\"colorbar\": {\"outlinewidth\": 0, \"ticks\": \"\"}}, \"type\": \"scatter3d\"}], \"scattercarpet\": [{\"marker\": {\"colorbar\": {\"outlinewidth\": 0, \"ticks\": \"\"}}, \"type\": \"scattercarpet\"}], \"scattergeo\": [{\"marker\": {\"colorbar\": {\"outlinewidth\": 0, \"ticks\": \"\"}}, \"type\": \"scattergeo\"}], \"scattergl\": [{\"marker\": {\"colorbar\": {\"outlinewidth\": 0, \"ticks\": \"\"}}, \"type\": \"scattergl\"}], \"scattermapbox\": [{\"marker\": {\"colorbar\": {\"outlinewidth\": 0, \"ticks\": \"\"}}, \"type\": \"scattermapbox\"}], \"scatterpolar\": [{\"marker\": {\"colorbar\": {\"outlinewidth\": 0, \"ticks\": \"\"}}, \"type\": \"scatterpolar\"}], \"scatterpolargl\": [{\"marker\": {\"colorbar\": {\"outlinewidth\": 0, \"ticks\": \"\"}}, \"type\": \"scatterpolargl\"}], \"scatterternary\": [{\"marker\": {\"colorbar\": {\"outlinewidth\": 0, \"ticks\": \"\"}}, \"type\": \"scatterternary\"}], \"surface\": [{\"colorbar\": {\"outlinewidth\": 0, \"ticks\": \"\"}, \"colorscale\": [[0.0, \"#0d0887\"], [0.1111111111111111, \"#46039f\"], [0.2222222222222222, \"#7201a8\"], [0.3333333333333333, \"#9c179e\"], [0.4444444444444444, \"#bd3786\"], [0.5555555555555556, \"#d8576b\"], [0.6666666666666666, \"#ed7953\"], [0.7777777777777778, \"#fb9f3a\"], [0.8888888888888888, \"#fdca26\"], [1.0, \"#f0f921\"]], \"type\": \"surface\"}], \"table\": [{\"cells\": {\"fill\": {\"color\": \"#EBF0F8\"}, \"line\": {\"color\": \"white\"}}, \"header\": {\"fill\": {\"color\": \"#C8D4E3\"}, \"line\": {\"color\": \"white\"}}, \"type\": \"table\"}]}, \"layout\": {\"annotationdefaults\": {\"arrowcolor\": \"#2a3f5f\", \"arrowhead\": 0, \"arrowwidth\": 1}, \"colorscale\": {\"diverging\": [[0, \"#8e0152\"], [0.1, \"#c51b7d\"], [0.2, \"#de77ae\"], [0.3, \"#f1b6da\"], [0.4, \"#fde0ef\"], [0.5, \"#f7f7f7\"], [0.6, \"#e6f5d0\"], [0.7, \"#b8e186\"], [0.8, \"#7fbc41\"], [0.9, \"#4d9221\"], [1, \"#276419\"]], \"sequential\": [[0.0, \"#0d0887\"], [0.1111111111111111, \"#46039f\"], [0.2222222222222222, \"#7201a8\"], [0.3333333333333333, \"#9c179e\"], [0.4444444444444444, \"#bd3786\"], [0.5555555555555556, \"#d8576b\"], [0.6666666666666666, \"#ed7953\"], [0.7777777777777778, \"#fb9f3a\"], [0.8888888888888888, \"#fdca26\"], [1.0, \"#f0f921\"]], \"sequentialminus\": [[0.0, \"#0d0887\"], [0.1111111111111111, \"#46039f\"], [0.2222222222222222, \"#7201a8\"], [0.3333333333333333, \"#9c179e\"], [0.4444444444444444, \"#bd3786\"], [0.5555555555555556, \"#d8576b\"], [0.6666666666666666, \"#ed7953\"], [0.7777777777777778, \"#fb9f3a\"], [0.8888888888888888, \"#fdca26\"], [1.0, \"#f0f921\"]]}, \"colorway\": [\"#636efa\", \"#EF553B\", \"#00cc96\", \"#ab63fa\", \"#FFA15A\", \"#19d3f3\", \"#FF6692\", \"#B6E880\", \"#FF97FF\", \"#FECB52\"], \"font\": {\"color\": \"#2a3f5f\"}, \"geo\": {\"bgcolor\": \"white\", \"lakecolor\": \"white\", \"landcolor\": \"#E5ECF6\", \"showlakes\": true, \"showland\": true, \"subunitcolor\": \"white\"}, \"hoverlabel\": {\"align\": \"left\"}, \"hovermode\": \"closest\", \"mapbox\": {\"style\": \"light\"}, \"paper_bgcolor\": \"white\", \"plot_bgcolor\": \"#E5ECF6\", \"polar\": {\"angularaxis\": {\"gridcolor\": \"white\", \"linecolor\": \"white\", \"ticks\": \"\"}, \"bgcolor\": \"#E5ECF6\", \"radialaxis\": {\"gridcolor\": \"white\", \"linecolor\": \"white\", \"ticks\": \"\"}}, \"scene\": {\"xaxis\": {\"backgroundcolor\": \"#E5ECF6\", \"gridcolor\": \"white\", \"gridwidth\": 2, \"linecolor\": \"white\", \"showbackground\": true, \"ticks\": \"\", \"zerolinecolor\": \"white\"}, \"yaxis\": {\"backgroundcolor\": \"#E5ECF6\", \"gridcolor\": \"white\", \"gridwidth\": 2, \"linecolor\": \"white\", \"showbackground\": true, \"ticks\": \"\", \"zerolinecolor\": \"white\"}, \"zaxis\": {\"backgroundcolor\": \"#E5ECF6\", \"gridcolor\": \"white\", \"gridwidth\": 2, \"linecolor\": \"white\", \"showbackground\": true, \"ticks\": \"\", \"zerolinecolor\": \"white\"}}, \"shapedefaults\": {\"line\": {\"color\": \"#2a3f5f\"}}, \"ternary\": {\"aaxis\": {\"gridcolor\": \"white\", \"linecolor\": \"white\", \"ticks\": \"\"}, \"baxis\": {\"gridcolor\": \"white\", \"linecolor\": \"white\", \"ticks\": \"\"}, \"bgcolor\": \"#E5ECF6\", \"caxis\": {\"gridcolor\": \"white\", \"linecolor\": \"white\", \"ticks\": \"\"}}, \"title\": {\"x\": 0.05}, \"xaxis\": {\"automargin\": true, \"gridcolor\": \"white\", \"linecolor\": \"white\", \"ticks\": \"\", \"zerolinecolor\": \"white\", \"zerolinewidth\": 2}, \"yaxis\": {\"automargin\": true, \"gridcolor\": \"white\", \"linecolor\": \"white\", \"ticks\": \"\", \"zerolinecolor\": \"white\", \"zerolinewidth\": 2}}}, \"title\": {\"text\": \"Evoluci\\u00f3n Valores del Indicador\"}, \"xaxis\": {\"anchor\": \"y\", \"domain\": [0.0, 1.0], \"title\": {\"text\": \"Periodos\"}}, \"yaxis\": {\"anchor\": \"x\", \"domain\": [0.0, 1.0], \"title\": {\"text\": \"<b>USD</b>\"}}},\n",
       "                        {\"responsive\": true}\n",
       "                    ).then(function(){\n",
       "                            \n",
       "var gd = document.getElementById('c73a737e-cb25-4514-95d6-62dbb5b6f30f');\n",
       "var x = new MutationObserver(function (mutations, observer) {{\n",
       "        var display = window.getComputedStyle(gd).display;\n",
       "        if (!display || display === 'none') {{\n",
       "            console.log([gd, 'removed!']);\n",
       "            Plotly.purge(gd);\n",
       "            observer.disconnect();\n",
       "        }}\n",
       "}});\n",
       "\n",
       "// Listen for the removal of the full notebook cells\n",
       "var notebookContainer = gd.closest('#notebook-container');\n",
       "if (notebookContainer) {{\n",
       "    x.observe(notebookContainer, {childList: true});\n",
       "}}\n",
       "\n",
       "// Listen for the clearing of the current output cell\n",
       "var outputEl = gd.closest('.output');\n",
       "if (outputEl) {{\n",
       "    x.observe(outputEl, {childList: true});\n",
       "}}\n",
       "\n",
       "                        })\n",
       "                };\n",
       "                });\n",
       "            </script>\n",
       "        </div>"
      ]
     },
     "metadata": {},
     "output_type": "display_data"
    }
   ],
   "source": [
    "fig = go.Figure()\n",
    "fig = make_subplots()\n",
    "fig.add_trace(go.Scatter(x=df_prueba['timestamp'], y=df_prueba['capital'],name='Capital'),secondary_y=False)\n",
    "# Título del grafico\n",
    "fig.update_layout(title_text='Evolución Valores del Indicador')\n",
    "    \n",
    "# Titulo eje x\n",
    "fig.update_xaxes(title_text='Periodos')\n",
    "    \n",
    "# Titulo eje y\n",
    "fig.update_yaxes(title_text='<b>USD</b>', secondary_y=False)\n",
    "    \n",
    "fig.show()"
   ]
  },
  {
   "cell_type": "markdown",
   "metadata": {},
   "source": [
    "### Gráfico Boxplot"
   ]
  },
  {
   "cell_type": "code",
   "execution_count": 34,
   "metadata": {},
   "outputs": [
    {
     "data": {
      "application/vnd.plotly.v1+json": {
       "config": {
        "linkText": "Export to plot.ly",
        "plotlyServerURL": "https://plot.ly",
        "showLink": false
       },
       "data": [
        {
         "boxmean": true,
         "boxpoints": "all",
         "jitter": 0.5,
         "line": {
          "width": 1
         },
         "marker": {
          "size": 7
         },
         "name": "actual",
         "selectedpoints": [],
         "type": "box",
         "whiskerwidth": 0.5,
         "y": [
          -0.3157894736842105,
          0.052631578947368425,
          0.052631578947368425,
          -0.2631578947368421,
          1,
          -0.4210526315789474,
          -0.3684210526315789,
          0.3157894736842105,
          0.7368421052631579
         ]
        },
        {
         "boxmean": true,
         "boxpoints": "all",
         "jitter": 0.5,
         "line": {
          "width": 1
         },
         "marker": {
          "size": 7
         },
         "name": "previous",
         "selectedpoints": [
          "2019-02-04T15:00:00+00:00",
          "2019-06-04T14:00:00+00:00"
         ],
         "type": "box",
         "whiskerwidth": 0.5,
         "y": [
          -1.105263157894737,
          -0.3157894736842105,
          0.052631578947368425,
          0.052631578947368425,
          -0.2631578947368421,
          1,
          -0.4210526315789474,
          -0.3684210526315789,
          0.3157894736842105
         ]
        },
        {
         "boxmean": true,
         "boxpoints": "all",
         "jitter": 0.5,
         "line": {
          "width": 1
         },
         "marker": {
          "size": 7
         },
         "name": "consensus",
         "selectedpoints": [],
         "type": "box",
         "whiskerwidth": 0.5,
         "y": [
          0.13333333333333333,
          0.3333333333333333,
          0.19999999999999998,
          -0.39999999999999997,
          1,
          -0.6,
          -0.3333333333333333,
          0.5333333333333333,
          0.6666666666666666
         ]
        }
       ],
       "layout": {
        "margin": {
         "b": 80,
         "l": 40,
         "r": 30,
         "t": 100
        },
        "showlegend": false,
        "template": {
         "data": {
          "bar": [
           {
            "error_x": {
             "color": "#2a3f5f"
            },
            "error_y": {
             "color": "#2a3f5f"
            },
            "marker": {
             "line": {
              "color": "#E5ECF6",
              "width": 0.5
             }
            },
            "type": "bar"
           }
          ],
          "barpolar": [
           {
            "marker": {
             "line": {
              "color": "#E5ECF6",
              "width": 0.5
             }
            },
            "type": "barpolar"
           }
          ],
          "carpet": [
           {
            "aaxis": {
             "endlinecolor": "#2a3f5f",
             "gridcolor": "white",
             "linecolor": "white",
             "minorgridcolor": "white",
             "startlinecolor": "#2a3f5f"
            },
            "baxis": {
             "endlinecolor": "#2a3f5f",
             "gridcolor": "white",
             "linecolor": "white",
             "minorgridcolor": "white",
             "startlinecolor": "#2a3f5f"
            },
            "type": "carpet"
           }
          ],
          "choropleth": [
           {
            "colorbar": {
             "outlinewidth": 0,
             "ticks": ""
            },
            "type": "choropleth"
           }
          ],
          "contour": [
           {
            "colorbar": {
             "outlinewidth": 0,
             "ticks": ""
            },
            "colorscale": [
             [
              0,
              "#0d0887"
             ],
             [
              0.1111111111111111,
              "#46039f"
             ],
             [
              0.2222222222222222,
              "#7201a8"
             ],
             [
              0.3333333333333333,
              "#9c179e"
             ],
             [
              0.4444444444444444,
              "#bd3786"
             ],
             [
              0.5555555555555556,
              "#d8576b"
             ],
             [
              0.6666666666666666,
              "#ed7953"
             ],
             [
              0.7777777777777778,
              "#fb9f3a"
             ],
             [
              0.8888888888888888,
              "#fdca26"
             ],
             [
              1,
              "#f0f921"
             ]
            ],
            "type": "contour"
           }
          ],
          "contourcarpet": [
           {
            "colorbar": {
             "outlinewidth": 0,
             "ticks": ""
            },
            "type": "contourcarpet"
           }
          ],
          "heatmap": [
           {
            "colorbar": {
             "outlinewidth": 0,
             "ticks": ""
            },
            "colorscale": [
             [
              0,
              "#0d0887"
             ],
             [
              0.1111111111111111,
              "#46039f"
             ],
             [
              0.2222222222222222,
              "#7201a8"
             ],
             [
              0.3333333333333333,
              "#9c179e"
             ],
             [
              0.4444444444444444,
              "#bd3786"
             ],
             [
              0.5555555555555556,
              "#d8576b"
             ],
             [
              0.6666666666666666,
              "#ed7953"
             ],
             [
              0.7777777777777778,
              "#fb9f3a"
             ],
             [
              0.8888888888888888,
              "#fdca26"
             ],
             [
              1,
              "#f0f921"
             ]
            ],
            "type": "heatmap"
           }
          ],
          "heatmapgl": [
           {
            "colorbar": {
             "outlinewidth": 0,
             "ticks": ""
            },
            "colorscale": [
             [
              0,
              "#0d0887"
             ],
             [
              0.1111111111111111,
              "#46039f"
             ],
             [
              0.2222222222222222,
              "#7201a8"
             ],
             [
              0.3333333333333333,
              "#9c179e"
             ],
             [
              0.4444444444444444,
              "#bd3786"
             ],
             [
              0.5555555555555556,
              "#d8576b"
             ],
             [
              0.6666666666666666,
              "#ed7953"
             ],
             [
              0.7777777777777778,
              "#fb9f3a"
             ],
             [
              0.8888888888888888,
              "#fdca26"
             ],
             [
              1,
              "#f0f921"
             ]
            ],
            "type": "heatmapgl"
           }
          ],
          "histogram": [
           {
            "marker": {
             "colorbar": {
              "outlinewidth": 0,
              "ticks": ""
             }
            },
            "type": "histogram"
           }
          ],
          "histogram2d": [
           {
            "colorbar": {
             "outlinewidth": 0,
             "ticks": ""
            },
            "colorscale": [
             [
              0,
              "#0d0887"
             ],
             [
              0.1111111111111111,
              "#46039f"
             ],
             [
              0.2222222222222222,
              "#7201a8"
             ],
             [
              0.3333333333333333,
              "#9c179e"
             ],
             [
              0.4444444444444444,
              "#bd3786"
             ],
             [
              0.5555555555555556,
              "#d8576b"
             ],
             [
              0.6666666666666666,
              "#ed7953"
             ],
             [
              0.7777777777777778,
              "#fb9f3a"
             ],
             [
              0.8888888888888888,
              "#fdca26"
             ],
             [
              1,
              "#f0f921"
             ]
            ],
            "type": "histogram2d"
           }
          ],
          "histogram2dcontour": [
           {
            "colorbar": {
             "outlinewidth": 0,
             "ticks": ""
            },
            "colorscale": [
             [
              0,
              "#0d0887"
             ],
             [
              0.1111111111111111,
              "#46039f"
             ],
             [
              0.2222222222222222,
              "#7201a8"
             ],
             [
              0.3333333333333333,
              "#9c179e"
             ],
             [
              0.4444444444444444,
              "#bd3786"
             ],
             [
              0.5555555555555556,
              "#d8576b"
             ],
             [
              0.6666666666666666,
              "#ed7953"
             ],
             [
              0.7777777777777778,
              "#fb9f3a"
             ],
             [
              0.8888888888888888,
              "#fdca26"
             ],
             [
              1,
              "#f0f921"
             ]
            ],
            "type": "histogram2dcontour"
           }
          ],
          "mesh3d": [
           {
            "colorbar": {
             "outlinewidth": 0,
             "ticks": ""
            },
            "type": "mesh3d"
           }
          ],
          "parcoords": [
           {
            "line": {
             "colorbar": {
              "outlinewidth": 0,
              "ticks": ""
             }
            },
            "type": "parcoords"
           }
          ],
          "scatter": [
           {
            "marker": {
             "colorbar": {
              "outlinewidth": 0,
              "ticks": ""
             }
            },
            "type": "scatter"
           }
          ],
          "scatter3d": [
           {
            "line": {
             "colorbar": {
              "outlinewidth": 0,
              "ticks": ""
             }
            },
            "marker": {
             "colorbar": {
              "outlinewidth": 0,
              "ticks": ""
             }
            },
            "type": "scatter3d"
           }
          ],
          "scattercarpet": [
           {
            "marker": {
             "colorbar": {
              "outlinewidth": 0,
              "ticks": ""
             }
            },
            "type": "scattercarpet"
           }
          ],
          "scattergeo": [
           {
            "marker": {
             "colorbar": {
              "outlinewidth": 0,
              "ticks": ""
             }
            },
            "type": "scattergeo"
           }
          ],
          "scattergl": [
           {
            "marker": {
             "colorbar": {
              "outlinewidth": 0,
              "ticks": ""
             }
            },
            "type": "scattergl"
           }
          ],
          "scattermapbox": [
           {
            "marker": {
             "colorbar": {
              "outlinewidth": 0,
              "ticks": ""
             }
            },
            "type": "scattermapbox"
           }
          ],
          "scatterpolar": [
           {
            "marker": {
             "colorbar": {
              "outlinewidth": 0,
              "ticks": ""
             }
            },
            "type": "scatterpolar"
           }
          ],
          "scatterpolargl": [
           {
            "marker": {
             "colorbar": {
              "outlinewidth": 0,
              "ticks": ""
             }
            },
            "type": "scatterpolargl"
           }
          ],
          "scatterternary": [
           {
            "marker": {
             "colorbar": {
              "outlinewidth": 0,
              "ticks": ""
             }
            },
            "type": "scatterternary"
           }
          ],
          "surface": [
           {
            "colorbar": {
             "outlinewidth": 0,
             "ticks": ""
            },
            "colorscale": [
             [
              0,
              "#0d0887"
             ],
             [
              0.1111111111111111,
              "#46039f"
             ],
             [
              0.2222222222222222,
              "#7201a8"
             ],
             [
              0.3333333333333333,
              "#9c179e"
             ],
             [
              0.4444444444444444,
              "#bd3786"
             ],
             [
              0.5555555555555556,
              "#d8576b"
             ],
             [
              0.6666666666666666,
              "#ed7953"
             ],
             [
              0.7777777777777778,
              "#fb9f3a"
             ],
             [
              0.8888888888888888,
              "#fdca26"
             ],
             [
              1,
              "#f0f921"
             ]
            ],
            "type": "surface"
           }
          ],
          "table": [
           {
            "cells": {
             "fill": {
              "color": "#EBF0F8"
             },
             "line": {
              "color": "white"
             }
            },
            "header": {
             "fill": {
              "color": "#C8D4E3"
             },
             "line": {
              "color": "white"
             }
            },
            "type": "table"
           }
          ]
         },
         "layout": {
          "annotationdefaults": {
           "arrowcolor": "#2a3f5f",
           "arrowhead": 0,
           "arrowwidth": 1
          },
          "colorscale": {
           "diverging": [
            [
             0,
             "#8e0152"
            ],
            [
             0.1,
             "#c51b7d"
            ],
            [
             0.2,
             "#de77ae"
            ],
            [
             0.3,
             "#f1b6da"
            ],
            [
             0.4,
             "#fde0ef"
            ],
            [
             0.5,
             "#f7f7f7"
            ],
            [
             0.6,
             "#e6f5d0"
            ],
            [
             0.7,
             "#b8e186"
            ],
            [
             0.8,
             "#7fbc41"
            ],
            [
             0.9,
             "#4d9221"
            ],
            [
             1,
             "#276419"
            ]
           ],
           "sequential": [
            [
             0,
             "#0d0887"
            ],
            [
             0.1111111111111111,
             "#46039f"
            ],
            [
             0.2222222222222222,
             "#7201a8"
            ],
            [
             0.3333333333333333,
             "#9c179e"
            ],
            [
             0.4444444444444444,
             "#bd3786"
            ],
            [
             0.5555555555555556,
             "#d8576b"
            ],
            [
             0.6666666666666666,
             "#ed7953"
            ],
            [
             0.7777777777777778,
             "#fb9f3a"
            ],
            [
             0.8888888888888888,
             "#fdca26"
            ],
            [
             1,
             "#f0f921"
            ]
           ],
           "sequentialminus": [
            [
             0,
             "#0d0887"
            ],
            [
             0.1111111111111111,
             "#46039f"
            ],
            [
             0.2222222222222222,
             "#7201a8"
            ],
            [
             0.3333333333333333,
             "#9c179e"
            ],
            [
             0.4444444444444444,
             "#bd3786"
            ],
            [
             0.5555555555555556,
             "#d8576b"
            ],
            [
             0.6666666666666666,
             "#ed7953"
            ],
            [
             0.7777777777777778,
             "#fb9f3a"
            ],
            [
             0.8888888888888888,
             "#fdca26"
            ],
            [
             1,
             "#f0f921"
            ]
           ]
          },
          "colorway": [
           "#636efa",
           "#EF553B",
           "#00cc96",
           "#ab63fa",
           "#FFA15A",
           "#19d3f3",
           "#FF6692",
           "#B6E880",
           "#FF97FF",
           "#FECB52"
          ],
          "font": {
           "color": "#2a3f5f"
          },
          "geo": {
           "bgcolor": "white",
           "lakecolor": "white",
           "landcolor": "#E5ECF6",
           "showlakes": true,
           "showland": true,
           "subunitcolor": "white"
          },
          "hoverlabel": {
           "align": "left"
          },
          "hovermode": "closest",
          "mapbox": {
           "style": "light"
          },
          "paper_bgcolor": "white",
          "plot_bgcolor": "#E5ECF6",
          "polar": {
           "angularaxis": {
            "gridcolor": "white",
            "linecolor": "white",
            "ticks": ""
           },
           "bgcolor": "#E5ECF6",
           "radialaxis": {
            "gridcolor": "white",
            "linecolor": "white",
            "ticks": ""
           }
          },
          "scene": {
           "xaxis": {
            "backgroundcolor": "#E5ECF6",
            "gridcolor": "white",
            "gridwidth": 2,
            "linecolor": "white",
            "showbackground": true,
            "ticks": "",
            "zerolinecolor": "white"
           },
           "yaxis": {
            "backgroundcolor": "#E5ECF6",
            "gridcolor": "white",
            "gridwidth": 2,
            "linecolor": "white",
            "showbackground": true,
            "ticks": "",
            "zerolinecolor": "white"
           },
           "zaxis": {
            "backgroundcolor": "#E5ECF6",
            "gridcolor": "white",
            "gridwidth": 2,
            "linecolor": "white",
            "showbackground": true,
            "ticks": "",
            "zerolinecolor": "white"
           }
          },
          "shapedefaults": {
           "line": {
            "color": "#2a3f5f"
           }
          },
          "ternary": {
           "aaxis": {
            "gridcolor": "white",
            "linecolor": "white",
            "ticks": ""
           },
           "baxis": {
            "gridcolor": "white",
            "linecolor": "white",
            "ticks": ""
           },
           "bgcolor": "#E5ECF6",
           "caxis": {
            "gridcolor": "white",
            "linecolor": "white",
            "ticks": ""
           }
          },
          "title": {
           "x": 0.05
          },
          "xaxis": {
           "automargin": true,
           "gridcolor": "white",
           "linecolor": "white",
           "ticks": "",
           "zerolinecolor": "white",
           "zerolinewidth": 2
          },
          "yaxis": {
           "automargin": true,
           "gridcolor": "white",
           "linecolor": "white",
           "ticks": "",
           "zerolinecolor": "white",
           "zerolinewidth": 2
          }
         }
        },
        "title": {
         "text": "Visualizacion los precios"
        },
        "yaxis": {
         "autorange": true,
         "dtick": 5,
         "gridcolor": "rgb(255, 255, 255)",
         "gridwidth": 1,
         "hoverformat": ".2f",
         "showgrid": true
        }
       }
      },
      "text/html": [
       "<div>\n",
       "        \n",
       "        \n",
       "            <div id=\"118c8146-175c-4b4f-b30c-9eb829b40a74\" class=\"plotly-graph-div\" style=\"height:525px; width:100%;\"></div>\n",
       "            <script type=\"text/javascript\">\n",
       "                require([\"plotly\"], function(Plotly) {\n",
       "                    window.PLOTLYENV=window.PLOTLYENV || {};\n",
       "                    \n",
       "                if (document.getElementById(\"118c8146-175c-4b4f-b30c-9eb829b40a74\")) {\n",
       "                    Plotly.newPlot(\n",
       "                        '118c8146-175c-4b4f-b30c-9eb829b40a74',\n",
       "                        [{\"boxmean\": true, \"boxpoints\": \"all\", \"jitter\": 0.5, \"line\": {\"width\": 1}, \"marker\": {\"size\": 7}, \"name\": \"actual\", \"selectedpoints\": [], \"type\": \"box\", \"whiskerwidth\": 0.5, \"y\": [-0.3157894736842105, 0.052631578947368425, 0.052631578947368425, -0.2631578947368421, 1.0, -0.4210526315789474, -0.3684210526315789, 0.3157894736842105, 0.7368421052631579]}, {\"boxmean\": true, \"boxpoints\": \"all\", \"jitter\": 0.5, \"line\": {\"width\": 1}, \"marker\": {\"size\": 7}, \"name\": \"previous\", \"selectedpoints\": [\"2019-02-04T15:00:00+00:00\", \"2019-06-04T14:00:00+00:00\"], \"type\": \"box\", \"whiskerwidth\": 0.5, \"y\": [-1.105263157894737, -0.3157894736842105, 0.052631578947368425, 0.052631578947368425, -0.2631578947368421, 1.0, -0.4210526315789474, -0.3684210526315789, 0.3157894736842105]}, {\"boxmean\": true, \"boxpoints\": \"all\", \"jitter\": 0.5, \"line\": {\"width\": 1}, \"marker\": {\"size\": 7}, \"name\": \"consensus\", \"selectedpoints\": [], \"type\": \"box\", \"whiskerwidth\": 0.5, \"y\": [0.13333333333333333, 0.3333333333333333, 0.19999999999999998, -0.39999999999999997, 1.0, -0.6, -0.3333333333333333, 0.5333333333333333, 0.6666666666666666]}],\n",
       "                        {\"margin\": {\"b\": 80, \"l\": 40, \"r\": 30, \"t\": 100}, \"showlegend\": false, \"template\": {\"data\": {\"bar\": [{\"error_x\": {\"color\": \"#2a3f5f\"}, \"error_y\": {\"color\": \"#2a3f5f\"}, \"marker\": {\"line\": {\"color\": \"#E5ECF6\", \"width\": 0.5}}, \"type\": \"bar\"}], \"barpolar\": [{\"marker\": {\"line\": {\"color\": \"#E5ECF6\", \"width\": 0.5}}, \"type\": \"barpolar\"}], \"carpet\": [{\"aaxis\": {\"endlinecolor\": \"#2a3f5f\", \"gridcolor\": \"white\", \"linecolor\": \"white\", \"minorgridcolor\": \"white\", \"startlinecolor\": \"#2a3f5f\"}, \"baxis\": {\"endlinecolor\": \"#2a3f5f\", \"gridcolor\": \"white\", \"linecolor\": \"white\", \"minorgridcolor\": \"white\", \"startlinecolor\": \"#2a3f5f\"}, \"type\": \"carpet\"}], \"choropleth\": [{\"colorbar\": {\"outlinewidth\": 0, \"ticks\": \"\"}, \"type\": \"choropleth\"}], \"contour\": [{\"colorbar\": {\"outlinewidth\": 0, \"ticks\": \"\"}, \"colorscale\": [[0.0, \"#0d0887\"], [0.1111111111111111, \"#46039f\"], [0.2222222222222222, \"#7201a8\"], [0.3333333333333333, \"#9c179e\"], [0.4444444444444444, \"#bd3786\"], [0.5555555555555556, \"#d8576b\"], [0.6666666666666666, \"#ed7953\"], [0.7777777777777778, \"#fb9f3a\"], [0.8888888888888888, \"#fdca26\"], [1.0, \"#f0f921\"]], \"type\": \"contour\"}], \"contourcarpet\": [{\"colorbar\": {\"outlinewidth\": 0, \"ticks\": \"\"}, \"type\": \"contourcarpet\"}], \"heatmap\": [{\"colorbar\": {\"outlinewidth\": 0, \"ticks\": \"\"}, \"colorscale\": [[0.0, \"#0d0887\"], [0.1111111111111111, \"#46039f\"], [0.2222222222222222, \"#7201a8\"], [0.3333333333333333, \"#9c179e\"], [0.4444444444444444, \"#bd3786\"], [0.5555555555555556, \"#d8576b\"], [0.6666666666666666, \"#ed7953\"], [0.7777777777777778, \"#fb9f3a\"], [0.8888888888888888, \"#fdca26\"], [1.0, \"#f0f921\"]], \"type\": \"heatmap\"}], \"heatmapgl\": [{\"colorbar\": {\"outlinewidth\": 0, \"ticks\": \"\"}, \"colorscale\": [[0.0, \"#0d0887\"], [0.1111111111111111, \"#46039f\"], [0.2222222222222222, \"#7201a8\"], [0.3333333333333333, \"#9c179e\"], [0.4444444444444444, \"#bd3786\"], [0.5555555555555556, \"#d8576b\"], [0.6666666666666666, \"#ed7953\"], [0.7777777777777778, \"#fb9f3a\"], [0.8888888888888888, \"#fdca26\"], [1.0, \"#f0f921\"]], \"type\": \"heatmapgl\"}], \"histogram\": [{\"marker\": {\"colorbar\": {\"outlinewidth\": 0, \"ticks\": \"\"}}, \"type\": \"histogram\"}], \"histogram2d\": [{\"colorbar\": {\"outlinewidth\": 0, \"ticks\": \"\"}, \"colorscale\": [[0.0, \"#0d0887\"], [0.1111111111111111, \"#46039f\"], [0.2222222222222222, \"#7201a8\"], [0.3333333333333333, \"#9c179e\"], [0.4444444444444444, \"#bd3786\"], [0.5555555555555556, \"#d8576b\"], [0.6666666666666666, \"#ed7953\"], [0.7777777777777778, \"#fb9f3a\"], [0.8888888888888888, \"#fdca26\"], [1.0, \"#f0f921\"]], \"type\": \"histogram2d\"}], \"histogram2dcontour\": [{\"colorbar\": {\"outlinewidth\": 0, \"ticks\": \"\"}, \"colorscale\": [[0.0, \"#0d0887\"], [0.1111111111111111, \"#46039f\"], [0.2222222222222222, \"#7201a8\"], [0.3333333333333333, \"#9c179e\"], [0.4444444444444444, \"#bd3786\"], [0.5555555555555556, \"#d8576b\"], [0.6666666666666666, \"#ed7953\"], [0.7777777777777778, \"#fb9f3a\"], [0.8888888888888888, \"#fdca26\"], [1.0, \"#f0f921\"]], \"type\": \"histogram2dcontour\"}], \"mesh3d\": [{\"colorbar\": {\"outlinewidth\": 0, \"ticks\": \"\"}, \"type\": \"mesh3d\"}], \"parcoords\": [{\"line\": {\"colorbar\": {\"outlinewidth\": 0, \"ticks\": \"\"}}, \"type\": \"parcoords\"}], \"scatter\": [{\"marker\": {\"colorbar\": {\"outlinewidth\": 0, \"ticks\": \"\"}}, \"type\": \"scatter\"}], \"scatter3d\": [{\"line\": {\"colorbar\": {\"outlinewidth\": 0, \"ticks\": \"\"}}, \"marker\": {\"colorbar\": {\"outlinewidth\": 0, \"ticks\": \"\"}}, \"type\": \"scatter3d\"}], \"scattercarpet\": [{\"marker\": {\"colorbar\": {\"outlinewidth\": 0, \"ticks\": \"\"}}, \"type\": \"scattercarpet\"}], \"scattergeo\": [{\"marker\": {\"colorbar\": {\"outlinewidth\": 0, \"ticks\": \"\"}}, \"type\": \"scattergeo\"}], \"scattergl\": [{\"marker\": {\"colorbar\": {\"outlinewidth\": 0, \"ticks\": \"\"}}, \"type\": \"scattergl\"}], \"scattermapbox\": [{\"marker\": {\"colorbar\": {\"outlinewidth\": 0, \"ticks\": \"\"}}, \"type\": \"scattermapbox\"}], \"scatterpolar\": [{\"marker\": {\"colorbar\": {\"outlinewidth\": 0, \"ticks\": \"\"}}, \"type\": \"scatterpolar\"}], \"scatterpolargl\": [{\"marker\": {\"colorbar\": {\"outlinewidth\": 0, \"ticks\": \"\"}}, \"type\": \"scatterpolargl\"}], \"scatterternary\": [{\"marker\": {\"colorbar\": {\"outlinewidth\": 0, \"ticks\": \"\"}}, \"type\": \"scatterternary\"}], \"surface\": [{\"colorbar\": {\"outlinewidth\": 0, \"ticks\": \"\"}, \"colorscale\": [[0.0, \"#0d0887\"], [0.1111111111111111, \"#46039f\"], [0.2222222222222222, \"#7201a8\"], [0.3333333333333333, \"#9c179e\"], [0.4444444444444444, \"#bd3786\"], [0.5555555555555556, \"#d8576b\"], [0.6666666666666666, \"#ed7953\"], [0.7777777777777778, \"#fb9f3a\"], [0.8888888888888888, \"#fdca26\"], [1.0, \"#f0f921\"]], \"type\": \"surface\"}], \"table\": [{\"cells\": {\"fill\": {\"color\": \"#EBF0F8\"}, \"line\": {\"color\": \"white\"}}, \"header\": {\"fill\": {\"color\": \"#C8D4E3\"}, \"line\": {\"color\": \"white\"}}, \"type\": \"table\"}]}, \"layout\": {\"annotationdefaults\": {\"arrowcolor\": \"#2a3f5f\", \"arrowhead\": 0, \"arrowwidth\": 1}, \"colorscale\": {\"diverging\": [[0, \"#8e0152\"], [0.1, \"#c51b7d\"], [0.2, \"#de77ae\"], [0.3, \"#f1b6da\"], [0.4, \"#fde0ef\"], [0.5, \"#f7f7f7\"], [0.6, \"#e6f5d0\"], [0.7, \"#b8e186\"], [0.8, \"#7fbc41\"], [0.9, \"#4d9221\"], [1, \"#276419\"]], \"sequential\": [[0.0, \"#0d0887\"], [0.1111111111111111, \"#46039f\"], [0.2222222222222222, \"#7201a8\"], [0.3333333333333333, \"#9c179e\"], [0.4444444444444444, \"#bd3786\"], [0.5555555555555556, \"#d8576b\"], [0.6666666666666666, \"#ed7953\"], [0.7777777777777778, \"#fb9f3a\"], [0.8888888888888888, \"#fdca26\"], [1.0, \"#f0f921\"]], \"sequentialminus\": [[0.0, \"#0d0887\"], [0.1111111111111111, \"#46039f\"], [0.2222222222222222, \"#7201a8\"], [0.3333333333333333, \"#9c179e\"], [0.4444444444444444, \"#bd3786\"], [0.5555555555555556, \"#d8576b\"], [0.6666666666666666, \"#ed7953\"], [0.7777777777777778, \"#fb9f3a\"], [0.8888888888888888, \"#fdca26\"], [1.0, \"#f0f921\"]]}, \"colorway\": [\"#636efa\", \"#EF553B\", \"#00cc96\", \"#ab63fa\", \"#FFA15A\", \"#19d3f3\", \"#FF6692\", \"#B6E880\", \"#FF97FF\", \"#FECB52\"], \"font\": {\"color\": \"#2a3f5f\"}, \"geo\": {\"bgcolor\": \"white\", \"lakecolor\": \"white\", \"landcolor\": \"#E5ECF6\", \"showlakes\": true, \"showland\": true, \"subunitcolor\": \"white\"}, \"hoverlabel\": {\"align\": \"left\"}, \"hovermode\": \"closest\", \"mapbox\": {\"style\": \"light\"}, \"paper_bgcolor\": \"white\", \"plot_bgcolor\": \"#E5ECF6\", \"polar\": {\"angularaxis\": {\"gridcolor\": \"white\", \"linecolor\": \"white\", \"ticks\": \"\"}, \"bgcolor\": \"#E5ECF6\", \"radialaxis\": {\"gridcolor\": \"white\", \"linecolor\": \"white\", \"ticks\": \"\"}}, \"scene\": {\"xaxis\": {\"backgroundcolor\": \"#E5ECF6\", \"gridcolor\": \"white\", \"gridwidth\": 2, \"linecolor\": \"white\", \"showbackground\": true, \"ticks\": \"\", \"zerolinecolor\": \"white\"}, \"yaxis\": {\"backgroundcolor\": \"#E5ECF6\", \"gridcolor\": \"white\", \"gridwidth\": 2, \"linecolor\": \"white\", \"showbackground\": true, \"ticks\": \"\", \"zerolinecolor\": \"white\"}, \"zaxis\": {\"backgroundcolor\": \"#E5ECF6\", \"gridcolor\": \"white\", \"gridwidth\": 2, \"linecolor\": \"white\", \"showbackground\": true, \"ticks\": \"\", \"zerolinecolor\": \"white\"}}, \"shapedefaults\": {\"line\": {\"color\": \"#2a3f5f\"}}, \"ternary\": {\"aaxis\": {\"gridcolor\": \"white\", \"linecolor\": \"white\", \"ticks\": \"\"}, \"baxis\": {\"gridcolor\": \"white\", \"linecolor\": \"white\", \"ticks\": \"\"}, \"bgcolor\": \"#E5ECF6\", \"caxis\": {\"gridcolor\": \"white\", \"linecolor\": \"white\", \"ticks\": \"\"}}, \"title\": {\"x\": 0.05}, \"xaxis\": {\"automargin\": true, \"gridcolor\": \"white\", \"linecolor\": \"white\", \"ticks\": \"\", \"zerolinecolor\": \"white\", \"zerolinewidth\": 2}, \"yaxis\": {\"automargin\": true, \"gridcolor\": \"white\", \"linecolor\": \"white\", \"ticks\": \"\", \"zerolinecolor\": \"white\", \"zerolinewidth\": 2}}}, \"title\": {\"text\": \"Visualizacion los precios\"}, \"yaxis\": {\"autorange\": true, \"dtick\": 5, \"gridcolor\": \"rgb(255, 255, 255)\", \"gridwidth\": 1, \"hoverformat\": \".2f\", \"showgrid\": true}},\n",
       "                        {\"responsive\": true}\n",
       "                    ).then(function(){\n",
       "                            \n",
       "var gd = document.getElementById('118c8146-175c-4b4f-b30c-9eb829b40a74');\n",
       "var x = new MutationObserver(function (mutations, observer) {{\n",
       "        var display = window.getComputedStyle(gd).display;\n",
       "        if (!display || display === 'none') {{\n",
       "            console.log([gd, 'removed!']);\n",
       "            Plotly.purge(gd);\n",
       "            observer.disconnect();\n",
       "        }}\n",
       "}});\n",
       "\n",
       "// Listen for the removal of the full notebook cells\n",
       "var notebookContainer = gd.closest('#notebook-container');\n",
       "if (notebookContainer) {{\n",
       "    x.observe(notebookContainer, {childList: true});\n",
       "}}\n",
       "\n",
       "// Listen for the clearing of the current output cell\n",
       "var outputEl = gd.closest('.output');\n",
       "if (outputEl) {{\n",
       "    x.observe(outputEl, {childList: true});\n",
       "}}\n",
       "\n",
       "                        })\n",
       "                };\n",
       "                });\n",
       "            </script>\n",
       "        </div>"
      ]
     },
     "metadata": {},
     "output_type": "display_data"
    }
   ],
   "source": [
    "grafica = g_boxplot_varios(df_test)\n",
    "py.iplot(grafica)"
   ]
  },
  {
   "cell_type": "markdown",
   "metadata": {},
   "source": [
    "### Conclusión\n",
    "\n",
    "> Todos los días se originan datos nuevos como resultado del entono económico global que está en constante cambio. \n",
    "\n",
    "> El conjunto de entrenamiento es predominante en el escenario  A estando por arriba de 35 y el menos relevante es el C estando por arriba de 20.\n",
    "\n",
    "> El conjunto de prueba es predominante en  el escenario C estando en 5 y el menos relevante es el A y B estando en 2.\n",
    "\n",
    ">Analistas e inversores tratan de encontrar patrones y buscan elaborar teorías sobre estos cambios para darles sentido, sin embargo, una teoría o un patrón no garantiza su comportamiento en el futuro.\n",
    "\n",
    "> Para el periodo que tomamos en cuenta para este analisis siempre contamos con un tipo de cambio alcista usando la estrategia de take profit y stop loss propuesta en el proyecto.\n",
    "\n",
    ">Sin embargo, este análisis permite a los inversores comprender observar de manera global lo que sucede en los mercados financieros.\n",
    "\n",
    ">Hubo una notable evolucion en el capital en el transcurso del tiempo utilizado que fue febrero 2019 a septiembre 2019, teniendo un inicio en 10.4 y ir ascendiendo en el transcurso del tiempo hasta llegar al final del periodo a 94.2\n"
   ]
  },
  {
   "cell_type": "code",
   "execution_count": null,
   "metadata": {},
   "outputs": [],
   "source": []
  }
 ],
 "metadata": {
  "kernelspec": {
   "display_name": "Python 3",
   "language": "python",
   "name": "python3"
  },
  "language_info": {
   "codemirror_mode": {
    "name": "ipython",
    "version": 3
   },
   "file_extension": ".py",
   "mimetype": "text/x-python",
   "name": "python",
   "nbconvert_exporter": "python",
   "pygments_lexer": "ipython3",
   "version": "3.7.1"
  }
 },
 "nbformat": 4,
 "nbformat_minor": 2
}
