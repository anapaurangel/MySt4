{
 "cells": [
  {
   "cell_type": "markdown",
   "metadata": {},
   "source": [
    "# Proyecto Final MyST\n",
    "\n",
    "\n",
    "Equipo:\n",
    "\n",
    "    o José Raúl Gallardo\n",
    "    o José Antonio Quintero\n",
    "    o Ana Paula Rangel\n",
    "    o Paulina Rodriguez\n"
   ]
  },
  {
   "cell_type": "markdown",
   "metadata": {},
   "source": [
    "#### Propósito:\n",
    "\n",
    "Diseñar una estrategia de trading con base a la reacción del precio ante el comunicado de indicadores macroeconómicos (Análisis fundamental). \n",
    "Pasos en general\n",
    "\n",
    "1. Utiliza el archivo de precios historicos\n",
    "\n",
    "2. Utiliza el archivo de calendario economico\n",
    "\n",
    "3. Divide los datos de la siguiente manera:\n",
    "\n",
    "    o Periodo de prueba: 01/ene/2019\n",
    "\n",
    "    o Periodo de entrenamiento: 01/mayo/2009 - 01/dic/2018 "
   ]
  },
  {
   "cell_type": "markdown",
   "metadata": {},
   "source": [
    "#### Reacción al precio\n",
    "\n",
    "    o A Actual >= Consensus >= Previous\n",
    "\n",
    "    o B Actual >= Consensus < Previous\n",
    "\n",
    "    o C Actual < Consensus >= Previous\n",
    "\n",
    "    o D Actual < Consensus < Previous "
   ]
  },
  {
   "cell_type": "markdown",
   "metadata": {},
   "source": [
    "#### Occurercias de tales escenarios\n",
    "\n",
    "    o A: 15 veces\n",
    "\n",
    "    o B: 0 Veces\n",
    "\n",
    "    o C: 40 veces\n",
    "\n",
    "    o D: 5 veces "
   ]
  },
  {
   "cell_type": "markdown",
   "metadata": {},
   "source": [
    "#### Métricas de cada  escenario\n",
    "    o (Dirección) Close (t_30) - Open(t_0)\n",
    "\n",
    "    o (Pips Alcistas) High(t_0 : t_30) – Open(t_0)\n",
    "\n",
    "    o (Pips Bajistas) Open(t_0) – Low(t_0 : t_30)\n",
    "\n",
    "    o (Volatilidad) High(t_-30 : t_30) , - mínimo low (t_-30:t_30) "
   ]
  },
  {
   "cell_type": "code",
   "execution_count": null,
   "metadata": {},
   "outputs": [],
   "source": []
  }
 ],
 "metadata": {
  "kernelspec": {
   "display_name": "Python 3",
   "language": "python",
   "name": "python3"
  },
  "language_info": {
   "codemirror_mode": {
    "name": "ipython",
    "version": 3
   },
   "file_extension": ".py",
   "mimetype": "text/x-python",
   "name": "python",
   "nbconvert_exporter": "python",
   "pygments_lexer": "ipython3",
   "version": "3.7.1"
  }
 },
 "nbformat": 4,
 "nbformat_minor": 2
}
